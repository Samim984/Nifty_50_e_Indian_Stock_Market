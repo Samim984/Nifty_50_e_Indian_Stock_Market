{
 "cells": [
  {
   "cell_type": "markdown",
   "id": "18cb9839",
   "metadata": {},
   "source": [
    "# Problem Statement:\n",
    "You have to analyze 2 decades of the Nifty 50 index in the Indian Stock Market and come up\n",
    "with strategies to invest for higher returns in the future."
   ]
  },
  {
   "cell_type": "markdown",
   "id": "f240bc0b",
   "metadata": {},
   "source": [
    "# Objective:\n",
    "Your objective is to analyze the data and come up with strategies to build a portfolio that will\n",
    "bring the maximum yield."
   ]
  },
  {
   "cell_type": "markdown",
   "id": "846fb788",
   "metadata": {},
   "source": [
    "# Tasks to be Performed:\n",
    "1. Analyze the indicators in the dataset that best explain the volatility and\n",
    "unpredictable nature of the stocks in the last decade.\n",
    "2. Choose promising stock based on your analysis for your portfolio\n",
    "3. Build a dashboard where you can analyze the performance of the stocks\n",
    "4. Feature engineer and build machine learning solutions for the business\n",
    "Requirements."
   ]
  },
  {
   "cell_type": "markdown",
   "id": "b6f86b8b",
   "metadata": {},
   "source": [
    "# Task 1: Analyze the indicators"
   ]
  },
  {
   "cell_type": "markdown",
   "id": "cfe2fa71",
   "metadata": {},
   "source": [
    "**1.Importing Necessary Libraries**"
   ]
  },
  {
   "cell_type": "code",
   "execution_count": 1,
   "id": "a0a696f9",
   "metadata": {},
   "outputs": [],
   "source": [
    "import pandas as pd                                                                     # for data manipulation\n",
    "import numpy as np                                                                      # for numerical operation\n",
    "import seaborn as sns                                                                   # for visualization\n",
    "import matplotlib.pyplot as plt                                                         # for visualization\n",
    "from sklearn.model_selection import train_test_split                                    # for spliting data to train & test sets\n",
    "from sklearn.linear_model import LinearRegression                                       # for clasification problems\n",
    "from sklearn.ensemble import RandomForestRegressor                                      # for clasification problems\n",
    "from sklearn.cluster import KMeans                                                      # for culstering\n",
    "from sklearn.preprocessing import StandardScaler, OrdinalEncoder                        # for scaling & encodeing\n",
    "from sklearn.impute import SimpleImputer                                                # for handling missing values\n",
    "from sklearn.metrics import classification_report, mean_squared_error, silhouette_score # To Evaluate Model"
   ]
  },
  {
   "cell_type": "code",
   "execution_count": 2,
   "id": "7de4aa9b",
   "metadata": {},
   "outputs": [],
   "source": [
    "# subpress warnings for cleaner output\n",
    "import warnings\n",
    "warnings.filterwarnings('ignore')"
   ]
  },
  {
   "cell_type": "markdown",
   "id": "92aff733",
   "metadata": {},
   "source": [
    "**2.Data Loading**"
   ]
  },
  {
   "cell_type": "code",
   "execution_count": 4,
   "id": "1408e15e",
   "metadata": {},
   "outputs": [],
   "source": [
    "df1 = pd.read_csv(r\"C:\\Users\\SAMIM IMTIAZ\\Desktop\\ADANIPORTS.csv\")\n",
    "df2 = pd.read_csv(r\"C:\\Users\\SAMIM IMTIAZ\\Desktop\\BAJAJFINSV.csv\")   \n",
    "df3 = pd.read_csv(r\"C:\\Users\\SAMIM IMTIAZ\\Desktop\\AXISBANK.csv\")                 "
   ]
  },
  {
   "cell_type": "code",
   "execution_count": 5,
   "id": "fa17c348",
   "metadata": {},
   "outputs": [
    {
     "data": {
      "text/html": [
       "<div>\n",
       "<style scoped>\n",
       "    .dataframe tbody tr th:only-of-type {\n",
       "        vertical-align: middle;\n",
       "    }\n",
       "\n",
       "    .dataframe tbody tr th {\n",
       "        vertical-align: top;\n",
       "    }\n",
       "\n",
       "    .dataframe thead th {\n",
       "        text-align: right;\n",
       "    }\n",
       "</style>\n",
       "<table border=\"1\" class=\"dataframe\">\n",
       "  <thead>\n",
       "    <tr style=\"text-align: right;\">\n",
       "      <th></th>\n",
       "      <th>Date</th>\n",
       "      <th>Symbol</th>\n",
       "      <th>Series</th>\n",
       "      <th>Prev Close</th>\n",
       "      <th>Open</th>\n",
       "      <th>High</th>\n",
       "      <th>Low</th>\n",
       "      <th>Last</th>\n",
       "      <th>Close</th>\n",
       "      <th>VWAP</th>\n",
       "      <th>Volume</th>\n",
       "      <th>Turnover</th>\n",
       "      <th>Trades</th>\n",
       "      <th>Deliverable Volume</th>\n",
       "      <th>%Deliverble</th>\n",
       "    </tr>\n",
       "  </thead>\n",
       "  <tbody>\n",
       "    <tr>\n",
       "      <th>0</th>\n",
       "      <td>2007-11-27</td>\n",
       "      <td>MUNDRAPORT</td>\n",
       "      <td>EQ</td>\n",
       "      <td>440.00</td>\n",
       "      <td>770.00</td>\n",
       "      <td>1050.00</td>\n",
       "      <td>770.0</td>\n",
       "      <td>959.0</td>\n",
       "      <td>962.90</td>\n",
       "      <td>984.72</td>\n",
       "      <td>27294366</td>\n",
       "      <td>2.687719e+15</td>\n",
       "      <td>NaN</td>\n",
       "      <td>9859619</td>\n",
       "      <td>0.3612</td>\n",
       "    </tr>\n",
       "    <tr>\n",
       "      <th>1</th>\n",
       "      <td>2007-11-28</td>\n",
       "      <td>MUNDRAPORT</td>\n",
       "      <td>EQ</td>\n",
       "      <td>962.90</td>\n",
       "      <td>984.00</td>\n",
       "      <td>990.00</td>\n",
       "      <td>874.0</td>\n",
       "      <td>885.0</td>\n",
       "      <td>893.90</td>\n",
       "      <td>941.38</td>\n",
       "      <td>4581338</td>\n",
       "      <td>4.312765e+14</td>\n",
       "      <td>NaN</td>\n",
       "      <td>1453278</td>\n",
       "      <td>0.3172</td>\n",
       "    </tr>\n",
       "    <tr>\n",
       "      <th>2</th>\n",
       "      <td>2007-11-29</td>\n",
       "      <td>MUNDRAPORT</td>\n",
       "      <td>EQ</td>\n",
       "      <td>893.90</td>\n",
       "      <td>909.00</td>\n",
       "      <td>914.75</td>\n",
       "      <td>841.0</td>\n",
       "      <td>887.0</td>\n",
       "      <td>884.20</td>\n",
       "      <td>888.09</td>\n",
       "      <td>5124121</td>\n",
       "      <td>4.550658e+14</td>\n",
       "      <td>NaN</td>\n",
       "      <td>1069678</td>\n",
       "      <td>0.2088</td>\n",
       "    </tr>\n",
       "    <tr>\n",
       "      <th>3</th>\n",
       "      <td>2007-11-30</td>\n",
       "      <td>MUNDRAPORT</td>\n",
       "      <td>EQ</td>\n",
       "      <td>884.20</td>\n",
       "      <td>890.00</td>\n",
       "      <td>958.00</td>\n",
       "      <td>890.0</td>\n",
       "      <td>929.0</td>\n",
       "      <td>921.55</td>\n",
       "      <td>929.17</td>\n",
       "      <td>4609762</td>\n",
       "      <td>4.283257e+14</td>\n",
       "      <td>NaN</td>\n",
       "      <td>1260913</td>\n",
       "      <td>0.2735</td>\n",
       "    </tr>\n",
       "    <tr>\n",
       "      <th>4</th>\n",
       "      <td>2007-12-03</td>\n",
       "      <td>MUNDRAPORT</td>\n",
       "      <td>EQ</td>\n",
       "      <td>921.55</td>\n",
       "      <td>939.75</td>\n",
       "      <td>995.00</td>\n",
       "      <td>922.0</td>\n",
       "      <td>980.0</td>\n",
       "      <td>969.30</td>\n",
       "      <td>965.65</td>\n",
       "      <td>2977470</td>\n",
       "      <td>2.875200e+14</td>\n",
       "      <td>NaN</td>\n",
       "      <td>816123</td>\n",
       "      <td>0.2741</td>\n",
       "    </tr>\n",
       "  </tbody>\n",
       "</table>\n",
       "</div>"
      ],
      "text/plain": [
       "         Date      Symbol Series  Prev Close    Open     High    Low   Last  \\\n",
       "0  2007-11-27  MUNDRAPORT     EQ      440.00  770.00  1050.00  770.0  959.0   \n",
       "1  2007-11-28  MUNDRAPORT     EQ      962.90  984.00   990.00  874.0  885.0   \n",
       "2  2007-11-29  MUNDRAPORT     EQ      893.90  909.00   914.75  841.0  887.0   \n",
       "3  2007-11-30  MUNDRAPORT     EQ      884.20  890.00   958.00  890.0  929.0   \n",
       "4  2007-12-03  MUNDRAPORT     EQ      921.55  939.75   995.00  922.0  980.0   \n",
       "\n",
       "    Close    VWAP    Volume      Turnover  Trades  Deliverable Volume  \\\n",
       "0  962.90  984.72  27294366  2.687719e+15     NaN             9859619   \n",
       "1  893.90  941.38   4581338  4.312765e+14     NaN             1453278   \n",
       "2  884.20  888.09   5124121  4.550658e+14     NaN             1069678   \n",
       "3  921.55  929.17   4609762  4.283257e+14     NaN             1260913   \n",
       "4  969.30  965.65   2977470  2.875200e+14     NaN              816123   \n",
       "\n",
       "   %Deliverble  \n",
       "0       0.3612  \n",
       "1       0.3172  \n",
       "2       0.2088  \n",
       "3       0.2735  \n",
       "4       0.2741  "
      ]
     },
     "execution_count": 5,
     "metadata": {},
     "output_type": "execute_result"
    }
   ],
   "source": [
    "df1.head()"
   ]
  },
  {
   "cell_type": "code",
   "execution_count": 6,
   "id": "b553cb36",
   "metadata": {},
   "outputs": [
    {
     "data": {
      "text/html": [
       "<div>\n",
       "<style scoped>\n",
       "    .dataframe tbody tr th:only-of-type {\n",
       "        vertical-align: middle;\n",
       "    }\n",
       "\n",
       "    .dataframe tbody tr th {\n",
       "        vertical-align: top;\n",
       "    }\n",
       "\n",
       "    .dataframe thead th {\n",
       "        text-align: right;\n",
       "    }\n",
       "</style>\n",
       "<table border=\"1\" class=\"dataframe\">\n",
       "  <thead>\n",
       "    <tr style=\"text-align: right;\">\n",
       "      <th></th>\n",
       "      <th>Date</th>\n",
       "      <th>Symbol</th>\n",
       "      <th>Series</th>\n",
       "      <th>Prev Close</th>\n",
       "      <th>Open</th>\n",
       "      <th>High</th>\n",
       "      <th>Low</th>\n",
       "      <th>Last</th>\n",
       "      <th>Close</th>\n",
       "      <th>VWAP</th>\n",
       "      <th>Volume</th>\n",
       "      <th>Turnover</th>\n",
       "      <th>Trades</th>\n",
       "      <th>Deliverable Volume</th>\n",
       "      <th>%Deliverble</th>\n",
       "    </tr>\n",
       "  </thead>\n",
       "  <tbody>\n",
       "    <tr>\n",
       "      <th>0</th>\n",
       "      <td>2008-05-26</td>\n",
       "      <td>BAJAJFINSV</td>\n",
       "      <td>EQ</td>\n",
       "      <td>2101.05</td>\n",
       "      <td>600.00</td>\n",
       "      <td>619.00</td>\n",
       "      <td>501.0</td>\n",
       "      <td>505.1</td>\n",
       "      <td>509.10</td>\n",
       "      <td>548.85</td>\n",
       "      <td>3145446</td>\n",
       "      <td>1.726368e+14</td>\n",
       "      <td>NaN</td>\n",
       "      <td>908264</td>\n",
       "      <td>0.2888</td>\n",
       "    </tr>\n",
       "    <tr>\n",
       "      <th>1</th>\n",
       "      <td>2008-05-27</td>\n",
       "      <td>BAJAJFINSV</td>\n",
       "      <td>EQ</td>\n",
       "      <td>509.10</td>\n",
       "      <td>505.00</td>\n",
       "      <td>610.95</td>\n",
       "      <td>491.1</td>\n",
       "      <td>564.0</td>\n",
       "      <td>554.65</td>\n",
       "      <td>572.15</td>\n",
       "      <td>4349144</td>\n",
       "      <td>2.488370e+14</td>\n",
       "      <td>NaN</td>\n",
       "      <td>677627</td>\n",
       "      <td>0.1558</td>\n",
       "    </tr>\n",
       "    <tr>\n",
       "      <th>2</th>\n",
       "      <td>2008-05-28</td>\n",
       "      <td>BAJAJFINSV</td>\n",
       "      <td>EQ</td>\n",
       "      <td>554.65</td>\n",
       "      <td>564.00</td>\n",
       "      <td>665.60</td>\n",
       "      <td>564.0</td>\n",
       "      <td>643.0</td>\n",
       "      <td>640.95</td>\n",
       "      <td>618.37</td>\n",
       "      <td>4588759</td>\n",
       "      <td>2.837530e+14</td>\n",
       "      <td>NaN</td>\n",
       "      <td>774895</td>\n",
       "      <td>0.1689</td>\n",
       "    </tr>\n",
       "    <tr>\n",
       "      <th>3</th>\n",
       "      <td>2008-05-29</td>\n",
       "      <td>BAJAJFINSV</td>\n",
       "      <td>EQ</td>\n",
       "      <td>640.95</td>\n",
       "      <td>656.65</td>\n",
       "      <td>703.00</td>\n",
       "      <td>608.0</td>\n",
       "      <td>634.5</td>\n",
       "      <td>632.40</td>\n",
       "      <td>659.60</td>\n",
       "      <td>4522302</td>\n",
       "      <td>2.982921e+14</td>\n",
       "      <td>NaN</td>\n",
       "      <td>1006161</td>\n",
       "      <td>0.2225</td>\n",
       "    </tr>\n",
       "    <tr>\n",
       "      <th>4</th>\n",
       "      <td>2008-05-30</td>\n",
       "      <td>BAJAJFINSV</td>\n",
       "      <td>EQ</td>\n",
       "      <td>632.40</td>\n",
       "      <td>642.40</td>\n",
       "      <td>668.00</td>\n",
       "      <td>588.3</td>\n",
       "      <td>647.0</td>\n",
       "      <td>644.00</td>\n",
       "      <td>636.41</td>\n",
       "      <td>3057669</td>\n",
       "      <td>1.945929e+14</td>\n",
       "      <td>NaN</td>\n",
       "      <td>462832</td>\n",
       "      <td>0.1514</td>\n",
       "    </tr>\n",
       "  </tbody>\n",
       "</table>\n",
       "</div>"
      ],
      "text/plain": [
       "         Date      Symbol Series  Prev Close    Open    High    Low   Last  \\\n",
       "0  2008-05-26  BAJAJFINSV     EQ     2101.05  600.00  619.00  501.0  505.1   \n",
       "1  2008-05-27  BAJAJFINSV     EQ      509.10  505.00  610.95  491.1  564.0   \n",
       "2  2008-05-28  BAJAJFINSV     EQ      554.65  564.00  665.60  564.0  643.0   \n",
       "3  2008-05-29  BAJAJFINSV     EQ      640.95  656.65  703.00  608.0  634.5   \n",
       "4  2008-05-30  BAJAJFINSV     EQ      632.40  642.40  668.00  588.3  647.0   \n",
       "\n",
       "    Close    VWAP   Volume      Turnover  Trades  Deliverable Volume  \\\n",
       "0  509.10  548.85  3145446  1.726368e+14     NaN              908264   \n",
       "1  554.65  572.15  4349144  2.488370e+14     NaN              677627   \n",
       "2  640.95  618.37  4588759  2.837530e+14     NaN              774895   \n",
       "3  632.40  659.60  4522302  2.982921e+14     NaN             1006161   \n",
       "4  644.00  636.41  3057669  1.945929e+14     NaN              462832   \n",
       "\n",
       "   %Deliverble  \n",
       "0       0.2888  \n",
       "1       0.1558  \n",
       "2       0.1689  \n",
       "3       0.2225  \n",
       "4       0.1514  "
      ]
     },
     "execution_count": 6,
     "metadata": {},
     "output_type": "execute_result"
    }
   ],
   "source": [
    "df2.head()"
   ]
  },
  {
   "cell_type": "code",
   "execution_count": 7,
   "id": "0c68fa7e",
   "metadata": {},
   "outputs": [
    {
     "data": {
      "text/html": [
       "<div>\n",
       "<style scoped>\n",
       "    .dataframe tbody tr th:only-of-type {\n",
       "        vertical-align: middle;\n",
       "    }\n",
       "\n",
       "    .dataframe tbody tr th {\n",
       "        vertical-align: top;\n",
       "    }\n",
       "\n",
       "    .dataframe thead th {\n",
       "        text-align: right;\n",
       "    }\n",
       "</style>\n",
       "<table border=\"1\" class=\"dataframe\">\n",
       "  <thead>\n",
       "    <tr style=\"text-align: right;\">\n",
       "      <th></th>\n",
       "      <th>Date</th>\n",
       "      <th>Symbol</th>\n",
       "      <th>Series</th>\n",
       "      <th>Prev Close</th>\n",
       "      <th>Open</th>\n",
       "      <th>High</th>\n",
       "      <th>Low</th>\n",
       "      <th>Last</th>\n",
       "      <th>Close</th>\n",
       "      <th>VWAP</th>\n",
       "      <th>Volume</th>\n",
       "      <th>Turnover</th>\n",
       "      <th>Trades</th>\n",
       "      <th>Deliverable Volume</th>\n",
       "      <th>%Deliverble</th>\n",
       "    </tr>\n",
       "  </thead>\n",
       "  <tbody>\n",
       "    <tr>\n",
       "      <th>0</th>\n",
       "      <td>2000-01-03</td>\n",
       "      <td>UTIBANK</td>\n",
       "      <td>EQ</td>\n",
       "      <td>24.70</td>\n",
       "      <td>26.7</td>\n",
       "      <td>26.70</td>\n",
       "      <td>26.70</td>\n",
       "      <td>26.7</td>\n",
       "      <td>26.70</td>\n",
       "      <td>26.70</td>\n",
       "      <td>112100</td>\n",
       "      <td>2.993070e+11</td>\n",
       "      <td>NaN</td>\n",
       "      <td>NaN</td>\n",
       "      <td>NaN</td>\n",
       "    </tr>\n",
       "    <tr>\n",
       "      <th>1</th>\n",
       "      <td>2000-01-04</td>\n",
       "      <td>UTIBANK</td>\n",
       "      <td>EQ</td>\n",
       "      <td>26.70</td>\n",
       "      <td>27.0</td>\n",
       "      <td>28.70</td>\n",
       "      <td>26.50</td>\n",
       "      <td>27.0</td>\n",
       "      <td>26.85</td>\n",
       "      <td>27.24</td>\n",
       "      <td>234500</td>\n",
       "      <td>6.387275e+11</td>\n",
       "      <td>NaN</td>\n",
       "      <td>NaN</td>\n",
       "      <td>NaN</td>\n",
       "    </tr>\n",
       "    <tr>\n",
       "      <th>2</th>\n",
       "      <td>2000-01-05</td>\n",
       "      <td>UTIBANK</td>\n",
       "      <td>EQ</td>\n",
       "      <td>26.85</td>\n",
       "      <td>26.0</td>\n",
       "      <td>27.75</td>\n",
       "      <td>25.50</td>\n",
       "      <td>26.4</td>\n",
       "      <td>26.30</td>\n",
       "      <td>26.24</td>\n",
       "      <td>170100</td>\n",
       "      <td>4.462980e+11</td>\n",
       "      <td>NaN</td>\n",
       "      <td>NaN</td>\n",
       "      <td>NaN</td>\n",
       "    </tr>\n",
       "    <tr>\n",
       "      <th>3</th>\n",
       "      <td>2000-01-06</td>\n",
       "      <td>UTIBANK</td>\n",
       "      <td>EQ</td>\n",
       "      <td>26.30</td>\n",
       "      <td>25.8</td>\n",
       "      <td>27.00</td>\n",
       "      <td>25.80</td>\n",
       "      <td>25.9</td>\n",
       "      <td>25.95</td>\n",
       "      <td>26.27</td>\n",
       "      <td>102100</td>\n",
       "      <td>2.681730e+11</td>\n",
       "      <td>NaN</td>\n",
       "      <td>NaN</td>\n",
       "      <td>NaN</td>\n",
       "    </tr>\n",
       "    <tr>\n",
       "      <th>4</th>\n",
       "      <td>2000-01-07</td>\n",
       "      <td>UTIBANK</td>\n",
       "      <td>EQ</td>\n",
       "      <td>25.95</td>\n",
       "      <td>25.0</td>\n",
       "      <td>26.00</td>\n",
       "      <td>24.25</td>\n",
       "      <td>25.0</td>\n",
       "      <td>24.80</td>\n",
       "      <td>25.04</td>\n",
       "      <td>62600</td>\n",
       "      <td>1.567220e+11</td>\n",
       "      <td>NaN</td>\n",
       "      <td>NaN</td>\n",
       "      <td>NaN</td>\n",
       "    </tr>\n",
       "  </tbody>\n",
       "</table>\n",
       "</div>"
      ],
      "text/plain": [
       "         Date   Symbol Series  Prev Close  Open   High    Low  Last  Close  \\\n",
       "0  2000-01-03  UTIBANK     EQ       24.70  26.7  26.70  26.70  26.7  26.70   \n",
       "1  2000-01-04  UTIBANK     EQ       26.70  27.0  28.70  26.50  27.0  26.85   \n",
       "2  2000-01-05  UTIBANK     EQ       26.85  26.0  27.75  25.50  26.4  26.30   \n",
       "3  2000-01-06  UTIBANK     EQ       26.30  25.8  27.00  25.80  25.9  25.95   \n",
       "4  2000-01-07  UTIBANK     EQ       25.95  25.0  26.00  24.25  25.0  24.80   \n",
       "\n",
       "    VWAP  Volume      Turnover  Trades  Deliverable Volume  %Deliverble  \n",
       "0  26.70  112100  2.993070e+11     NaN                 NaN          NaN  \n",
       "1  27.24  234500  6.387275e+11     NaN                 NaN          NaN  \n",
       "2  26.24  170100  4.462980e+11     NaN                 NaN          NaN  \n",
       "3  26.27  102100  2.681730e+11     NaN                 NaN          NaN  \n",
       "4  25.04   62600  1.567220e+11     NaN                 NaN          NaN  "
      ]
     },
     "execution_count": 7,
     "metadata": {},
     "output_type": "execute_result"
    }
   ],
   "source": [
    "df3.head()"
   ]
  },
  {
   "cell_type": "markdown",
   "id": "65c86dcb",
   "metadata": {},
   "source": [
    "**3.Visulization** "
   ]
  },
  {
   "cell_type": "code",
   "execution_count": 12,
   "id": "627a32d7",
   "metadata": {},
   "outputs": [
    {
     "data": {
      "image/png": "[encoded data removed]",
      "text/plain": [
       "<Figure size 720x432 with 1 Axes>"
      ]
     },
     "metadata": {
      "needs_background": "light"
     },
     "output_type": "display_data"
    }
   ],
   "source": [
    "# Plot the closing prices of each stock\n",
    "plt.figure(figsize=(10,6))\n",
    "plt.plot(df1['Close'], label='ADANIPORTS')\n",
    "plt.plot(df2['Close'], label='BAJAJFINSV')\n",
    "plt.plot(df3['Close'], label='AXISBANK')\n",
    "plt.title('Closing Prices')\n",
    "plt.xlabel('Date')\n",
    "plt.ylabel('Price')\n",
    "plt.legend()\n",
    "plt.show()"
   ]
  },
  {
   "cell_type": "markdown",
   "id": "ce7c171f",
   "metadata": {},
   "source": [
    "**Observations and Insights:**\n",
    "    \n",
    "**1.BAJAJFINSV (Orange Line):**\n",
    "\n",
    "This stock shows significant growth over time, with a sharp and consistent upward trend starting at a point of relatively low prices.\n",
    "There are periods of high volatility, indicated by large spikes and dips in the graph.\n",
    "This suggests that BAJAJFINSV experienced rapid appreciation in value, likely making it a high-growth but high-risk investment.\n",
    "\n",
    "**2.AXISBANK (Green Line):**\n",
    "\n",
    "AXISBANK shows a more stable trend compared to BAJAJFINSV.\n",
    "The movements are smoother, indicating lower volatility. However, there are still some visible price fluctuations.\n",
    "It seems to have a gradual upward movement with some periods of slight decline or stagnation.\n",
    "\n",
    "**3.ADANIPORTS (Blue Line):**\n",
    "\n",
    "ADANIPORTS appears to exhibit relatively low volatility with a flatter or more consistent movement pattern.\n",
    "There is no dramatic upward or downward movement compared to BAJAJFINSV, indicating steadier but more moderate performance.\n",
    "\n",
    "**Key Insights:**\n",
    "    \n",
    "- Volatility and Risk: BAJAJFINSV shows the most volatile pattern, suggesting high returns potential but greater risk. This would be a key factor for investors looking at risk-reward trade-offs.\n",
    "    \n",
    "- Stability: AXISBANK demonstrates moderate growth with lower volatility, suitable for more conservative investors.\n",
    "    \n",
    "- Growth Trends: ADANIPORTS appears more stable but less aggressive in terms of growth, indicative of a potentially safer but lower-yield investment."
   ]
  },
  {
   "cell_type": "code",
   "execution_count": 8,
   "id": "b2be8264",
   "metadata": {},
   "outputs": [],
   "source": [
    "# Concatenate the datasets\n",
    "df = pd.concat([df1, df2, df3])"
   ]
  },
  {
   "cell_type": "code",
   "execution_count": 13,
   "id": "369bbeaf",
   "metadata": {},
   "outputs": [],
   "source": [
    "# Add a column to identify the stock\n",
    "df1['Stock'] = 'ADANIPORTS'\n",
    "df2['Stock'] = 'BAJAJFINSV'\n",
    "df3['Stock'] = 'AXISBANK'"
   ]
  },
  {
   "cell_type": "code",
   "execution_count": 15,
   "id": "c1a323d7",
   "metadata": {},
   "outputs": [
    {
     "data": {
      "text/html": [
       "<div>\n",
       "<style scoped>\n",
       "    .dataframe tbody tr th:only-of-type {\n",
       "        vertical-align: middle;\n",
       "    }\n",
       "\n",
       "    .dataframe tbody tr th {\n",
       "        vertical-align: top;\n",
       "    }\n",
       "\n",
       "    .dataframe thead th {\n",
       "        text-align: right;\n",
       "    }\n",
       "</style>\n",
       "<table border=\"1\" class=\"dataframe\">\n",
       "  <thead>\n",
       "    <tr style=\"text-align: right;\">\n",
       "      <th></th>\n",
       "      <th>Date</th>\n",
       "      <th>Symbol</th>\n",
       "      <th>Series</th>\n",
       "      <th>Prev Close</th>\n",
       "      <th>Open</th>\n",
       "      <th>High</th>\n",
       "      <th>Low</th>\n",
       "      <th>Last</th>\n",
       "      <th>Close</th>\n",
       "      <th>VWAP</th>\n",
       "      <th>Volume</th>\n",
       "      <th>Turnover</th>\n",
       "      <th>Trades</th>\n",
       "      <th>Deliverable Volume</th>\n",
       "      <th>%Deliverble</th>\n",
       "      <th>Stock</th>\n",
       "    </tr>\n",
       "  </thead>\n",
       "  <tbody>\n",
       "    <tr>\n",
       "      <th>0</th>\n",
       "      <td>2007-11-27</td>\n",
       "      <td>MUNDRAPORT</td>\n",
       "      <td>EQ</td>\n",
       "      <td>440.00</td>\n",
       "      <td>770.00</td>\n",
       "      <td>1050.00</td>\n",
       "      <td>770.0</td>\n",
       "      <td>959.0</td>\n",
       "      <td>962.90</td>\n",
       "      <td>984.72</td>\n",
       "      <td>27294366</td>\n",
       "      <td>2.687719e+15</td>\n",
       "      <td>NaN</td>\n",
       "      <td>9859619.0</td>\n",
       "      <td>0.3612</td>\n",
       "      <td>ADANIPORTS</td>\n",
       "    </tr>\n",
       "    <tr>\n",
       "      <th>1</th>\n",
       "      <td>2007-11-28</td>\n",
       "      <td>MUNDRAPORT</td>\n",
       "      <td>EQ</td>\n",
       "      <td>962.90</td>\n",
       "      <td>984.00</td>\n",
       "      <td>990.00</td>\n",
       "      <td>874.0</td>\n",
       "      <td>885.0</td>\n",
       "      <td>893.90</td>\n",
       "      <td>941.38</td>\n",
       "      <td>4581338</td>\n",
       "      <td>4.312765e+14</td>\n",
       "      <td>NaN</td>\n",
       "      <td>1453278.0</td>\n",
       "      <td>0.3172</td>\n",
       "      <td>ADANIPORTS</td>\n",
       "    </tr>\n",
       "    <tr>\n",
       "      <th>2</th>\n",
       "      <td>2007-11-29</td>\n",
       "      <td>MUNDRAPORT</td>\n",
       "      <td>EQ</td>\n",
       "      <td>893.90</td>\n",
       "      <td>909.00</td>\n",
       "      <td>914.75</td>\n",
       "      <td>841.0</td>\n",
       "      <td>887.0</td>\n",
       "      <td>884.20</td>\n",
       "      <td>888.09</td>\n",
       "      <td>5124121</td>\n",
       "      <td>4.550658e+14</td>\n",
       "      <td>NaN</td>\n",
       "      <td>1069678.0</td>\n",
       "      <td>0.2088</td>\n",
       "      <td>ADANIPORTS</td>\n",
       "    </tr>\n",
       "    <tr>\n",
       "      <th>3</th>\n",
       "      <td>2007-11-30</td>\n",
       "      <td>MUNDRAPORT</td>\n",
       "      <td>EQ</td>\n",
       "      <td>884.20</td>\n",
       "      <td>890.00</td>\n",
       "      <td>958.00</td>\n",
       "      <td>890.0</td>\n",
       "      <td>929.0</td>\n",
       "      <td>921.55</td>\n",
       "      <td>929.17</td>\n",
       "      <td>4609762</td>\n",
       "      <td>4.283257e+14</td>\n",
       "      <td>NaN</td>\n",
       "      <td>1260913.0</td>\n",
       "      <td>0.2735</td>\n",
       "      <td>ADANIPORTS</td>\n",
       "    </tr>\n",
       "    <tr>\n",
       "      <th>4</th>\n",
       "      <td>2007-12-03</td>\n",
       "      <td>MUNDRAPORT</td>\n",
       "      <td>EQ</td>\n",
       "      <td>921.55</td>\n",
       "      <td>939.75</td>\n",
       "      <td>995.00</td>\n",
       "      <td>922.0</td>\n",
       "      <td>980.0</td>\n",
       "      <td>969.30</td>\n",
       "      <td>965.65</td>\n",
       "      <td>2977470</td>\n",
       "      <td>2.875200e+14</td>\n",
       "      <td>NaN</td>\n",
       "      <td>816123.0</td>\n",
       "      <td>0.2741</td>\n",
       "      <td>ADANIPORTS</td>\n",
       "    </tr>\n",
       "  </tbody>\n",
       "</table>\n",
       "</div>"
      ],
      "text/plain": [
       "         Date      Symbol Series  Prev Close    Open     High    Low   Last  \\\n",
       "0  2007-11-27  MUNDRAPORT     EQ      440.00  770.00  1050.00  770.0  959.0   \n",
       "1  2007-11-28  MUNDRAPORT     EQ      962.90  984.00   990.00  874.0  885.0   \n",
       "2  2007-11-29  MUNDRAPORT     EQ      893.90  909.00   914.75  841.0  887.0   \n",
       "3  2007-11-30  MUNDRAPORT     EQ      884.20  890.00   958.00  890.0  929.0   \n",
       "4  2007-12-03  MUNDRAPORT     EQ      921.55  939.75   995.00  922.0  980.0   \n",
       "\n",
       "    Close    VWAP    Volume      Turnover  Trades  Deliverable Volume  \\\n",
       "0  962.90  984.72  27294366  2.687719e+15     NaN           9859619.0   \n",
       "1  893.90  941.38   4581338  4.312765e+14     NaN           1453278.0   \n",
       "2  884.20  888.09   5124121  4.550658e+14     NaN           1069678.0   \n",
       "3  921.55  929.17   4609762  4.283257e+14     NaN           1260913.0   \n",
       "4  969.30  965.65   2977470  2.875200e+14     NaN            816123.0   \n",
       "\n",
       "   %Deliverble       Stock  \n",
       "0       0.3612  ADANIPORTS  \n",
       "1       0.3172  ADANIPORTS  \n",
       "2       0.2088  ADANIPORTS  \n",
       "3       0.2735  ADANIPORTS  \n",
       "4       0.2741  ADANIPORTS  "
      ]
     },
     "execution_count": 15,
     "metadata": {},
     "output_type": "execute_result"
    }
   ],
   "source": [
    "# Combine the datasets\n",
    "df = pd.concat([df1, df2, df3])\n",
    "df.head()"
   ]
  },
  {
   "cell_type": "code",
   "execution_count": 21,
   "id": "abc4b340",
   "metadata": {},
   "outputs": [
    {
     "data": {
      "text/html": [
       "<div>\n",
       "<style scoped>\n",
       "    .dataframe tbody tr th:only-of-type {\n",
       "        vertical-align: middle;\n",
       "    }\n",
       "\n",
       "    .dataframe tbody tr th {\n",
       "        vertical-align: top;\n",
       "    }\n",
       "\n",
       "    .dataframe thead th {\n",
       "        text-align: right;\n",
       "    }\n",
       "</style>\n",
       "<table border=\"1\" class=\"dataframe\">\n",
       "  <thead>\n",
       "    <tr style=\"text-align: right;\">\n",
       "      <th></th>\n",
       "      <th>Prev Close</th>\n",
       "      <th>Open</th>\n",
       "      <th>High</th>\n",
       "      <th>Low</th>\n",
       "      <th>Last</th>\n",
       "      <th>Close</th>\n",
       "      <th>VWAP</th>\n",
       "      <th>Volume</th>\n",
       "      <th>Turnover</th>\n",
       "      <th>Trades</th>\n",
       "      <th>Deliverable Volume</th>\n",
       "      <th>%Deliverble</th>\n",
       "    </tr>\n",
       "  </thead>\n",
       "  <tbody>\n",
       "    <tr>\n",
       "      <th>count</th>\n",
       "      <td>11829.000000</td>\n",
       "      <td>11829.000000</td>\n",
       "      <td>11829.000000</td>\n",
       "      <td>11829.000000</td>\n",
       "      <td>11829.000000</td>\n",
       "      <td>11829.000000</td>\n",
       "      <td>11829.000000</td>\n",
       "      <td>1.182900e+04</td>\n",
       "      <td>1.182900e+04</td>\n",
       "      <td>7.368000e+03</td>\n",
       "      <td>1.132000e+04</td>\n",
       "      <td>11320.000000</td>\n",
       "    </tr>\n",
       "    <tr>\n",
       "      <th>mean</th>\n",
       "      <td>1105.142671</td>\n",
       "      <td>1106.880966</td>\n",
       "      <td>1124.973734</td>\n",
       "      <td>1088.132678</td>\n",
       "      <td>1106.027141</td>\n",
       "      <td>1105.981359</td>\n",
       "      <td>1106.923186</td>\n",
       "      <td>2.923445e+06</td>\n",
       "      <td>1.787507e+14</td>\n",
       "      <td>6.213921e+04</td>\n",
       "      <td>1.218965e+06</td>\n",
       "      <td>0.462096</td>\n",
       "    </tr>\n",
       "    <tr>\n",
       "      <th>std</th>\n",
       "      <td>1829.003431</td>\n",
       "      <td>1832.068294</td>\n",
       "      <td>1857.558195</td>\n",
       "      <td>1805.493600</td>\n",
       "      <td>1831.370422</td>\n",
       "      <td>1831.230504</td>\n",
       "      <td>1831.978019</td>\n",
       "      <td>6.110580e+06</td>\n",
       "      <td>3.402796e+14</td>\n",
       "      <td>7.793597e+04</td>\n",
       "      <td>2.391440e+06</td>\n",
       "      <td>0.179755</td>\n",
       "    </tr>\n",
       "    <tr>\n",
       "      <th>min</th>\n",
       "      <td>22.150000</td>\n",
       "      <td>21.000000</td>\n",
       "      <td>23.700000</td>\n",
       "      <td>21.000000</td>\n",
       "      <td>22.150000</td>\n",
       "      <td>22.150000</td>\n",
       "      <td>22.170000</td>\n",
       "      <td>4.570000e+02</td>\n",
       "      <td>8.275250e+09</td>\n",
       "      <td>1.490000e+02</td>\n",
       "      <td>4.560000e+02</td>\n",
       "      <td>0.056200</td>\n",
       "    </tr>\n",
       "    <tr>\n",
       "      <th>25%</th>\n",
       "      <td>276.600000</td>\n",
       "      <td>277.050000</td>\n",
       "      <td>284.800000</td>\n",
       "      <td>271.250000</td>\n",
       "      <td>276.700000</td>\n",
       "      <td>276.650000</td>\n",
       "      <td>277.290000</td>\n",
       "      <td>1.413340e+05</td>\n",
       "      <td>7.003731e+12</td>\n",
       "      <td>1.442800e+04</td>\n",
       "      <td>6.902050e+04</td>\n",
       "      <td>0.329975</td>\n",
       "    </tr>\n",
       "    <tr>\n",
       "      <th>50%</th>\n",
       "      <td>504.650000</td>\n",
       "      <td>505.000000</td>\n",
       "      <td>514.000000</td>\n",
       "      <td>496.000000</td>\n",
       "      <td>505.200000</td>\n",
       "      <td>504.700000</td>\n",
       "      <td>506.140000</td>\n",
       "      <td>8.538830e+05</td>\n",
       "      <td>6.099998e+13</td>\n",
       "      <td>3.971150e+04</td>\n",
       "      <td>3.850415e+05</td>\n",
       "      <td>0.457400</td>\n",
       "    </tr>\n",
       "    <tr>\n",
       "      <th>75%</th>\n",
       "      <td>936.800000</td>\n",
       "      <td>936.100000</td>\n",
       "      <td>953.500000</td>\n",
       "      <td>921.100000</td>\n",
       "      <td>935.800000</td>\n",
       "      <td>936.800000</td>\n",
       "      <td>937.120000</td>\n",
       "      <td>3.145833e+06</td>\n",
       "      <td>2.098148e+14</td>\n",
       "      <td>7.940650e+04</td>\n",
       "      <td>1.359460e+06</td>\n",
       "      <td>0.581800</td>\n",
       "    </tr>\n",
       "    <tr>\n",
       "      <th>max</th>\n",
       "      <td>11176.550000</td>\n",
       "      <td>11000.000000</td>\n",
       "      <td>11300.000000</td>\n",
       "      <td>10868.700000</td>\n",
       "      <td>11175.450000</td>\n",
       "      <td>11176.550000</td>\n",
       "      <td>11081.780000</td>\n",
       "      <td>1.205419e+08</td>\n",
       "      <td>8.160988e+15</td>\n",
       "      <td>1.205984e+06</td>\n",
       "      <td>9.490116e+07</td>\n",
       "      <td>1.000000</td>\n",
       "    </tr>\n",
       "  </tbody>\n",
       "</table>\n",
       "</div>"
      ],
      "text/plain": [
       "         Prev Close          Open          High           Low          Last  \\\n",
       "count  11829.000000  11829.000000  11829.000000  11829.000000  11829.000000   \n",
       "mean    1105.142671   1106.880966   1124.973734   1088.132678   1106.027141   \n",
       "std     1829.003431   1832.068294   1857.558195   1805.493600   1831.370422   \n",
       "min       22.150000     21.000000     23.700000     21.000000     22.150000   \n",
       "25%      276.600000    277.050000    284.800000    271.250000    276.700000   \n",
       "50%      504.650000    505.000000    514.000000    496.000000    505.200000   \n",
       "75%      936.800000    936.100000    953.500000    921.100000    935.800000   \n",
       "max    11176.550000  11000.000000  11300.000000  10868.700000  11175.450000   \n",
       "\n",
       "              Close          VWAP        Volume      Turnover        Trades  \\\n",
       "count  11829.000000  11829.000000  1.182900e+04  1.182900e+04  7.368000e+03   \n",
       "mean    1105.981359   1106.923186  2.923445e+06  1.787507e+14  6.213921e+04   \n",
       "std     1831.230504   1831.978019  6.110580e+06  3.402796e+14  7.793597e+04   \n",
       "min       22.150000     22.170000  4.570000e+02  8.275250e+09  1.490000e+02   \n",
       "25%      276.650000    277.290000  1.413340e+05  7.003731e+12  1.442800e+04   \n",
       "50%      504.700000    506.140000  8.538830e+05  6.099998e+13  3.971150e+04   \n",
       "75%      936.800000    937.120000  3.145833e+06  2.098148e+14  7.940650e+04   \n",
       "max    11176.550000  11081.780000  1.205419e+08  8.160988e+15  1.205984e+06   \n",
       "\n",
       "       Deliverable Volume   %Deliverble  \n",
       "count        1.132000e+04  11320.000000  \n",
       "mean         1.218965e+06      0.462096  \n",
       "std          2.391440e+06      0.179755  \n",
       "min          4.560000e+02      0.056200  \n",
       "25%          6.902050e+04      0.329975  \n",
       "50%          3.850415e+05      0.457400  \n",
       "75%          1.359460e+06      0.581800  \n",
       "max          9.490116e+07      1.000000  "
      ]
     },
     "execution_count": 21,
     "metadata": {},
     "output_type": "execute_result"
    }
   ],
   "source": [
    "# Calculate summary statistics\n",
    "df.describe()"
   ]
  },
  {
   "cell_type": "code",
   "execution_count": 23,
   "id": "55ed150d",
   "metadata": {},
   "outputs": [],
   "source": [
    "df['Returns'] = df['Close'].pct_change()"
   ]
  },
  {
   "cell_type": "code",
   "execution_count": 24,
   "id": "c88a3826",
   "metadata": {},
   "outputs": [
    {
     "data": {
      "image/png": "[encoded data removed]",
      "text/plain": [
       "<Figure size 720x432 with 1 Axes>"
      ]
     },
     "metadata": {
      "needs_background": "light"
     },
     "output_type": "display_data"
    }
   ],
   "source": [
    "# let's plot the daily returns to visualize the volatility and trends:\n",
    "plt.figure(figsize=(10,6))\n",
    "plt.plot(df['Returns'])\n",
    "plt.title('Daily Returns')\n",
    "plt.xlabel('Date')\n",
    "plt.ylabel('Return')\n",
    "plt.show()"
   ]
  },
  {
   "cell_type": "code",
   "execution_count": 26,
   "id": "c0b0a94d",
   "metadata": {},
   "outputs": [],
   "source": [
    "# calculate the correlation matrix\n",
    "# Pivot the data to calculate the correlation matrix\n",
    "df_pivot = df.pivot_table(index=df.index, columns='Stock', values='Close')"
   ]
  },
  {
   "cell_type": "code",
   "execution_count": 27,
   "id": "833e9db6",
   "metadata": {},
   "outputs": [
    {
     "name": "stdout",
     "output_type": "stream",
     "text": [
      "Stock       ADANIPORTS  AXISBANK  BAJAJFINSV\n",
      "Stock                                       \n",
      "ADANIPORTS    1.000000  0.024488    0.021415\n",
      "AXISBANK      0.024488  1.000000    0.895631\n",
      "BAJAJFINSV    0.021415  0.895631    1.000000\n"
     ]
    }
   ],
   "source": [
    "# Calculate the correlation matrix\n",
    "correlation_matrix = df_pivot.corr()\n",
    "print(correlation_matrix)"
   ]
  },
  {
   "cell_type": "markdown",
   "id": "d31dd14f",
   "metadata": {},
   "source": [
    "**Insights of correlation**\n",
    "\n",
    "- ADANIPORTS and AXISBANK have a very low correlation of 0.024488, indicating that their price movements are largely independent.\n",
    "\n",
    "- ADANIPORTS and BAJAJFINSV also have a low correlation of 0.021415, indicating that their price movements are not strongly related.\n",
    "\n",
    "- AXISBANK and BAJAJFINSV have a high correlation of 0.895631, indicating that their price movements are strongly positively correlated. This means that when AXISBANK's price moves, BAJAJFINSV's price tends to move in the same direction."
   ]
  },
  {
   "cell_type": "code",
   "execution_count": 33,
   "id": "d173484d",
   "metadata": {},
   "outputs": [
    {
     "data": {
      "image/png": "[encoded data removed]",
      "text/plain": [
       "<Figure size 720x288 with 3 Axes>"
      ]
     },
     "metadata": {
      "needs_background": "light"
     },
     "output_type": "display_data"
    }
   ],
   "source": [
    "import matplotlib.pyplot as plt\n",
    "\n",
    "# Create scatter plots\n",
    "plt.figure(figsize=(10,4))\n",
    "\n",
    "plt.subplot(1,3,1)\n",
    "plt.scatter(df_pivot['ADANIPORTS'], df_pivot['AXISBANK'])\n",
    "plt.title('ADANIPORTS vs AXISBANK')\n",
    "plt.xlabel('ADANIPORTS')\n",
    "plt.ylabel('AXISBANK')\n",
    "\n",
    "plt.subplot(1,3,2)\n",
    "plt.scatter(df_pivot['ADANIPORTS'], df_pivot['BAJAJFINSV'])\n",
    "plt.title('ADANIPORTS vs BAJAJFINSV')\n",
    "plt.xlabel('ADANIPORTS')\n",
    "plt.ylabel('BAJAJFINSV')\n",
    "\n",
    "plt.subplot(1,3,3)\n",
    "plt.scatter(df_pivot['AXISBANK'], df_pivot['BAJAJFINSV'])\n",
    "plt.title('AXISBANK vs BAJAJFINSV')\n",
    "plt.xlabel('AXISBANK')\n",
    "plt.ylabel('BAJAJFINSV')\n",
    "\n",
    "plt.tight_layout()\n",
    "plt.show()"
   ]
  },
  {
   "cell_type": "markdown",
   "id": "5a696115",
   "metadata": {},
   "source": [
    "**1. ADANIPORTS vs AXISBANK (Left Plot)**\n",
    "\n",
    "- Shape of the Distribution: The plot shows a somewhat vertical distribution, indicating that as the value of ADANIPORTS increases, AXISBANK remains relatively clustered in a certain range, suggesting low correlation between these two stocks.\n",
    "    \n",
    "- Insights: The weak relationship implies that these stocks move somewhat independently. Diversifying investments across these might reduce risk, as one stock’s performance may not predict the other's movement.\n",
    "    \n",
    "**2. ADANIPORTS vs BAJAJFINSV (Middle Plot)**\n",
    "\n",
    "- Distribution Shape: This plot also shows a vertical spread with a sharp contrast in scales. ADANIPORTS has much lower price values compared to BAJAJFINSV.\n",
    "    \n",
    "- Insights: The low correlation or lack of a discernible pattern between ADANIPORTS and BAJAJFINSV suggests that these stocks operate under very different market influences. BAJAJFINSV’s higher volatility and greater price range contrast with the more stable ADANIPORTS.\n",
    "    \n",
    "**3. AXISBANK vs BAJAJFINSV (Right Plot)**\n",
    "\n",
    "- Pattern and Spread: This plot has more structure compared to the other two, showing a curved spread where higher prices of BAJAJFINSV correspond to a range of AXISBANK values. The clustering suggests a nonlinear relationship.\n",
    "    \n",
    "- Insights: There may be a stronger dependency between AXISBANK and BAJAJFINSV, although the relationship could be complex or influenced by external market conditions. These stocks may exhibit some level of synchronized movement, making them potentially correlated investments.\n",
    "    \n",
    "**Summary of Insights**\n",
    "- Low Correlation between ADANIPORTS and the other two stocks suggests potential for diversification.\n",
    "\n",
    "- AXISBANK and BAJAJFINSV show a more structured relationship, worth further investigation for correlation or regression analysis to determine how changes in one might affect the other.\n",
    "\n",
    "- Risk vs. Growth Trade-offs: Depending on the market behavior, these relationships can be used to create more balanced portfolios or hedging strategies by combining stocks with both strong and weak dependencies."
   ]
  },
  {
   "cell_type": "code",
   "execution_count": 29,
   "id": "56bb6487",
   "metadata": {},
   "outputs": [
    {
     "data": {
      "image/png": "[encoded data removed]",
      "text/plain": [
       "<Figure size 576x432 with 2 Axes>"
      ]
     },
     "metadata": {
      "needs_background": "light"
     },
     "output_type": "display_data"
    }
   ],
   "source": [
    "import seaborn as sns\n",
    "import matplotlib.pyplot as plt\n",
    "\n",
    "# Create a heatmap\n",
    "plt.figure(figsize=(8,6))\n",
    "sns.heatmap(correlation_matrix, annot=True, cmap='coolwarm', square=True)\n",
    "plt.title('Correlation Matrix')\n",
    "plt.show()"
   ]
  },
  {
   "cell_type": "markdown",
   "id": "16532a9e",
   "metadata": {},
   "source": [
    "**Key Insights**\n",
    "\n",
    "- Low Correlation of ADANIPORTS:\n",
    "ADANIPORTS shows minimal correlation with both AXISBANK and BAJAJFINSV, making it a good candidate for diversification. Including ADANIPORTS in a portfolio with these other stocks could reduce overall portfolio risk due to its independence.\n",
    "\n",
    "- High Correlation Between AXISBANK and BAJAJFINSV:\n",
    "AXISBANK and BAJAJFINSV are strongly correlated, meaning they exhibit similar price movements. Investing heavily in both could increase risk due to their synchronized behavior. These stocks are not ideal for diversification with each other but could be used for pair trading strategies."
   ]
  },
  {
   "cell_type": "code",
   "execution_count": 30,
   "id": "ddf4fd2b",
   "metadata": {},
   "outputs": [
    {
     "data": {
      "image/png": "[encoded data removed]",
      "text/plain": [
       "<Figure size 540x540 with 12 Axes>"
      ]
     },
     "metadata": {
      "needs_background": "light"
     },
     "output_type": "display_data"
    }
   ],
   "source": [
    "import seaborn as sns\n",
    "import matplotlib.pyplot as plt\n",
    "\n",
    "# Create a pair plot\n",
    "sns.pairplot(df_pivot)\n",
    "plt.show()"
   ]
  },
  {
   "cell_type": "code",
   "execution_count": 34,
   "id": "13861955",
   "metadata": {},
   "outputs": [
    {
     "data": {
      "image/png": "[encoded data removed]",
      "text/plain": [
       "<Figure size 576x288 with 3 Axes>"
      ]
     },
     "metadata": {
      "needs_background": "light"
     },
     "output_type": "display_data"
    }
   ],
   "source": [
    "import matplotlib.pyplot as plt\n",
    "\n",
    "# Create time series plots\n",
    "plt.figure(figsize=(8,4))\n",
    "\n",
    "plt.subplot(3,1,1)\n",
    "plt.plot(df_pivot['ADANIPORTS'])\n",
    "plt.title('ADANIPORTS Price Movement')\n",
    "plt.xlabel('Date')\n",
    "plt.ylabel('Price')\n",
    "\n",
    "plt.subplot(3,1,2)\n",
    "plt.plot(df_pivot['AXISBANK'])\n",
    "plt.title('AXISBANK Price Movement')\n",
    "plt.xlabel('Date')\n",
    "plt.ylabel('Price')\n",
    "\n",
    "plt.subplot(3,1,3)\n",
    "plt.plot(df_pivot['BAJAJFINSV'])\n",
    "plt.title('BAJAJFINSV Price Movement')\n",
    "plt.xlabel('Date')\n",
    "plt.ylabel('Price')\n",
    "\n",
    "plt.tight_layout()\n",
    "plt.show()\n"
   ]
  },
  {
   "cell_type": "markdown",
   "id": "6dfaa4ab",
   "metadata": {},
   "source": [
    "**4.Calculating Indicators**"
   ]
  },
  {
   "cell_type": "markdown",
   "id": "0850ed01",
   "metadata": {},
   "source": [
    "**Moving Averages (MA)**"
   ]
  },
  {
   "cell_type": "markdown",
   "id": "c67f0c41",
   "metadata": {},
   "source": [
    "Moving averages help smooth out price fluctuations and identify trends."
   ]
  },
  {
   "cell_type": "code",
   "execution_count": 36,
   "id": "f18a7fa5",
   "metadata": {},
   "outputs": [],
   "source": [
    "# Calculate Simple Moving Average (SMA)\n",
    "df_pivot['ADANIPORTS_SMA_50'] = df_pivot['ADANIPORTS'].rolling(window=50).mean()\n",
    "df_pivot['AXISBANK_SMA_50'] = df_pivot['AXISBANK'].rolling(window=50).mean()\n",
    "df_pivot['BAJAJFINSV_SMA_50'] = df_pivot['BAJAJFINSV'].rolling(window=50).mean()"
   ]
  },
  {
   "cell_type": "code",
   "execution_count": 42,
   "id": "a4e6425d",
   "metadata": {},
   "outputs": [
    {
     "data": {
      "image/png": "[encoded data removed]",
      "text/plain": [
       "<Figure size 576x288 with 1 Axes>"
      ]
     },
     "metadata": {
      "needs_background": "light"
     },
     "output_type": "display_data"
    }
   ],
   "source": [
    "# Plot Moving Average (MA)\n",
    "plt.figure(figsize=(8,4))\n",
    "plt.plot(df_pivot['ADANIPORTS'], label='ADANIPORTS')\n",
    "plt.plot(df_pivot['ADANIPORTS_SMA_50'], label='MA 50')\n",
    "plt.title('ADANIPORTS Moving Average')\n",
    "plt.xlabel('Date')\n",
    "plt.ylabel('Price')\n",
    "plt.legend()\n",
    "plt.show()"
   ]
  },
  {
   "cell_type": "markdown",
   "id": "4ffdb843",
   "metadata": {},
   "source": [
    "**Exponential Moving Averages (EMA)**"
   ]
  },
  {
   "cell_type": "markdown",
   "id": "0c084d1b",
   "metadata": {},
   "source": [
    "Exponential moving averages give more weight to recent prices"
   ]
  },
  {
   "cell_type": "code",
   "execution_count": 38,
   "id": "bfea9303",
   "metadata": {},
   "outputs": [],
   "source": [
    "# Calculate Exponential Moving Average (EMA)\n",
    "df_pivot['ADANIPORTS_EMA_50'] = df_pivot['ADANIPORTS'].ewm(span=50, adjust=False).mean()\n",
    "df_pivot['AXISBANK_EMA_50'] = df_pivot['AXISBANK'].ewm(span=50, adjust=False).mean()\n",
    "df_pivot['BAJAJFINSV_EMA_50'] = df_pivot['BAJAJFINSV'].ewm(span=50, adjust=False).mean()"
   ]
  },
  {
   "cell_type": "code",
   "execution_count": 48,
   "id": "f5aa1712",
   "metadata": {},
   "outputs": [
    {
     "data": {
      "image/png": "[encoded data removed]",
      "text/plain": [
       "<Figure size 576x288 with 1 Axes>"
      ]
     },
     "metadata": {
      "needs_background": "light"
     },
     "output_type": "display_data"
    },
    {
     "data": {
      "image/png": "[encoded data removed]",
      "text/plain": [
       "<Figure size 576x288 with 1 Axes>"
      ]
     },
     "metadata": {
      "needs_background": "light"
     },
     "output_type": "display_data"
    },
    {
     "data": {
      "image/png": "[encoded data removed]",
      "text/plain": [
       "<Figure size 576x288 with 1 Axes>"
      ]
     },
     "metadata": {
      "needs_background": "light"
     },
     "output_type": "display_data"
    }
   ],
   "source": [
    "import matplotlib.pyplot as plt\n",
    "\n",
    "# Plot Exponential Moving Average (EMA)\n",
    "plt.figure(figsize=(8,4))\n",
    "plt.plot(df_pivot['ADANIPORTS'], label='ADANIPORTS')\n",
    "plt.plot(df_pivot['ADANIPORTS_EMA_50'], label='EMA 50')\n",
    "plt.title('ADANIPORTS Exponential Moving Average')\n",
    "plt.xlabel('Date')\n",
    "plt.ylabel('Price')\n",
    "plt.legend()\n",
    "plt.show()\n",
    "\n",
    "plt.figure(figsize=(8,4))\n",
    "plt.plot(df_pivot['AXISBANK'], label='AXISBANK')\n",
    "plt.plot(df_pivot['AXISBANK_EMA_50'], label='EMA 50')\n",
    "plt.title('AXISBANK Exponential Moving Average')\n",
    "plt.xlabel('Date')\n",
    "plt.ylabel('Price')\n",
    "plt.legend()\n",
    "plt.show()\n",
    "\n",
    "plt.figure(figsize=(8,4))\n",
    "plt.plot(df_pivot['BAJAJFINSV'], label='BAJAJFINSV')\n",
    "plt.plot(df_pivot['BAJAJFINSV_EMA_50'], label='EMA 50')\n",
    "plt.title('BAJAJFINSV Exponential Moving Average')\n",
    "plt.xlabel('Date')\n",
    "plt.ylabel('Price')\n",
    "plt.legend()\n",
    "plt.show()\n"
   ]
  },
  {
   "cell_type": "markdown",
   "id": "a0257e1f",
   "metadata": {},
   "source": [
    "**Relative Strength Index (RSI)**"
   ]
  },
  {
   "cell_type": "markdown",
   "id": "5dc4b234",
   "metadata": {},
   "source": [
    "The relative strength index helps identify overbought or oversold conditions."
   ]
  },
  {
   "cell_type": "code",
   "execution_count": 39,
   "id": "e858acdb",
   "metadata": {},
   "outputs": [],
   "source": [
    "# Calculate Relative Strength Index (RSI)\n",
    "def calculate_rsi(data, n=14):\n",
    "    delta = data.diff().dropna()\n",
    "    ups, downs = delta.copy(), delta.copy()\n",
    "    ups[ups < 0] = 0\n",
    "    downs[downs > 0] = 0\n",
    "    roll_ups1 = ups.rolling(window=n).mean()\n",
    "    roll_downs1 = downs.rolling(window=n).mean().abs()\n",
    "    RS = roll_ups1 / roll_downs1\n",
    "    RSI = 100.0 - (100.0 / (1.0 + RS))\n",
    "    return RSI\n",
    "\n",
    "df_pivot['ADANIPORTS_RSI'] = calculate_rsi(df_pivot['ADANIPORTS'])\n",
    "df_pivot['AXISBANK_RSI'] = calculate_rsi(df_pivot['AXISBANK'])\n",
    "df_pivot['BAJAJFINSV_RSI'] = calculate_rsi(df_pivot['BAJAJFINSV'])"
   ]
  },
  {
   "cell_type": "code",
   "execution_count": 44,
   "id": "5f735b57",
   "metadata": {},
   "outputs": [
    {
     "data": {
      "image/png": "[encoded data removed]",
      "text/plain": [
       "<Figure size 576x288 with 1 Axes>"
      ]
     },
     "metadata": {
      "needs_background": "light"
     },
     "output_type": "display_data"
    }
   ],
   "source": [
    "# Plot Relative Strength Index (RSI)\n",
    "plt.figure(figsize=(8,4))\n",
    "plt.plot(df_pivot['ADANIPORTS_RSI'], label='RSI')\n",
    "plt.title('ADANIPORTS Relative Strength Index')\n",
    "plt.xlabel('Date')\n",
    "plt.ylabel('RSI')\n",
    "plt.legend()\n",
    "plt.show()"
   ]
  },
  {
   "cell_type": "markdown",
   "id": "10a6c7a7",
   "metadata": {},
   "source": [
    "**Bollinger Bands (BB)**"
   ]
  },
  {
   "cell_type": "markdown",
   "id": "2742e716",
   "metadata": {},
   "source": [
    "Bollinger bands help identify volatility and potential breakouts."
   ]
  },
  {
   "cell_type": "code",
   "execution_count": 40,
   "id": "94a69b27",
   "metadata": {},
   "outputs": [],
   "source": [
    "# Calculate Bollinger Bands (BB)\n",
    "def calculate_bollinger_bands(data, n=20, std_dev=2):\n",
    "    rolling_mean = data.rolling(window=n).mean()\n",
    "    rolling_std = data.rolling(window=n).std()\n",
    "    upper_bb = rolling_mean + (rolling_std * std_dev)\n",
    "    lower_bb = rolling_mean - (rolling_std * std_dev)\n",
    "    return rolling_mean, upper_bb, lower_bb\n",
    "\n",
    "df_pivot['ADANIPORTS_BB_Mean'], df_pivot['ADANIPORTS_BB_Upper'], df_pivot['ADANIPORTS_BB_Lower'] = calculate_bollinger_bands(df_pivot['ADANIPORTS'])\n",
    "df_pivot['AXISBANK_BB_Mean'], df_pivot['AXISBANK_BB_Upper'], df_pivot['AXISBANK_BB_Lower'] = calculate_bollinger_bands(df_pivot['AXISBANK'])\n",
    "df_pivot['BAJAJFINSV_BB_Mean'], df_pivot['BAJAJFINSV_BB_Upper'], df_pivot['BAJAJFINSV_BB_Lower'] = calculate_bollinger_bands(df_pivot['BAJAJFINSV'])"
   ]
  },
  {
   "cell_type": "code",
   "execution_count": 45,
   "id": "dca5936d",
   "metadata": {},
   "outputs": [
    {
     "data": {
      "image/png": "[encoded data removed]",
      "text/plain": [
       "<Figure size 576x288 with 1 Axes>"
      ]
     },
     "metadata": {
      "needs_background": "light"
     },
     "output_type": "display_data"
    }
   ],
   "source": [
    "# Plot Bollinger Bands (BB)\n",
    "plt.figure(figsize=(8,4))\n",
    "plt.plot(df_pivot['ADANIPORTS'], label='ADANIPORTS')\n",
    "plt.plot(df_pivot['ADANIPORTS_BB_Mean'], label='BB Mean')\n",
    "plt.plot(df_pivot['ADANIPORTS_BB_Upper'], label='BB Upper')\n",
    "plt.plot(df_pivot['ADANIPORTS_BB_Lower'], label='BB Lower')\n",
    "plt.title('ADANIPORTS Bollinger Bands')\n",
    "plt.xlabel('Date')\n",
    "plt.ylabel('Price')\n",
    "plt.legend()\n",
    "plt.show()"
   ]
  },
  {
   "cell_type": "markdown",
   "id": "e3c1f6ab",
   "metadata": {},
   "source": [
    "# Task 2: Choose a Promising Stock."
   ]
  },
  {
   "cell_type": "markdown",
   "id": "30ba2314",
   "metadata": {},
   "source": [
    "**Step 1: Define Selection Criteria**"
   ]
  },
  {
   "cell_type": "code",
   "execution_count": 51,
   "id": "70f77871",
   "metadata": {},
   "outputs": [],
   "source": [
    "def calculate_score(stock_data):\n",
    "    # Define the weights for each criterion\n",
    "    returns_weight = 0.4\n",
    "    volatility_weight = 0.3\n",
    "    correlation_weight = 0.2\n",
    "    rsi_weight = 0.1\n",
    "\n",
    "    # Calculate the returns score\n",
    "    returns_score = stock_data['Returns'].mean() / stock_data['Returns'].std()\n",
    "\n",
    "    # Calculate the volatility score\n",
    "    volatility_score = 1 - (stock_data['Volatility'].mean() / stock_data['Volatility'].std())\n",
    "\n",
    "    # Calculate the correlation score\n",
    "    correlation_score = 1 - stock_data['Correlation'].mean()\n",
    "\n",
    "    # Calculate the RSI score\n",
    "    rsi_score = 1 - abs(stock_data['RSI'].mean() - 50) / 50\n",
    "\n",
    "    # Calculate the overall score\n",
    "    score = (returns_weight * returns_score +\n",
    "              volatility_weight * volatility_score +\n",
    "              correlation_weight * correlation_score +\n",
    "              rsi_weight * rsi_score)\n",
    "\n",
    "    return score\n",
    "    "
   ]
  },
  {
   "cell_type": "markdown",
   "id": "1132c2e1",
   "metadata": {},
   "source": [
    "**Step 2: Evaluate Stocks Based on Selection Criteria**"
   ]
  },
  {
   "cell_type": "code",
   "execution_count": 52,
   "id": "3c7373d0",
   "metadata": {},
   "outputs": [
    {
     "name": "stdout",
     "output_type": "stream",
     "text": [
      "{'ADANIPORTS': 0.40364688310492725, 'AXISBANK': 0.25699745717996225, 'BAJAJFINSV': 0.4104603741976279}\n"
     ]
    }
   ],
   "source": [
    "# Define the stock data\n",
    "stock_data = {\n",
    "    'ADANIPORTS': {'Returns': df_pivot['ADANIPORTS'].pct_change(), \n",
    "                     'Volatility': df_pivot['ADANIPORTS'].rolling(window=20).std(), \n",
    "                     'Correlation': df_pivot['ADANIPORTS'].corr(df_pivot['AXISBANK']), \n",
    "                     'RSI': df_pivot['ADANIPORTS_RSI']},\n",
    "    'AXISBANK': {'Returns': df_pivot['AXISBANK'].pct_change(), \n",
    "                   'Volatility': df_pivot['AXISBANK'].rolling(window=20).std(), \n",
    "                   'Correlation': df_pivot['AXISBANK'].corr(df_pivot['BAJAJFINSV']), \n",
    "                   'RSI': df_pivot['AXISBANK_RSI']},\n",
    "    'BAJAJFINSV': {'Returns': df_pivot['BAJAJFINSV'].pct_change(), \n",
    "                      'Volatility': df_pivot['BAJAJFINSV'].rolling(window=20).std(), \n",
    "                      'Correlation': df_pivot['BAJAJFINSV'].corr(df_pivot['ADANIPORTS']), \n",
    "                      'RSI': df_pivot['BAJAJFINSV_RSI']}\n",
    "}\n",
    "\n",
    "# Calculate the scores for each stock\n",
    "scores = {stock: calculate_score(data) for stock, data in stock_data.items()}\n",
    "\n",
    "print(scores)\n",
    "\n"
   ]
  },
  {
   "cell_type": "markdown",
   "id": "3306e901",
   "metadata": {},
   "source": [
    "**Step 3: Choose a Promising Stock**"
   ]
  },
  {
   "cell_type": "markdown",
   "id": "690421dc",
   "metadata": {},
   "source": [
    "We'll select the stock with the highest score."
   ]
  },
  {
   "cell_type": "code",
   "execution_count": 53,
   "id": "7399d288",
   "metadata": {},
   "outputs": [
    {
     "name": "stdout",
     "output_type": "stream",
     "text": [
      "The most promising stock is: BAJAJFINSV\n"
     ]
    }
   ],
   "source": [
    "# Choose the stock with the highest score\n",
    "promising_stock = max(scores, key=scores.get)\n",
    "\n",
    "print(f\"The most promising stock is: {promising_stock}\")\n"
   ]
  },
  {
   "cell_type": "markdown",
   "id": "4776e59e",
   "metadata": {},
   "source": [
    "# Task 3: Portfolio Construction."
   ]
  },
  {
   "cell_type": "markdown",
   "id": "2078c0b7",
   "metadata": {},
   "source": [
    "Step 1: Define Portfolio Construction Strategy"
   ]
  },
  {
   "cell_type": "code",
   "execution_count": 54,
   "id": "c5886741",
   "metadata": {},
   "outputs": [],
   "source": [
    "# Define the promising stock\n",
    "promising_stock = 'BAJAJFINSV'"
   ]
  },
  {
   "cell_type": "markdown",
   "id": "2994bc9c",
   "metadata": {},
   "source": [
    "Step 2: Calculate Portfolio Weights"
   ]
  },
  {
   "cell_type": "code",
   "execution_count": 55,
   "id": "cf80b9fb",
   "metadata": {},
   "outputs": [],
   "source": [
    "# Define the portfolio weights\n",
    "portfolio_weights = {promising_stock: 1.0}"
   ]
  },
  {
   "cell_type": "markdown",
   "id": "02177026",
   "metadata": {},
   "source": [
    "Step 3: Construct the Portfolio"
   ]
  },
  {
   "cell_type": "code",
   "execution_count": 56,
   "id": "41476ff2",
   "metadata": {},
   "outputs": [],
   "source": [
    "# Construct the portfolio\n",
    "portfolio_returns = df_pivot[promising_stock].pct_change()"
   ]
  },
  {
   "cell_type": "markdown",
   "id": "d5549fa6",
   "metadata": {},
   "source": [
    "**Step 4: Calculate Portfolio Returns and Volatility**"
   ]
  },
  {
   "cell_type": "code",
   "execution_count": 153,
   "id": "03bff88c",
   "metadata": {},
   "outputs": [
    {
     "name": "stdout",
     "output_type": "stream",
     "text": [
      "Portfolio Mean Return: Stock\n",
      "BAJAJFINSV    0.302547\n",
      "dtype: float64\n",
      "Portfolio Volatility: Stock\n",
      "BAJAJFINSV    0.461918\n",
      "dtype: float64\n"
     ]
    }
   ],
   "source": [
    "# Calculate portfolio returns and volatility\n",
    "portfolio_mean_return = portfolio_returns.mean() * 252\n",
    "portfolio_volatility = portfolio_returns.std() * np.sqrt(252)\n",
    "\n",
    "print(f\"Portfolio Mean Return: {portfolio_mean_return}\")\n",
    "print(f\"Portfolio Volatility: {portfolio_volatility}\")"
   ]
  },
  {
   "cell_type": "markdown",
   "id": "d365df03",
   "metadata": {},
   "source": [
    "# Task 4: Backtesting and Evaluation"
   ]
  },
  {
   "cell_type": "markdown",
   "id": "da87b8a6",
   "metadata": {},
   "source": [
    "**Step 1: Define Backtesting Period**"
   ]
  },
  {
   "cell_type": "code",
   "execution_count": 109,
   "id": "7cd8d6a0",
   "metadata": {},
   "outputs": [],
   "source": [
    "backtesting_period = 2 * 252  # Assuming 252 trading days in a year"
   ]
  },
  {
   "cell_type": "code",
   "execution_count": 110,
   "id": "87c00a25",
   "metadata": {},
   "outputs": [],
   "source": [
    "trading_days_per_year = 252\n",
    "backtesting_period = 2 * trading_days_per_year  # Two years of data"
   ]
  },
  {
   "cell_type": "markdown",
   "id": "35d7e962",
   "metadata": {},
   "source": [
    "**Step 2: Calculate Portfolio Returns**"
   ]
  },
  {
   "cell_type": "code",
   "execution_count": 111,
   "id": "b0cf60bf",
   "metadata": {},
   "outputs": [],
   "source": [
    "portfolio_returns = df_pivot[promising_stock].pct_change()[-backtesting_period:]"
   ]
  },
  {
   "cell_type": "code",
   "execution_count": 112,
   "id": "0d7266c7",
   "metadata": {},
   "outputs": [],
   "source": [
    "promising_stock = ['BAJAJFINSV']"
   ]
  },
  {
   "cell_type": "code",
   "execution_count": 113,
   "id": "84d09171",
   "metadata": {},
   "outputs": [],
   "source": [
    "# Use iloc for consistent slicing\n",
    "portfolio_returns = df_pivot[promising_stock].pct_change().iloc[-backtesting_period:]"
   ]
  },
  {
   "cell_type": "markdown",
   "id": "2f257977",
   "metadata": {},
   "source": [
    "**Step 3: Evaluate Portfolio Performance**"
   ]
  },
  {
   "cell_type": "code",
   "execution_count": 114,
   "id": "d59bfbd8",
   "metadata": {},
   "outputs": [
    {
     "name": "stdout",
     "output_type": "stream",
     "text": [
      "Data frequency: 504 observations\n",
      "Data range: 2027-04-02 00:00:00 to 2028-08-17 00:00:00\n",
      "Stock  BAJAJFINSV\n",
      "count  504.000000\n",
      "mean     0.001201\n",
      "std      0.029098\n",
      "min     -0.258621\n",
      "25%     -0.009955\n",
      "50%      0.000080\n",
      "75%      0.012078\n",
      "max      0.114534\n"
     ]
    }
   ],
   "source": [
    "print(f\"Data frequency: {len(portfolio_returns)} observations\")\n",
    "print(f\"Data range: {portfolio_returns.index.min()} to {portfolio_returns.index.max()}\")\n",
    "print(portfolio_returns.describe())"
   ]
  },
  {
   "cell_type": "code",
   "execution_count": 115,
   "id": "e59c5b67",
   "metadata": {},
   "outputs": [
    {
     "name": "stdout",
     "output_type": "stream",
     "text": [
      "NaN count: 0\n"
     ]
    }
   ],
   "source": [
    "# Check if any missing data is causing issues:\n",
    "print(f\"NaN count: {portfolio_returns.isna().sum().sum()}\")"
   ]
  },
  {
   "cell_type": "code",
   "execution_count": 116,
   "id": "b8ca4045",
   "metadata": {},
   "outputs": [],
   "source": [
    "# Ensure time indexing is correct:\n",
    "df_pivot.index = pd.to_datetime(df_pivot.index)"
   ]
  },
  {
   "cell_type": "markdown",
   "id": "5b33b571",
   "metadata": {},
   "source": [
    "**Plotting Stock Price**"
   ]
  },
  {
   "cell_type": "code",
   "execution_count": 117,
   "id": "96ec2fe5",
   "metadata": {},
   "outputs": [
    {
     "data": {
      "image/png": "[encoded data removed]",
      "text/plain": [
       "<Figure size 720x432 with 1 Axes>"
      ]
     },
     "metadata": {
      "needs_background": "light"
     },
     "output_type": "display_data"
    }
   ],
   "source": [
    "plt.figure(figsize=(10, 6))\n",
    "plt.plot(df_pivot['BAJAJFINSV'])\n",
    "plt.title('BAJAJFINSV Stock Price Over Time')\n",
    "plt.xlabel('Date')\n",
    "plt.ylabel('Price')\n",
    "plt.show()"
   ]
  },
  {
   "cell_type": "markdown",
   "id": "389a1082",
   "metadata": {},
   "source": [
    "**Monthly Returns**"
   ]
  },
  {
   "cell_type": "code",
   "execution_count": 118,
   "id": "6d3303f5",
   "metadata": {},
   "outputs": [],
   "source": [
    "monthly_returns = df_pivot['BAJAJFINSV'].resample('M').last().pct_change().dropna()"
   ]
  },
  {
   "cell_type": "markdown",
   "id": "080ac579",
   "metadata": {},
   "source": [
    "df_pivot has a valid datetime index.\n",
    "\n",
    "resample('M') applies correctly.\n",
    "\n",
    "Confirm by printing:"
   ]
  },
  {
   "cell_type": "code",
   "execution_count": 119,
   "id": "025f7fa3",
   "metadata": {},
   "outputs": [
    {
     "name": "stdout",
     "output_type": "stream",
     "text": [
      "Stock       ADANIPORTS  AXISBANK  BAJAJFINSV  ADANIPORTS_SMA_50  \\\n",
      "2020-01-01      807.50     28.35      443.00           1029.868   \n",
      "2020-01-02      796.25     27.40      452.65           1026.535   \n",
      "2020-01-03      784.05     29.60      467.90           1024.338   \n",
      "2020-01-04      711.20     31.90      482.20           1020.878   \n",
      "2020-01-05      681.30     30.80      515.30           1016.073   \n",
      "\n",
      "Stock       AXISBANK_SMA_50  BAJAJFINSV_SMA_50  ADANIPORTS_EMA_50  \\\n",
      "2020-01-01           32.014            535.698         978.166019   \n",
      "2020-01-02           32.028            534.569         971.032058   \n",
      "2020-01-03           32.083            532.834         963.699428   \n",
      "2020-01-04           32.195            529.659         953.797490   \n",
      "2020-01-05           32.292            527.317         943.111314   \n",
      "\n",
      "Stock       AXISBANK_EMA_50  BAJAJFINSV_EMA_50  ADANIPORTS_RSI  ...  \\\n",
      "2020-01-01        32.618929         497.197539       34.197275  ...   \n",
      "2020-01-02        32.414265         495.450576       34.976899  ...   \n",
      "2020-01-03        32.303901         494.370161       45.922832  ...   \n",
      "2020-01-04        32.288062         493.892900       47.495629  ...   \n",
      "2020-01-05        32.229707         494.732394       27.736949  ...   \n",
      "\n",
      "Stock       BAJAJFINSV_RSI  ADANIPORTS_BB_Mean  ADANIPORTS_BB_Upper  \\\n",
      "2020-01-01       42.535545            904.4175          1132.162839   \n",
      "2020-01-02       51.689052            888.1525          1096.218983   \n",
      "2020-01-03       68.747272            873.0625          1063.814066   \n",
      "2020-01-04       74.054914            856.8650          1044.657826   \n",
      "2020-01-05       85.409614            838.4525          1018.761794   \n",
      "\n",
      "Stock       ADANIPORTS_BB_Lower  AXISBANK_BB_Mean  AXISBANK_BB_Upper  \\\n",
      "2020-01-01           676.672161           35.0350          42.375092   \n",
      "2020-01-02           680.086017           34.6225          42.706628   \n",
      "2020-01-03           682.310934           34.1975          42.404652   \n",
      "2020-01-04           669.072174           33.8675          41.874554   \n",
      "2020-01-05           658.143206           33.5775          41.587985   \n",
      "\n",
      "Stock       AXISBANK_BB_Lower  BAJAJFINSV_BB_Mean  BAJAJFINSV_BB_Upper  \\\n",
      "2020-01-01          27.694908            452.9825           524.017082   \n",
      "2020-01-02          26.538372            449.5250           512.759330   \n",
      "2020-01-03          25.990348            447.3725           504.432399   \n",
      "2020-01-04          25.860446            445.5800           495.037237   \n",
      "2020-01-05          25.567015            446.0050           497.769577   \n",
      "\n",
      "Stock       BAJAJFINSV_BB_Lower  \n",
      "2020-01-01           381.947918  \n",
      "2020-01-02           386.290670  \n",
      "2020-01-03           390.312601  \n",
      "2020-01-04           396.122763  \n",
      "2020-01-05           394.240423  \n",
      "\n",
      "[5 rows x 21 columns]\n",
      "DatetimeIndex(['2020-01-01', '2020-01-02', '2020-01-03', '2020-01-04',\n",
      "               '2020-01-05', '2020-01-06', '2020-01-07', '2020-01-08',\n",
      "               '2020-01-09', '2020-01-10',\n",
      "               ...\n",
      "               '2028-08-08', '2028-08-09', '2028-08-10', '2028-08-11',\n",
      "               '2028-08-12', '2028-08-13', '2028-08-14', '2028-08-15',\n",
      "               '2028-08-16', '2028-08-17'],\n",
      "              dtype='datetime64[ns]', length=3152, freq='D')\n"
     ]
    }
   ],
   "source": [
    "print(df_pivot.head())\n",
    "print(df_pivot.index)"
   ]
  },
  {
   "cell_type": "code",
   "execution_count": 120,
   "id": "597d5972",
   "metadata": {},
   "outputs": [],
   "source": [
    "# To Ensure  DataFrame has a proper DateTime index:\n",
    "df_pivot.index = pd.to_datetime(df_pivot.index, errors='coerce')"
   ]
  },
  {
   "cell_type": "markdown",
   "id": "7f04b514",
   "metadata": {},
   "source": [
    "**Sharpe Ratio and Max Drawdown**"
   ]
  },
  {
   "cell_type": "code",
   "execution_count": 121,
   "id": "54793d0c",
   "metadata": {},
   "outputs": [],
   "source": [
    "mean_return = portfolio_returns.mean() * 252\n",
    "volatility = portfolio_returns.std() * np.sqrt(252)"
   ]
  },
  {
   "cell_type": "markdown",
   "id": "2cf8f8bb",
   "metadata": {},
   "source": [
    "**Sharpe Ratio Fix**"
   ]
  },
  {
   "cell_type": "code",
   "execution_count": 123,
   "id": "be5f9064",
   "metadata": {},
   "outputs": [
    {
     "name": "stdout",
     "output_type": "stream",
     "text": [
      "Sharpe Ratio: Stock\n",
      "BAJAJFINSV    0.654979\n",
      "dtype: float64\n"
     ]
    }
   ],
   "source": [
    "if (mean_return == 0).any() or (volatility == 0).any():\n",
    "    print(\"Warning: Mean return or volatility contains zero. Sharpe ratio cannot be calculated.\")\n",
    "else:\n",
    "    sharpe_ratio = mean_return / volatility\n",
    "    print(f\"Sharpe Ratio: {sharpe_ratio}\")\n"
   ]
  },
  {
   "cell_type": "markdown",
   "id": "ecfae977",
   "metadata": {},
   "source": [
    "Max Drawdown Calculation"
   ]
  },
  {
   "cell_type": "code",
   "execution_count": 126,
   "id": "12f5928c",
   "metadata": {},
   "outputs": [],
   "source": [
    "max_drawdown = (portfolio_returns.cumsum() - portfolio_returns.cumsum().cummax()).min()"
   ]
  },
  {
   "cell_type": "markdown",
   "id": "0c9df6c0",
   "metadata": {},
   "source": [
    "**Optional Enhancements**"
   ]
  },
  {
   "cell_type": "markdown",
   "id": "6bce1d72",
   "metadata": {},
   "source": [
    "Date Information: To find when the max drawdown occurred"
   ]
  },
  {
   "cell_type": "code",
   "execution_count": 140,
   "id": "888c62fa",
   "metadata": {},
   "outputs": [],
   "source": [
    "import pandas as pd\n",
    "# Example prices data (replace with your actual data)\n",
    "prices = pd.Series([100, 102, 98, 105, 95, 90, 120])"
   ]
  },
  {
   "cell_type": "code",
   "execution_count": 141,
   "id": "e05c992d",
   "metadata": {
    "scrolled": true
   },
   "outputs": [
    {
     "name": "stdout",
     "output_type": "stream",
     "text": [
      "Max Drawdown: -0.14285714285714288\n",
      "Max Drawdown Date: 5\n"
     ]
    }
   ],
   "source": [
    "# Assuming `prices` is a pandas Series of your stock or asset prices\n",
    "cumulative_prices = prices / prices.iloc[0]  # Normalize to 1\n",
    "cumulative_max = cumulative_prices.cummax()  # Track running maximum prices\n",
    "\n",
    "# Drawdown calculation\n",
    "drawdown = (cumulative_prices - cumulative_max) / cumulative_max\n",
    "\n",
    "# Maximum drawdown\n",
    "max_drawdown = drawdown.min()  # Smallest value in drawdown\n",
    "max_drawdown_date = drawdown.idxmin()  # Date of the max drawdown\n",
    "\n",
    "# Display results\n",
    "print(f\"Max Drawdown: {max_drawdown}\")\n",
    "print(f\"Max Drawdown Date: {max_drawdown_date}\")\n",
    "\n"
   ]
  },
  {
   "cell_type": "markdown",
   "id": "363de198",
   "metadata": {},
   "source": [
    "**Plot Drawdown**"
   ]
  },
  {
   "cell_type": "code",
   "execution_count": 142,
   "id": "cf34ccfb",
   "metadata": {},
   "outputs": [
    {
     "data": {
      "image/png": "[encoded data removed]",
      "text/plain": [
       "<Figure size 432x288 with 1 Axes>"
      ]
     },
     "metadata": {
      "needs_background": "light"
     },
     "output_type": "display_data"
    }
   ],
   "source": [
    "import matplotlib.pyplot as plt\n",
    "drawdown.plot(title=\"Portfolio Drawdown\")\n",
    "plt.xlabel(\"Date\")\n",
    "plt.ylabel(\"Drawdown\")\n",
    "plt.show()"
   ]
  },
  {
   "cell_type": "markdown",
   "id": "b7c9282b",
   "metadata": {},
   "source": [
    "**Plot Portfolio Returns and Prices for Context**"
   ]
  },
  {
   "cell_type": "code",
   "execution_count": 146,
   "id": "7cc049df",
   "metadata": {},
   "outputs": [
    {
     "data": {
      "text/plain": [
       "<Figure size 720x360 with 0 Axes>"
      ]
     },
     "metadata": {},
     "output_type": "display_data"
    },
    {
     "data": {
      "image/png": "[encoded data removed]",
      "text/plain": [
       "<Figure size 432x288 with 1 Axes>"
      ]
     },
     "metadata": {
      "needs_background": "light"
     },
     "output_type": "display_data"
    },
    {
     "data": {
      "image/png": "[encoded data removed]",
      "text/plain": [
       "<Figure size 576x288 with 1 Axes>"
      ]
     },
     "metadata": {
      "needs_background": "light"
     },
     "output_type": "display_data"
    }
   ],
   "source": [
    "import matplotlib.pyplot as plt\n",
    "\n",
    "# Plotting returns\n",
    "plt.figure(figsize=(10, 5))\n",
    "portfolio_returns.plot(title=\"Portfolio Returns\")\n",
    "plt.xlabel(\"Date\")\n",
    "plt.ylabel(\"Returns\")\n",
    "plt.show()\n",
    "\n",
    "# Plotting stock prices over time\n",
    "plt.figure(figsize=(8, 4))\n",
    "plt.plot(df_pivot['BAJAJFINSV'])\n",
    "plt.title('BAJAJFINSV Stock Price Over Time')\n",
    "plt.xlabel('Date')\n",
    "plt.ylabel('Price')\n",
    "plt.show()"
   ]
  },
  {
   "cell_type": "markdown",
   "id": "58b6895a",
   "metadata": {},
   "source": [
    "# conclusion:"
   ]
  },
  {
   "cell_type": "markdown",
   "id": "31c3a55d",
   "metadata": {},
   "source": [
    "We've successfully implemented a quantitative stock selection and portfolio construction strategy using historical stock data. We:\n",
    "\n",
    "1. Collected and cleaned historical stock data.\n",
    "2. Selected a promising stock (BAJAJFINSV) based on predefined criteria.\n",
    "3. Constructed a portfolio with the selected stock.\n",
    "4. Backtested and evaluated the portfolio's performance using metrics such as Sharpe ratio, maximum drawdown, and returns.\n",
    "\n",
    "The results show that the selected stock, BAJAJFINSV, has demonstrated promising performance during the backtesting period. However, please note that past performance is not a guarantee of future results.\n",
    "\n",
    "This project demonstrates a basic quantitative approach to stock selection and portfolio construction. In a real-world scenario, you would need to consider additional factors, such as risk management, position sizing, and ongoing portfolio monitoring."
   ]
  },
  {
   "cell_type": "markdown",
   "id": "d8c4305e",
   "metadata": {},
   "source": [
    "# Step 1: Building a Dashboard for Stock Performance Analysis"
   ]
  },
  {
   "cell_type": "markdown",
   "id": "f722ab27",
   "metadata": {},
   "source": [
    "**Importing Necessary Libraries**"
   ]
  },
  {
   "cell_type": "code",
   "execution_count": 148,
   "id": "c7c1e649",
   "metadata": {},
   "outputs": [
    {
     "name": "stdout",
     "output_type": "stream",
     "text": [
      "Collecting dash\n",
      "  Obtaining dependency information for dash from https://files.pythonhosted.org/packages/72/ef/d46131f4817f18b329e4fb7c53ba1d31774239d91266a74bccdc932708cc/dash-2.18.2-py3-none-any.whl.metadata\n",
      "  Downloading dash-2.18.2-py3-none-any.whl.metadata (10 kB)\n",
      "Requirement already satisfied: Flask<3.1,>=1.0.4 in c:\\users\\samim imtiaz\\anaconda3\\lib\\site-packages (from dash) (2.2.2)\n",
      "Requirement already satisfied: Werkzeug<3.1 in c:\\users\\samim imtiaz\\anaconda3\\lib\\site-packages (from dash) (2.2.3)\n",
      "Requirement already satisfied: plotly>=5.0.0 in c:\\users\\samim imtiaz\\anaconda3\\lib\\site-packages (from dash) (5.9.0)\n",
      "Collecting dash-html-components==2.0.0 (from dash)\n",
      "  Obtaining dependency information for dash-html-components==2.0.0 from https://files.pythonhosted.org/packages/75/65/1b16b853844ef59b2742a7de74a598f376ac0ab581f0dcc34db294e5c90e/dash_html_components-2.0.0-py3-none-any.whl.metadata\n",
      "  Downloading dash_html_components-2.0.0-py3-none-any.whl.metadata (3.8 kB)\n",
      "Collecting dash-core-components==2.0.0 (from dash)\n",
      "  Obtaining dependency information for dash-core-components==2.0.0 from https://files.pythonhosted.org/packages/00/9e/a29f726e84e531a36d56cff187e61d8c96d2cc253c5bcef9a7695acb7e6a/dash_core_components-2.0.0-py3-none-any.whl.metadata\n",
      "  Downloading dash_core_components-2.0.0-py3-none-any.whl.metadata (2.9 kB)\n",
      "Collecting dash-table==5.0.0 (from dash)\n",
      "  Obtaining dependency information for dash-table==5.0.0 from https://files.pythonhosted.org/packages/da/ce/43f77dc8e7bbad02a9f88d07bf794eaf68359df756a28bb9f2f78e255bb1/dash_table-5.0.0-py3-none-any.whl.metadata\n",
      "  Downloading dash_table-5.0.0-py3-none-any.whl.metadata (2.4 kB)\n",
      "Requirement already satisfied: importlib-metadata in c:\\users\\samim imtiaz\\anaconda3\\lib\\site-packages (from dash) (6.0.0)\n",
      "Requirement already satisfied: typing-extensions>=4.1.1 in c:\\users\\samim imtiaz\\anaconda3\\lib\\site-packages (from dash) (4.7.1)\n",
      "Requirement already satisfied: requests in c:\\users\\samim imtiaz\\anaconda3\\lib\\site-packages (from dash) (2.31.0)\n",
      "Collecting retrying (from dash)\n",
      "  Obtaining dependency information for retrying from https://files.pythonhosted.org/packages/8f/04/9e36f28be4c0532c0e9207ff9dc01fb13a2b0eb036476a213b0000837d0e/retrying-1.3.4-py3-none-any.whl.metadata\n",
      "  Downloading retrying-1.3.4-py3-none-any.whl.metadata (6.9 kB)\n",
      "Requirement already satisfied: nest-asyncio in c:\\users\\samim imtiaz\\anaconda3\\lib\\site-packages (from dash) (1.5.6)\n",
      "Requirement already satisfied: setuptools in c:\\users\\samim imtiaz\\anaconda3\\lib\\site-packages (from dash) (68.0.0)\n",
      "Requirement already satisfied: Jinja2>=3.0 in c:\\users\\samim imtiaz\\anaconda3\\lib\\site-packages (from Flask<3.1,>=1.0.4->dash) (3.1.2)\n",
      "Requirement already satisfied: itsdangerous>=2.0 in c:\\users\\samim imtiaz\\anaconda3\\lib\\site-packages (from Flask<3.1,>=1.0.4->dash) (2.0.1)\n",
      "Requirement already satisfied: click>=8.0 in c:\\users\\samim imtiaz\\anaconda3\\lib\\site-packages (from Flask<3.1,>=1.0.4->dash) (8.0.4)\n",
      "Requirement already satisfied: tenacity>=6.2.0 in c:\\users\\samim imtiaz\\anaconda3\\lib\\site-packages (from plotly>=5.0.0->dash) (8.2.2)\n",
      "Requirement already satisfied: MarkupSafe>=2.1.1 in c:\\users\\samim imtiaz\\anaconda3\\lib\\site-packages (from Werkzeug<3.1->dash) (2.1.1)\n",
      "Requirement already satisfied: zipp>=0.5 in c:\\users\\samim imtiaz\\anaconda3\\lib\\site-packages (from importlib-metadata->dash) (3.11.0)\n",
      "Requirement already satisfied: charset-normalizer<4,>=2 in c:\\users\\samim imtiaz\\anaconda3\\lib\\site-packages (from requests->dash) (2.0.4)\n",
      "Requirement already satisfied: idna<4,>=2.5 in c:\\users\\samim imtiaz\\anaconda3\\lib\\site-packages (from requests->dash) (3.4)\n",
      "Requirement already satisfied: urllib3<3,>=1.21.1 in c:\\users\\samim imtiaz\\anaconda3\\lib\\site-packages (from requests->dash) (1.26.16)\n",
      "Requirement already satisfied: certifi>=2017.4.17 in c:\\users\\samim imtiaz\\anaconda3\\lib\\site-packages (from requests->dash) (2024.8.30)\n",
      "Requirement already satisfied: six>=1.7.0 in c:\\users\\samim imtiaz\\anaconda3\\lib\\site-packages (from retrying->dash) (1.16.0)\n",
      "Requirement already satisfied: colorama in c:\\users\\samim imtiaz\\anaconda3\\lib\\site-packages (from click>=8.0->Flask<3.1,>=1.0.4->dash) (0.4.6)\n",
      "Downloading dash-2.18.2-py3-none-any.whl (7.8 MB)\n",
      "   ---------------------------------------- 7.8/7.8 MB 1.8 MB/s eta 0:00:00\n",
      "Downloading dash_core_components-2.0.0-py3-none-any.whl (3.8 kB)\n",
      "Downloading dash_html_components-2.0.0-py3-none-any.whl (4.1 kB)\n",
      "Downloading dash_table-5.0.0-py3-none-any.whl (3.9 kB)\n",
      "Downloading retrying-1.3.4-py3-none-any.whl (11 kB)\n",
      "Installing collected packages: dash-table, dash-html-components, dash-core-components, retrying, dash\n",
      "Successfully installed dash-2.18.2 dash-core-components-2.0.0 dash-html-components-2.0.0 dash-table-5.0.0 retrying-1.3.4\n"
     ]
    }
   ],
   "source": [
    "!pip install dash"
   ]
  },
  {
   "cell_type": "code",
   "execution_count": 151,
   "id": "24646c56",
   "metadata": {},
   "outputs": [
    {
     "name": "stdout",
     "output_type": "stream",
     "text": [
      "Collecting yfinance\n",
      "  Obtaining dependency information for yfinance from https://files.pythonhosted.org/packages/b2/38/7533745b517c34b7b749a7a21f631711354a3d4d39a840d75d20c94d71a0/yfinance-0.2.51-py2.py3-none-any.whl.metadata\n",
      "  Downloading yfinance-0.2.51-py2.py3-none-any.whl.metadata (5.5 kB)\n",
      "Requirement already satisfied: pandas>=1.3.0 in c:\\users\\samim imtiaz\\anaconda3\\lib\\site-packages (from yfinance) (2.0.3)\n",
      "Requirement already satisfied: numpy>=1.16.5 in c:\\users\\samim imtiaz\\anaconda3\\lib\\site-packages (from yfinance) (1.24.3)\n",
      "Requirement already satisfied: requests>=2.31 in c:\\users\\samim imtiaz\\anaconda3\\lib\\site-packages (from yfinance) (2.31.0)\n",
      "Collecting multitasking>=0.0.7 (from yfinance)\n",
      "  Obtaining dependency information for multitasking>=0.0.7 from https://files.pythonhosted.org/packages/3e/8a/bb3160e76e844db9e69a413f055818969c8acade64e1a9ac5ce9dfdcf6c1/multitasking-0.0.11-py3-none-any.whl.metadata\n",
      "  Downloading multitasking-0.0.11-py3-none-any.whl.metadata (5.5 kB)\n",
      "Requirement already satisfied: lxml>=4.9.1 in c:\\users\\samim imtiaz\\anaconda3\\lib\\site-packages (from yfinance) (4.9.3)\n",
      "Requirement already satisfied: platformdirs>=2.0.0 in c:\\users\\samim imtiaz\\anaconda3\\lib\\site-packages (from yfinance) (3.10.0)\n",
      "Requirement already satisfied: pytz>=2022.5 in c:\\users\\samim imtiaz\\anaconda3\\lib\\site-packages (from yfinance) (2023.3.post1)\n",
      "Collecting frozendict>=2.3.4 (from yfinance)\n",
      "  Obtaining dependency information for frozendict>=2.3.4 from https://files.pythonhosted.org/packages/04/13/d9839089b900fa7b479cce495d62110cddc4bd5630a04d8469916c0e79c5/frozendict-2.4.6-py311-none-any.whl.metadata\n",
      "  Downloading frozendict-2.4.6-py311-none-any.whl.metadata (23 kB)\n",
      "Collecting peewee>=3.16.2 (from yfinance)\n",
      "  Downloading peewee-3.17.8.tar.gz (948 kB)\n",
      "     -------------------------------------- 948.2/948.2 kB 1.2 MB/s eta 0:00:00\n",
      "  Installing build dependencies: started\n",
      "  Installing build dependencies: finished with status 'done'\n",
      "  Getting requirements to build wheel: started\n",
      "  Getting requirements to build wheel: finished with status 'done'\n",
      "  Preparing metadata (pyproject.toml): started\n",
      "  Preparing metadata (pyproject.toml): finished with status 'done'\n",
      "Requirement already satisfied: beautifulsoup4>=4.11.1 in c:\\users\\samim imtiaz\\anaconda3\\lib\\site-packages (from yfinance) (4.12.2)\n",
      "Collecting html5lib>=1.1 (from yfinance)\n",
      "  Obtaining dependency information for html5lib>=1.1 from https://files.pythonhosted.org/packages/6c/dd/a834df6482147d48e225a49515aabc28974ad5a4ca3215c18a882565b028/html5lib-1.1-py2.py3-none-any.whl.metadata\n",
      "  Downloading html5lib-1.1-py2.py3-none-any.whl.metadata (16 kB)\n",
      "Requirement already satisfied: soupsieve>1.2 in c:\\users\\samim imtiaz\\anaconda3\\lib\\site-packages (from beautifulsoup4>=4.11.1->yfinance) (2.4)\n",
      "Requirement already satisfied: six>=1.9 in c:\\users\\samim imtiaz\\anaconda3\\lib\\site-packages (from html5lib>=1.1->yfinance) (1.16.0)\n",
      "Requirement already satisfied: webencodings in c:\\users\\samim imtiaz\\anaconda3\\lib\\site-packages (from html5lib>=1.1->yfinance) (0.5.1)\n",
      "Requirement already satisfied: python-dateutil>=2.8.2 in c:\\users\\samim imtiaz\\anaconda3\\lib\\site-packages (from pandas>=1.3.0->yfinance) (2.8.2)\n",
      "Requirement already satisfied: tzdata>=2022.1 in c:\\users\\samim imtiaz\\anaconda3\\lib\\site-packages (from pandas>=1.3.0->yfinance) (2023.3)\n",
      "Requirement already satisfied: charset-normalizer<4,>=2 in c:\\users\\samim imtiaz\\anaconda3\\lib\\site-packages (from requests>=2.31->yfinance) (2.0.4)\n",
      "Requirement already satisfied: idna<4,>=2.5 in c:\\users\\samim imtiaz\\anaconda3\\lib\\site-packages (from requests>=2.31->yfinance) (3.4)\n",
      "Requirement already satisfied: urllib3<3,>=1.21.1 in c:\\users\\samim imtiaz\\anaconda3\\lib\\site-packages (from requests>=2.31->yfinance) (1.26.16)\n",
      "Requirement already satisfied: certifi>=2017.4.17 in c:\\users\\samim imtiaz\\anaconda3\\lib\\site-packages (from requests>=2.31->yfinance) (2024.8.30)\n",
      "Downloading yfinance-0.2.51-py2.py3-none-any.whl (104 kB)\n",
      "   ---------------------------------------- 104.7/104.7 kB 1.2 MB/s eta 0:00:00\n",
      "Downloading frozendict-2.4.6-py311-none-any.whl (16 kB)\n",
      "Downloading html5lib-1.1-py2.py3-none-any.whl (112 kB)\n",
      "   -------------------------------------- 112.2/112.2 kB 935.2 kB/s eta 0:00:00\n",
      "Downloading multitasking-0.0.11-py3-none-any.whl (8.5 kB)\n",
      "Building wheels for collected packages: peewee\n",
      "  Building wheel for peewee (pyproject.toml): started\n",
      "  Building wheel for peewee (pyproject.toml): finished with status 'done'\n",
      "  Created wheel for peewee: filename=peewee-3.17.8-py3-none-any.whl size=139064 sha256=c88424738f9557439a632b12a3211f60289178318fc603ea662767552306b6ff\n",
      "  Stored in directory: c:\\users\\samim imtiaz\\appdata\\local\\pip\\cache\\wheels\\ff\\6c\\15\\506e25bc390de450a7fa53c155cd9b0fbd13ad3e84a9abc183\n",
      "Successfully built peewee\n",
      "Installing collected packages: peewee, multitasking, html5lib, frozendict, yfinance\n",
      "Successfully installed frozendict-2.4.6 html5lib-1.1 multitasking-0.0.11 peewee-3.17.8 yfinance-0.2.51\n"
     ]
    }
   ],
   "source": [
    "!pip install yfinance"
   ]
  },
  {
   "cell_type": "code",
   "execution_count": 2,
   "id": "239b94bd",
   "metadata": {},
   "outputs": [
    {
     "name": "stderr",
     "output_type": "stream",
     "text": [
      "<ipython-input-2-bc274ea87b4c>:2: UserWarning: \n",
      "The dash_core_components package is deprecated. Please replace\n",
      "`import dash_core_components as dcc` with `from dash import dcc`\n",
      "  import dash_core_components as dcc\n",
      "<ipython-input-2-bc274ea87b4c>:3: UserWarning: \n",
      "The dash_html_components package is deprecated. Please replace\n",
      "`import dash_html_components as html` with `from dash import html`\n",
      "  import dash_html_components as html\n"
     ]
    }
   ],
   "source": [
    "import dash\n",
    "import dash_core_components as dcc\n",
    "import dash_html_components as html\n",
    "from dash.dependencies import Input, Output\n",
    "import plotly.express as px\n",
    "import pandas as pd\n",
    "import yfinance as yf"
   ]
  },
  {
   "cell_type": "code",
   "execution_count": 3,
   "id": "0153cb55",
   "metadata": {},
   "outputs": [],
   "source": [
    "import dash\n",
    "from dash import dcc, html\n",
    "from dash.dependencies import Input, Output\n",
    "import plotly.express as px\n",
    "import pandas as pd\n",
    "import yfinance as yf"
   ]
  },
  {
   "cell_type": "code",
   "execution_count": 4,
   "id": "0b00ccd1",
   "metadata": {},
   "outputs": [],
   "source": [
    "# Define the stocks\n",
    "stocks = ['ADANIPORTS.NS', 'AXISBANK.NS', 'BAJAJFINSV.NS']"
   ]
  },
  {
   "cell_type": "code",
   "execution_count": 5,
   "id": "1b87d765",
   "metadata": {},
   "outputs": [],
   "source": [
    "# Create a Dash app\n",
    "app = dash.Dash(__name__)"
   ]
  },
  {
   "cell_type": "code",
   "execution_count": 6,
   "id": "b09c9464",
   "metadata": {},
   "outputs": [],
   "source": [
    "# Define the layout\n",
    "app.layout = html.Div([\n",
    "    html.H1('Stock Performance Dashboard'),\n",
    "    html.Div([\n",
    "        html.H4('Select Stock:'),\n",
    "        dcc.Dropdown(id='stock-dropdown', options=[{'label': stock, 'value': stock} for stock in stocks], value='AAPL')\n",
    "    ]),\n",
    "    html.Div([\n",
    "        html.H4('Select Time Frame:'),\n",
    "        dcc.DatePickerRange(id='date-picker', start_date='2020-01-01', end_date='2022-02-26')\n",
    "    ]),\n",
    "    html.Div([\n",
    "        dcc.Graph(id='stock-price-graph'),\n",
    "        dcc.Graph(id='returns-graph'),\n",
    "        dcc.Graph(id='volatility-graph'),\n",
    "        dcc.Graph(id='sharpe-ratio-graph'),\n",
    "        dcc.Graph(id='max-drawdown-graph')\n",
    "    ])\n",
    "])"
   ]
  },
  {
   "cell_type": "code",
   "execution_count": 7,
   "id": "9539029e",
   "metadata": {},
   "outputs": [
    {
     "data": {
      "text/html": [
       "\n",
       "        <iframe\n",
       "            width=\"100%\"\n",
       "            height=\"650\"\n",
       "            src=\"http://127.0.0.1:8050/\"\n",
       "            frameborder=\"0\"\n",
       "            allowfullscreen\n",
       "            \n",
       "        ></iframe>\n",
       "        "
      ],
      "text/plain": [
       "<IPython.lib.display.IFrame at 0x22a6c3fb850>"
      ]
     },
     "metadata": {},
     "output_type": "display_data"
    }
   ],
   "source": [
    "# Define the callback functions\n",
    "@app.callback(\n",
    "    Output('stock-price-graph', 'figure'),\n",
    "    [Input('stock-dropdown', 'value'),\n",
    "     Input('date-picker', 'start_date'),\n",
    "     Input('date-picker', 'end_date')]\n",
    ")\n",
    "def update_stock_price_graph(selected_stock, start_date, end_date):\n",
    "    stock_data = yf.download(selected_stock, start=start_date, end=end_date)\n",
    "    fig = px.line(stock_data, x=stock_data.index, y='Close', title='Stock Price Over Time')\n",
    "    return fig\n",
    "\n",
    "@app.callback(\n",
    "    Output('returns-graph', 'figure'),\n",
    "    [Input('stock-dropdown', 'value'),\n",
    "     Input('date-picker', 'start_date'),\n",
    "     Input('date-picker', 'end_date')]\n",
    ")\n",
    "def update_returns_graph(selected_stock, start_date, end_date):\n",
    "    stock_data = yf.download(selected_stock, start=start_date, end=end_date)\n",
    "    stock_data['Returns'] = stock_data['Close'].pct_change()\n",
    "    fig = px.bar(stock_data, x=stock_data.index, y='Returns', title='Daily Returns')\n",
    "    return fig\n",
    "\n",
    "@app.callback(\n",
    "    Output('volatility-graph', 'figure'),\n",
    "    [Input('stock-dropdown', 'value'),\n",
    "     Input('date-picker', 'start_date'),\n",
    "     Input('date-picker', 'end_date')]\n",
    ")\n",
    "def update_volatility_graph(selected_stock, start_date, end_date):\n",
    "    stock_data = yf.download(selected_stock, start=start_date, end=end_date)\n",
    "    stock_data['Volatility'] = stock_data['Close'].rolling(window=20).std()\n",
    "    fig = px.line(stock_data, x=stock_data.index, y='Volatility', title='Volatility Over Time')\n",
    "    return fig\n",
    "\n",
    "@app.callback(\n",
    "    Output('sharpe-ratio-graph', 'figure'),\n",
    "    [Input('stock-dropdown', 'value'),\n",
    "     Input('date-picker', 'start_date'),\n",
    "     Input('date-picker', 'end_date')]\n",
    ")\n",
    "def update_sharpe_ratio_graph(selected_stock, start_date, end_date):\n",
    "    stock_data = yf.download(selected_stock, start=start_date, end=end_date)\n",
    "    stock_data['Returns'] = stock_data['Close'].pct_change()\n",
    "    sharpe_ratio = stock_data['Returns'].mean() / stock_data['Returns'].std()\n",
    "    fig = px.bar(x=['Sharpe Ratio'], y=[sharpe_ratio], title='Sharpe Ratio')\n",
    "    return fig\n",
    "\n",
    "@app.callback(\n",
    "    Output('max-drawdown-graph', 'figure'),\n",
    "    [Input('stock-dropdown', 'value'),\n",
    "     Input('date-picker', 'start_date'),\n",
    "     Input('date-picker', 'end_date')]\n",
    ")\n",
    "def update_max_drawdown_graph(selected_stock, start_date, end_date):\n",
    "    stock_data = yf.download(selected_stock, start=start_date, end=end_date)\n",
    "    max_drawdown = (stock_data['Close'].cummax() - stock_data['Close']) / stock_data['Close'].cummax()\n",
    "    fig = px.line(stock_data, x=stock_data.index, y=max_drawdown, title='Max Drawdown Over Time')\n",
    "    return fig\n",
    "\n",
    "# Run the app\n",
    "if __name__ == '__main__':\n",
    "    app.run_server(debug=True)"
   ]
  },
  {
   "cell_type": "markdown",
   "id": "6d61c688",
   "metadata": {},
   "source": [
    "# 2.Feature Engineering"
   ]
  },
  {
   "cell_type": "code",
   "execution_count": 1,
   "id": "a1315377",
   "metadata": {},
   "outputs": [],
   "source": [
    "import yfinance as yf\n",
    "import pandas as pd\n",
    "import numpy as np"
   ]
  },
  {
   "cell_type": "code",
   "execution_count": 9,
   "id": "bc7ccb21",
   "metadata": {},
   "outputs": [],
   "source": [
    "import warnings\n",
    "warnings.filterwarnings('ignore')"
   ]
  },
  {
   "cell_type": "code",
   "execution_count": 10,
   "id": "75983f78",
   "metadata": {},
   "outputs": [
    {
     "name": "stderr",
     "output_type": "stream",
     "text": [
      "[*********************100%***********************]  1 of 1 completed\n"
     ]
    }
   ],
   "source": [
    "# Data Collection\n",
    "stock_data = yf.download('BAJAJFINSV.NS', start='2010-01-01', end='2022-02-26')"
   ]
  },
  {
   "cell_type": "code",
   "execution_count": 11,
   "id": "edceb572",
   "metadata": {},
   "outputs": [],
   "source": [
    "# Feature Extraction\n",
    "stock_data['MA_50'] = stock_data['Close'].rolling(window=50).mean()\n",
    "stock_data['MA_200'] = stock_data['Close'].rolling(window=200).mean()\n",
    "stock_data['EMA_50'] = stock_data['Close'].ewm(span=50, adjust=False).mean()"
   ]
  },
  {
   "cell_type": "code",
   "execution_count": 12,
   "id": "9113360d",
   "metadata": {},
   "outputs": [],
   "source": [
    "# Calculate RSI_14\n",
    "delta = stock_data['Close'].diff(1)\n",
    "up, down = delta.copy(), delta.copy()\n",
    "up[up < 0] = 0\n",
    "down[down > 0] = 0\n",
    "roll_up = up.rolling(window=14).mean()\n",
    "roll_down = down.rolling(window=14).mean().abs()\n",
    "RS = roll_up / roll_down\n",
    "stock_data['RSI_14'] = 100.0 - (100.0 / (1.0 + RS))\n",
    "stock_data['BB_UP'], stock_data['BB_MID'], stock_data['BB_LOW'] = stock_data['Close'].rolling(window=20).mean() + 2*stock_data['Close'].rolling(window=20).std(), stock_data['Close'].rolling(window=20).mean(), stock_data['Close'].rolling(window=20).mean() - 2*stock_data['Close'].rolling(window=20).std()\n",
    "stock_data['MOMENTUM_10'] = stock_data['Close'].pct_change(periods=10)"
   ]
  },
  {
   "cell_type": "code",
   "execution_count": 13,
   "id": "ff429b73",
   "metadata": {},
   "outputs": [],
   "source": [
    "# Feature Scaling\n",
    "from sklearn.preprocessing import StandardScaler\n",
    "scaler = StandardScaler()\n",
    "stock_data[['MA_50', 'MA_200', 'EMA_50', 'RSI_14', 'BB_UP', 'BB_MID', 'BB_LOW', 'MOMENTUM_10']] = scaler.fit_transform(stock_data[['MA_50', 'MA_200', 'EMA_50', 'RSI_14', 'BB_UP', 'BB_MID', 'BB_LOW', 'MOMENTUM_10']])\n"
   ]
  },
  {
   "cell_type": "markdown",
   "id": "cf95bca4",
   "metadata": {},
   "source": [
    "# Building Machine Learning Solutions"
   ]
  },
  {
   "cell_type": "code",
   "execution_count": 16,
   "id": "15bd49fd",
   "metadata": {},
   "outputs": [],
   "source": [
    "# Remove rows with missing values:\n",
    "stock_data = stock_data.dropna()"
   ]
  },
  {
   "cell_type": "code",
   "execution_count": 17,
   "id": "e1dd6af7",
   "metadata": {},
   "outputs": [],
   "source": [
    "# Impute missing values using mean or median:\n",
    "from sklearn.impute import SimpleImputer\n",
    "imputer = SimpleImputer(strategy='mean')  # or 'median'\n",
    "X_imputed = imputer.fit_transform(X)"
   ]
  },
  {
   "cell_type": "code",
   "execution_count": 18,
   "id": "5997804e",
   "metadata": {},
   "outputs": [],
   "source": [
    "# Use a pipeline with imputation:\n",
    "from sklearn.pipeline import Pipeline\n",
    "from sklearn.impute import SimpleImputer\n",
    "from sklearn.ensemble import RandomForestRegressor\n",
    "\n",
    "pipeline = Pipeline([\n",
    "    ('imputer', SimpleImputer(strategy='mean')),\n",
    "    ('regressor', RandomForestRegressor(n_estimators=100, random_state=42))\n",
    "])\n",
    "\n",
    "pipeline.fit(X_train, y_train)\n",
    "y_pred = pipeline.predict(X_test)"
   ]
  },
  {
   "cell_type": "code",
   "execution_count": 19,
   "id": "71ca408a",
   "metadata": {},
   "outputs": [
    {
     "name": "stdout",
     "output_type": "stream",
     "text": [
      "Mean Squared Error: 115.80510244860055\n"
     ]
    }
   ],
   "source": [
    "# Problem Definition\n",
    "# Predicting stock prices\n",
    "\n",
    "# Model Selection\n",
    "from sklearn.ensemble import RandomForestRegressor\n",
    "from sklearn.model_selection import train_test_split\n",
    "\n",
    "# Split data into training and testing sets\n",
    "X = stock_data[['MA_50', 'MA_200', 'EMA_50', 'RSI_14', 'BB_UP', 'BB_MID', 'BB_LOW', 'MOMENTUM_10']]\n",
    "y = stock_data['Close']\n",
    "X_train, X_test, y_train, y_test = train_test_split(X, y, test_size=0.2, random_state=42)\n",
    "\n",
    "# Model Training\n",
    "model = RandomForestRegressor(n_estimators=100, random_state=42)\n",
    "model.fit(X_train, y_train)\n",
    "\n",
    "# Model Evaluation\n",
    "from sklearn.metrics import mean_squared_error\n",
    "y_pred = model.predict(X_test)\n",
    "mse = mean_squared_error(y_test, y_pred)\n",
    "print(f'Mean Squared Error: {mse}')\n",
    "\n",
    "# Model Deployment\n",
    "# Deploy the trained model in a production-ready environment"
   ]
  },
  {
   "cell_type": "markdown",
   "id": "349a9f45",
   "metadata": {},
   "source": [
    "# Visualize the predictions:"
   ]
  },
  {
   "cell_type": "code",
   "execution_count": 21,
   "id": "23948a94",
   "metadata": {},
   "outputs": [
    {
     "data": {
      "application/vnd.plotly.v1+json": {
       "config": {
        "plotlyServerURL": "https://plot.ly"
       },
       "data": [
        {
         "name": "Actual Price",
         "type": "scatter",
         "x": [
          "2015-03-25T00:00:00",
          "2015-09-24T00:00:00",
          "2013-04-09T00:00:00",
          "2016-06-13T00:00:00",
          "2014-12-08T00:00:00",
          "2015-02-10T00:00:00",
          "2011-08-01T00:00:00",
          "2015-01-20T00:00:00",
          "2020-06-25T00:00:00",
          "2016-10-26T00:00:00",
          "2019-01-29T00:00:00",
          "2018-10-31T00:00:00",
          "2020-02-05T00:00:00",
          "2012-06-05T00:00:00",
          "2012-06-13T00:00:00",
          "2014-11-28T00:00:00",
          "2019-08-29T00:00:00",
          "2018-08-13T00:00:00",
          "2017-01-17T00:00:00",
          "2020-08-18T00:00:00",
          "2012-10-23T00:00:00",
          "2018-09-24T00:00:00",
          "2018-11-30T00:00:00",
          "2013-06-25T00:00:00",
          "2017-03-27T00:00:00",
          "2016-06-17T00:00:00",
          "2012-06-15T00:00:00",
          "2021-09-17T00:00:00",
          "2015-07-24T00:00:00",
          "2017-05-18T00:00:00",
          "2018-12-06T00:00:00",
          "2017-04-24T00:00:00",
          "2015-10-23T00:00:00",
          "2012-08-01T00:00:00",
          "2018-11-28T00:00:00",
          "2017-01-06T00:00:00",
          "2015-07-31T00:00:00",
          "2020-09-03T00:00:00",
          "2012-06-21T00:00:00",
          "2013-11-20T00:00:00",
          "2012-07-23T00:00:00",
          "2013-12-27T00:00:00",
          "2019-12-10T00:00:00",
          "2017-05-15T00:00:00",
          "2019-01-28T00:00:00",
          "2016-12-26T00:00:00",
          "2021-01-22T00:00:00",
          "2019-05-29T00:00:00",
          "2017-10-04T00:00:00",
          "2013-12-18T00:00:00",
          "2012-11-26T00:00:00",
          "2020-02-07T00:00:00",
          "2021-08-10T00:00:00",
          "2014-07-24T00:00:00",
          "2018-08-29T00:00:00",
          "2016-10-05T00:00:00",
          "2017-05-25T00:00:00",
          "2020-06-18T00:00:00",
          "2016-12-13T00:00:00",
          "2015-01-01T00:00:00",
          "2021-12-06T00:00:00",
          "2012-02-21T00:00:00",
          "2015-01-06T00:00:00",
          "2017-11-21T00:00:00",
          "2021-08-30T00:00:00",
          "2016-09-29T00:00:00",
          "2019-04-09T00:00:00",
          "2016-07-14T00:00:00",
          "2019-07-31T00:00:00",
          "2016-08-22T00:00:00",
          "2012-05-15T00:00:00",
          "2011-08-23T00:00:00",
          "2015-03-31T00:00:00",
          "2017-09-28T00:00:00",
          "2017-11-10T00:00:00",
          "2017-11-22T00:00:00",
          "2012-02-01T00:00:00",
          "2019-09-13T00:00:00",
          "2017-06-21T00:00:00",
          "2018-02-02T00:00:00",
          "2010-12-06T00:00:00",
          "2015-05-21T00:00:00",
          "2011-01-25T00:00:00",
          "2017-01-10T00:00:00",
          "2011-07-28T00:00:00",
          "2012-08-23T00:00:00",
          "2014-05-07T00:00:00",
          "2011-10-04T00:00:00",
          "2021-01-21T00:00:00",
          "2016-06-24T00:00:00",
          "2012-02-07T00:00:00",
          "2014-09-10T00:00:00",
          "2017-03-02T00:00:00",
          "2018-04-30T00:00:00",
          "2016-07-27T00:00:00",
          "2021-05-11T00:00:00",
          "2019-11-04T00:00:00",
          "2018-06-11T00:00:00",
          "2018-08-10T00:00:00",
          "2015-09-10T00:00:00",
          "2012-04-16T00:00:00",
          "2020-05-15T00:00:00",
          "2017-04-07T00:00:00",
          "2012-09-25T00:00:00",
          "2014-12-03T00:00:00",
          "2019-05-07T00:00:00",
          "2012-01-03T00:00:00",
          "2021-03-17T00:00:00",
          "2015-09-01T00:00:00",
          "2021-11-12T00:00:00",
          "2016-04-20T00:00:00",
          "2016-01-06T00:00:00",
          "2013-06-10T00:00:00",
          "2014-03-13T00:00:00",
          "2014-06-30T00:00:00",
          "2021-11-26T00:00:00",
          "2010-12-02T00:00:00",
          "2018-01-02T00:00:00",
          "2013-01-17T00:00:00",
          "2019-01-11T00:00:00",
          "2019-07-16T00:00:00",
          "2011-05-16T00:00:00",
          "2015-04-21T00:00:00",
          "2017-01-25T00:00:00",
          "2020-12-30T00:00:00",
          "2021-08-09T00:00:00",
          "2018-02-26T00:00:00",
          "2013-04-18T00:00:00",
          "2021-07-01T00:00:00",
          "2018-09-19T00:00:00",
          "2012-01-18T00:00:00",
          "2019-09-05T00:00:00",
          "2019-07-19T00:00:00",
          "2020-02-12T00:00:00",
          "2022-02-04T00:00:00",
          "2018-07-02T00:00:00",
          "2011-02-03T00:00:00",
          "2019-08-28T00:00:00",
          "2011-01-19T00:00:00",
          "2018-10-30T00:00:00",
          "2012-09-24T00:00:00",
          "2010-12-24T00:00:00",
          "2015-01-29T00:00:00",
          "2016-08-01T00:00:00",
          "2011-12-30T00:00:00",
          "2011-02-14T00:00:00",
          "2017-04-21T00:00:00",
          "2011-07-06T00:00:00",
          "2020-10-30T00:00:00",
          "2020-10-19T00:00:00",
          "2012-07-18T00:00:00",
          "2014-12-22T00:00:00",
          "2012-11-06T00:00:00",
          "2016-04-18T00:00:00",
          "2012-05-23T00:00:00",
          "2018-12-07T00:00:00",
          "2017-09-06T00:00:00",
          "2016-08-11T00:00:00",
          "2020-03-09T00:00:00",
          "2013-02-12T00:00:00",
          "2014-01-07T00:00:00",
          "2021-06-29T00:00:00",
          "2015-02-20T00:00:00",
          "2016-05-11T00:00:00",
          "2014-10-28T00:00:00",
          "2013-01-02T00:00:00",
          "2017-08-10T00:00:00",
          "2014-12-30T00:00:00",
          "2020-03-24T00:00:00",
          "2010-12-23T00:00:00",
          "2020-03-25T00:00:00",
          "2012-04-17T00:00:00",
          "2021-02-15T00:00:00",
          "2012-10-05T00:00:00",
          "2015-10-05T00:00:00",
          "2016-11-28T00:00:00",
          "2016-05-24T00:00:00",
          "2014-03-25T00:00:00",
          "2011-03-04T00:00:00",
          "2013-01-31T00:00:00",
          "2011-07-01T00:00:00",
          "2021-06-24T00:00:00",
          "2018-03-27T00:00:00",
          "2018-04-24T00:00:00",
          "2012-07-26T00:00:00",
          "2017-10-26T00:00:00",
          "2021-10-25T00:00:00",
          "2014-06-23T00:00:00",
          "2019-06-19T00:00:00",
          "2014-05-30T00:00:00",
          "2013-12-19T00:00:00",
          "2020-12-11T00:00:00",
          "2012-10-04T00:00:00",
          "2015-11-06T00:00:00",
          "2021-02-25T00:00:00",
          "2014-04-25T00:00:00",
          "2020-01-31T00:00:00",
          "2014-01-20T00:00:00",
          "2021-12-02T00:00:00",
          "2012-07-17T00:00:00",
          "2013-02-01T00:00:00",
          "2019-04-04T00:00:00",
          "2012-09-03T00:00:00",
          "2017-10-27T00:00:00",
          "2015-04-27T00:00:00",
          "2014-01-01T00:00:00",
          "2021-04-29T00:00:00",
          "2019-06-25T00:00:00",
          "2017-07-13T00:00:00",
          "2016-08-18T00:00:00",
          "2020-12-14T00:00:00",
          "2011-01-31T00:00:00",
          "2020-07-06T00:00:00",
          "2017-11-17T00:00:00",
          "2021-10-01T00:00:00",
          "2016-07-26T00:00:00",
          "2011-01-10T00:00:00",
          "2021-04-22T00:00:00",
          "2017-02-14T00:00:00",
          "2012-02-06T00:00:00",
          "2013-03-26T00:00:00",
          "2016-01-14T00:00:00",
          "2014-06-27T00:00:00",
          "2016-01-04T00:00:00",
          "2012-12-10T00:00:00",
          "2013-08-27T00:00:00",
          "2017-02-20T00:00:00",
          "2015-02-25T00:00:00",
          "2012-07-13T00:00:00",
          "2016-03-02T00:00:00",
          "2014-02-11T00:00:00",
          "2016-05-26T00:00:00",
          "2015-01-12T00:00:00",
          "2011-04-20T00:00:00",
          "2020-11-10T00:00:00",
          "2020-04-20T00:00:00",
          "2016-05-23T00:00:00",
          "2018-03-28T00:00:00",
          "2017-04-06T00:00:00",
          "2019-08-21T00:00:00",
          "2022-01-03T00:00:00",
          "2021-03-16T00:00:00",
          "2017-11-29T00:00:00",
          "2018-06-08T00:00:00",
          "2020-12-07T00:00:00",
          "2019-06-18T00:00:00",
          "2016-05-13T00:00:00",
          "2021-12-23T00:00:00",
          "2014-10-08T00:00:00",
          "2018-09-17T00:00:00",
          "2013-06-14T00:00:00",
          "2021-02-18T00:00:00",
          "2012-12-18T00:00:00",
          "2021-03-08T00:00:00",
          "2020-01-23T00:00:00",
          "2013-10-24T00:00:00",
          "2011-09-26T00:00:00",
          "2014-10-01T00:00:00",
          "2021-06-18T00:00:00",
          "2017-08-29T00:00:00",
          "2016-07-08T00:00:00",
          "2018-11-26T00:00:00",
          "2019-07-25T00:00:00",
          "2020-04-27T00:00:00",
          "2018-08-21T00:00:00",
          "2013-04-02T00:00:00",
          "2012-03-26T00:00:00",
          "2020-08-25T00:00:00",
          "2012-06-22T00:00:00",
          "2017-09-22T00:00:00",
          "2016-03-15T00:00:00",
          "2021-12-31T00:00:00",
          "2012-10-18T00:00:00",
          "2016-08-03T00:00:00",
          "2020-02-18T00:00:00",
          "2012-12-17T00:00:00",
          "2020-01-13T00:00:00",
          "2010-12-01T00:00:00",
          "2019-02-04T00:00:00",
          "2020-07-15T00:00:00",
          "2013-09-17T00:00:00",
          "2020-05-19T00:00:00",
          "2014-06-17T00:00:00",
          "2019-04-16T00:00:00",
          "2011-07-20T00:00:00",
          "2011-06-24T00:00:00",
          "2016-07-15T00:00:00",
          "2010-12-22T00:00:00",
          "2011-02-23T00:00:00",
          "2014-01-13T00:00:00",
          "2014-03-21T00:00:00",
          "2011-12-12T00:00:00",
          "2012-02-09T00:00:00",
          "2012-06-18T00:00:00",
          "2016-07-25T00:00:00",
          "2021-02-17T00:00:00",
          "2017-10-10T00:00:00",
          "2015-03-09T00:00:00",
          "2020-02-11T00:00:00",
          "2011-05-26T00:00:00",
          "2018-01-05T00:00:00",
          "2015-12-03T00:00:00",
          "2017-08-08T00:00:00",
          "2015-12-30T00:00:00",
          "2021-08-17T00:00:00",
          "2018-08-14T00:00:00",
          "2011-05-05T00:00:00",
          "2013-01-03T00:00:00",
          "2019-04-25T00:00:00",
          "2015-08-25T00:00:00",
          "2020-01-06T00:00:00",
          "2021-05-20T00:00:00",
          "2017-08-07T00:00:00",
          "2015-07-06T00:00:00",
          "2022-01-04T00:00:00",
          "2018-04-16T00:00:00",
          "2021-10-19T00:00:00",
          "2011-09-08T00:00:00",
          "2017-08-22T00:00:00",
          "2018-06-19T00:00:00",
          "2014-11-19T00:00:00",
          "2011-06-29T00:00:00",
          "2022-02-25T00:00:00",
          "2014-09-22T00:00:00",
          "2019-12-27T00:00:00",
          "2015-10-06T00:00:00",
          "2013-08-12T00:00:00",
          "2015-10-12T00:00:00",
          "2019-01-14T00:00:00",
          "2011-05-31T00:00:00",
          "2019-01-22T00:00:00",
          "2014-09-16T00:00:00",
          "2011-11-23T00:00:00",
          "2017-06-19T00:00:00",
          "2015-05-19T00:00:00",
          "2014-04-11T00:00:00",
          "2012-08-10T00:00:00",
          "2014-01-28T00:00:00",
          "2022-01-06T00:00:00",
          "2013-09-27T00:00:00",
          "2020-08-26T00:00:00",
          "2011-11-02T00:00:00",
          "2018-10-09T00:00:00",
          "2015-10-26T00:00:00",
          "2013-07-16T00:00:00",
          "2020-06-15T00:00:00",
          "2011-10-28T00:00:00",
          "2012-11-09T00:00:00",
          "2015-04-10T00:00:00",
          "2016-12-30T00:00:00",
          "2011-06-22T00:00:00",
          "2012-06-29T00:00:00",
          "2020-11-03T00:00:00",
          "2013-11-26T00:00:00",
          "2011-12-23T00:00:00",
          "2013-08-29T00:00:00",
          "2012-11-15T00:00:00",
          "2014-11-11T00:00:00",
          "2011-05-06T00:00:00",
          "2014-06-12T00:00:00",
          "2021-09-28T00:00:00",
          "2020-03-05T00:00:00",
          "2018-07-23T00:00:00",
          "2020-01-24T00:00:00",
          "2015-11-19T00:00:00",
          "2013-07-05T00:00:00",
          "2018-02-28T00:00:00",
          "2014-05-14T00:00:00",
          "2020-08-28T00:00:00",
          "2012-11-07T00:00:00",
          "2016-07-05T00:00:00",
          "2021-05-07T00:00:00",
          "2014-10-20T00:00:00",
          "2011-08-22T00:00:00",
          "2021-04-20T00:00:00",
          "2018-09-27T00:00:00",
          "2012-04-12T00:00:00",
          "2012-06-12T00:00:00",
          "2020-06-10T00:00:00",
          "2013-10-28T00:00:00",
          "2019-11-15T00:00:00",
          "2012-09-12T00:00:00",
          "2017-12-11T00:00:00",
          "2017-04-20T00:00:00",
          "2011-03-25T00:00:00",
          "2019-12-12T00:00:00",
          "2012-12-11T00:00:00",
          "2018-03-26T00:00:00",
          "2013-01-22T00:00:00",
          "2012-02-22T00:00:00",
          "2016-03-28T00:00:00",
          "2014-01-17T00:00:00",
          "2016-09-28T00:00:00",
          "2016-12-07T00:00:00",
          "2016-06-07T00:00:00",
          "2021-07-20T00:00:00",
          "2021-09-22T00:00:00",
          "2012-08-31T00:00:00",
          "2011-08-04T00:00:00",
          "2018-04-17T00:00:00",
          "2019-06-20T00:00:00",
          "2011-12-21T00:00:00",
          "2011-10-14T00:00:00",
          "2019-11-19T00:00:00",
          "2014-08-27T00:00:00",
          "2016-04-13T00:00:00",
          "2016-05-31T00:00:00",
          "2012-08-28T00:00:00",
          "2016-04-21T00:00:00",
          "2013-11-28T00:00:00",
          "2018-05-22T00:00:00",
          "2015-08-26T00:00:00",
          "2019-04-12T00:00:00",
          "2020-07-22T00:00:00",
          "2015-06-17T00:00:00",
          "2017-12-13T00:00:00",
          "2021-08-31T00:00:00",
          "2020-08-17T00:00:00",
          "2015-10-30T00:00:00",
          "2020-01-29T00:00:00",
          "2011-03-21T00:00:00",
          "2018-10-10T00:00:00",
          "2014-02-13T00:00:00",
          "2018-05-24T00:00:00",
          "2017-05-09T00:00:00",
          "2013-02-05T00:00:00",
          "2020-09-28T00:00:00",
          "2020-04-23T00:00:00",
          "2016-06-21T00:00:00",
          "2019-02-12T00:00:00",
          "2011-09-15T00:00:00",
          "2011-09-22T00:00:00",
          "2021-04-05T00:00:00",
          "2021-04-08T00:00:00",
          "2011-03-30T00:00:00",
          "2011-01-03T00:00:00",
          "2019-10-04T00:00:00",
          "2017-05-16T00:00:00",
          "2014-07-21T00:00:00",
          "2019-10-16T00:00:00",
          "2020-11-02T00:00:00",
          "2018-01-04T00:00:00",
          "2021-10-12T00:00:00",
          "2012-11-30T00:00:00",
          "2014-02-28T00:00:00",
          "2021-07-05T00:00:00",
          "2016-07-18T00:00:00",
          "2018-07-19T00:00:00",
          "2017-10-24T00:00:00",
          "2016-01-22T00:00:00",
          "2015-05-22T00:00:00",
          "2021-06-14T00:00:00",
          "2017-10-30T00:00:00",
          "2013-08-07T00:00:00",
          "2011-08-24T00:00:00",
          "2018-09-03T00:00:00",
          "2014-01-30T00:00:00",
          "2021-10-20T00:00:00",
          "2012-07-03T00:00:00",
          "2014-04-09T00:00:00",
          "2012-01-24T00:00:00",
          "2019-06-07T00:00:00",
          "2015-01-15T00:00:00",
          "2012-12-20T00:00:00",
          "2021-10-29T00:00:00",
          "2020-10-26T00:00:00",
          "2015-11-23T00:00:00",
          "2011-09-05T00:00:00",
          "2014-02-07T00:00:00",
          "2015-06-02T00:00:00",
          "2016-07-07T00:00:00",
          "2013-12-24T00:00:00",
          "2017-10-18T00:00:00",
          "2022-02-24T00:00:00",
          "2013-07-18T00:00:00",
          "2017-01-18T00:00:00",
          "2019-06-26T00:00:00",
          "2020-12-31T00:00:00",
          "2020-10-29T00:00:00",
          "2013-02-06T00:00:00",
          "2021-02-23T00:00:00",
          "2021-02-04T00:00:00",
          "2017-02-16T00:00:00",
          "2019-04-05T00:00:00",
          "2019-10-01T00:00:00",
          "2017-09-29T00:00:00",
          "2020-07-20T00:00:00",
          "2021-11-18T00:00:00",
          "2021-06-25T00:00:00",
          "2022-02-08T00:00:00",
          "2016-09-09T00:00:00",
          "2019-10-29T00:00:00",
          "2013-12-31T00:00:00",
          "2015-05-06T00:00:00",
          "2021-10-28T00:00:00",
          "2012-03-30T00:00:00",
          "2019-08-14T00:00:00",
          "2011-11-25T00:00:00",
          "2015-12-21T00:00:00",
          "2011-03-17T00:00:00",
          "2014-11-14T00:00:00",
          "2011-11-04T00:00:00",
          "2011-03-09T00:00:00",
          "2011-10-21T00:00:00",
          "2013-08-20T00:00:00",
          "2019-11-20T00:00:00",
          "2015-02-13T00:00:00",
          "2017-11-27T00:00:00",
          "2013-11-18T00:00:00",
          "2019-12-11T00:00:00",
          "2013-11-11T00:00:00",
          "2016-02-12T00:00:00",
          "2013-03-21T00:00:00",
          "2021-02-08T00:00:00",
          "2019-08-08T00:00:00",
          "2012-08-22T00:00:00",
          "2012-08-30T00:00:00",
          "2019-03-27T00:00:00",
          "2020-06-24T00:00:00",
          "2012-05-07T00:00:00",
          "2019-06-06T00:00:00",
          "2020-10-14T00:00:00",
          "2014-01-24T00:00:00",
          "2013-12-05T00:00:00",
          "2015-10-16T00:00:00",
          "2015-10-27T00:00:00",
          "2014-08-12T00:00:00",
          "2015-11-13T00:00:00",
          "2014-03-11T00:00:00",
          "2019-09-30T00:00:00",
          "2019-06-21T00:00:00",
          "2017-01-11T00:00:00",
          "2017-04-19T00:00:00",
          "2015-12-10T00:00:00",
          "2019-02-22T00:00:00",
          "2015-08-20T00:00:00",
          "2014-12-16T00:00:00",
          "2021-10-07T00:00:00",
          "2014-08-11T00:00:00",
          "2019-07-15T00:00:00",
          "2021-01-18T00:00:00",
          "2017-12-18T00:00:00",
          "2012-07-20T00:00:00",
          "2015-03-26T00:00:00",
          "2011-09-30T00:00:00",
          "2016-03-30T00:00:00",
          "2011-03-28T00:00:00",
          "2018-02-27T00:00:00",
          "2011-06-15T00:00:00",
          "2018-08-09T00:00:00",
          "2011-10-24T00:00:00",
          "2017-11-06T00:00:00",
          "2019-10-18T00:00:00",
          "2016-07-29T00:00:00",
          "2013-02-25T00:00:00",
          "2013-07-26T00:00:00",
          "2019-08-22T00:00:00",
          "2019-09-23T00:00:00",
          "2013-07-15T00:00:00",
          "2014-11-27T00:00:00",
          "2022-01-19T00:00:00"
         ],
         "y": [
          [
           136.74339294433594
          ],
          [
           173.7216033935547
          ],
          [
           74.77459716796875
          ],
          [
           176.5907440185547
          ],
          [
           135.21665954589844
          ],
          [
           142.87510681152344
          ],
          [
           51.07894515991211
          ],
          [
           131.48196411132812
          ],
          [
           601.05615234375
          ],
          [
           331.6788330078125
          ],
          [
           621.6568603515625
          ],
          [
           539.0360107421875
          ],
          [
           956.9163208007812
          ],
          [
           61.978309631347656
          ],
          [
           64.28926086425781
          ],
          [
           114.4393539428711
          ],
          [
           696.3667602539062
          ],
          [
           692.70849609375
          ],
          [
           300.9571838378906
          ],
          [
           633.1895141601562
          ],
          [
           87.46730041503906
          ],
          [
           605.1605834960938
          ],
          [
           597.8499755859375
          ],
          [
           61.44302749633789
          ],
          [
           403.1233825683594
          ],
          [
           204.92535400390625
          ],
          [
           63.02698516845703
          ],
          [
           1681.4661865234375
          ],
          [
           171.92953491210938
          ],
          [
           430.45135498046875
          ],
          [
           565.2514038085938
          ],
          [
           435.708740234375
          ],
          [
           182.12940979003906
          ],
          [
           72.38800811767578
          ],
          [
           580.3064575195312
          ],
          [
           296.8559875488281
          ],
          [
           183.75723266601562
          ],
          [
           634.4373168945312
          ],
          [
           62.40068054199219
          ],
          [
           69.6094970703125
          ],
          [
           70.291015625
          ],
          [
           72.08650207519531
          ],
          [
           890.6502075195312
          ],
          [
           453.5685729980469
          ],
          [
           603.489990234375
          ],
          [
           260.9069519042969
          ],
          [
           905.5048217773438
          ],
          [
           811.0248413085938
          ],
          [
           525.9027709960938
          ],
          [
           68.75569152832031
          ],
          [
           87.02654266357422
          ],
          [
           960.098876953125
          ],
          [
           1401.521484375
          ],
          [
           92.51822662353516
          ],
          [
           695.0123291015625
          ],
          [
           314.40692138671875
          ],
          [
           398.369384765625
          ],
          [
           541.800537109375
          ],
          [
           286.51580810546875
          ],
          [
           127.96599578857422
          ],
          [
           1686.782958984375
          ],
          [
           56.37084197998047
          ],
          [
           122.29672241210938
          ],
          [
           519.0927124023438
          ],
          [
           1653.528564453125
          ],
          [
           309.52838134765625
          ],
          [
           735.9688110351562
          ],
          [
           238.92593383789062
          ],
          [
           708.1393432617188
          ],
          [
           270.88836669921875
          ],
          [
           69.71710205078125
          ],
          [
           49.20492172241211
          ],
          [
           140.69200134277344
          ],
          [
           502.8953857421875
          ],
          [
           501.2701721191406
          ],
          [
           516.1165771484375
          ],
          [
           44.5635986328125
          ],
          [
           737.1619262695312
          ],
          [
           425.40838623046875
          ],
          [
           492.1271057128906
          ],
          [
           47.18288040161133
          ],
          [
           145.26715087890625
          ],
          [
           41.06101608276367
          ],
          [
           300.0054016113281
          ],
          [
           52.19072723388672
          ],
          [
           85.81661224365234
          ],
          [
           81.49320220947266
          ],
          [
           48.874794006347656
          ],
          [
           903.68798828125
          ],
          [
           207.06814575195312
          ],
          [
           47.90866470336914
          ],
          [
           107.0046615600586
          ],
          [
           386.2501220703125
          ],
          [
           546.6517333984375
          ],
          [
           260.5382080078125
          ],
          [
           1117.336669921875
          ],
          [
           868.641357421875
          ],
          [
           605.1148071289062
          ],
          [
           706.5119018554688
          ],
          [
           179.72999572753906
          ],
          [
           64.58541870117188
          ],
          [
           471.494384765625
          ],
          [
           421.2025146484375
          ],
          [
           81.51962280273438
          ],
          [
           123.8035659790039
          ],
          [
           754.1954345703125
          ],
          [
           42.354591369628906
          ],
          [
           950.8349609375
          ],
          [
           176.47938537597656
          ],
          [
           1824.6087646484375
          ],
          [
           187.54388427734375
          ],
          [
           193.00131225585938
          ],
          [
           64.42925262451172
          ],
          [
           70.8852310180664
          ],
          [
           92.80107116699219
          ],
          [
           1665.7249755859375
          ],
          [
           46.91650390625
          ],
          [
           508.61358642578125
          ],
          [
           82.10893249511719
          ],
          [
           635.4801635742188
          ],
          [
           786.3426513671875
          ],
          [
           48.04013442993164
          ],
          [
           133.82919311523438
          ],
          [
           315.9068603515625
          ],
          [
           894.593994140625
          ],
          [
           1422.1300048828125
          ],
          [
           517.7716064453125
          ],
          [
           77.11701965332031
          ],
          [
           1179.56689453125
          ],
          [
           629.5360107421875
          ],
          [
           45.524871826171875
          ],
          [
           698.4817504882812
          ],
          [
           754.8807373046875
          ],
          [
           974.9193725585938
          ],
          [
           1618.1173095703125
          ],
          [
           576.1349487304688
          ],
          [
           39.57414245605469
          ],
          [
           701.963623046875
          ],
          [
           42.179813385009766
          ],
          [
           537.6895141601562
          ],
          [
           81.92570495605469
          ],
          [
           43.71511459350586
          ],
          [
           145.23733520507812
          ],
          [
           281.92620849609375
          ],
          [
           41.67974853515625
          ],
          [
           41.40004348754883
          ],
          [
           428.9613952636719
          ],
          [
           50.37983322143555
          ],
          [
           556.369873046875
          ],
          [
           597.0581665039062
          ],
          [
           69.40060424804688
          ],
          [
           130.25857543945312
          ],
          [
           84.17402648925781
          ],
          [
           186.5322723388672
          ],
          [
           64.22615814208984
          ],
          [
           583.4431762695312
          ],
          [
           544.014404296875
          ],
          [
           275.1290588378906
          ],
          [
           819.2667236328125
          ],
          [
           80.13792419433594
          ],
          [
           72.57794189453125
          ],
          [
           1227.8270263671875
          ],
          [
           146.34133911132812
          ],
          [
           186.68174743652344
          ],
          [
           104.91600799560547
          ],
          [
           90.1613540649414
          ],
          [
           501.0009460449219
          ],
          [
           130.91497802734375
          ],
          [
           448.9840393066406
          ],
          [
           43.58919143676758
          ],
          [
           482.1805419921875
          ],
          [
           65.31851959228516
          ],
          [
           1051.9169921875
          ],
          [
           90.9636001586914
          ],
          [
           179.14759826660156
          ],
          [
           293.2032470703125
          ],
          [
           175.63394165039062
          ],
          [
           71.00932312011719
          ],
          [
           52.989925384521484
          ],
          [
           84.38697814941406
          ],
          [
           50.030269622802734
          ],
          [
           1231.156005859375
          ],
          [
           524.3523559570312
          ],
          [
           541.1727905273438
          ],
          [
           69.80445098876953
          ],
          [
           496.738525390625
          ],
          [
           1805.971923828125
          ],
          [
           92.31462860107422
          ],
          [
           823.5167236328125
          ],
          [
           84.58572387695312
          ],
          [
           69.42088317871094
          ],
          [
           897.923095703125
          ],
          [
           94.4896469116211
          ],
          [
           196.93389892578125
          ],
          [
           1024.639892578125
          ],
          [
           81.03155517578125
          ],
          [
           941.9510498046875
          ],
          [
           67.93168640136719
          ],
          [
           1773.121826171875
          ],
          [
           66.26728057861328
          ],
          [
           84.22354888916016
          ],
          [
           729.9197387695312
          ],
          [
           77.9200210571289
          ],
          [
           501.91827392578125
          ],
          [
           131.88970947265625
          ],
          [
           75.46199798583984
          ],
          [
           1115.689453125
          ],
          [
           832.4080810546875
          ],
          [
           435.17462158203125
          ],
          [
           270.260498046875
          ],
          [
           891.7789306640625
          ],
          [
           39.59836196899414
          ],
          [
           627.3947143554688
          ],
          [
           511.47021484375
          ],
          [
           1715.1749267578125
          ],
          [
           270.5943908691406
          ],
          [
           42.45103073120117
          ],
          [
           983.652099609375
          ],
          [
           358.0849304199219
          ],
          [
           47.428016662597656
          ],
          [
           75.23019409179688
          ],
          [
           194.03176879882812
          ],
          [
           91.90756225585938
          ],
          [
           195.0870819091797
          ],
          [
           93.03368377685547
          ],
          [
           57.2492561340332
          ],
          [
           362.95355224609375
          ],
          [
           142.3529815673828
          ],
          [
           66.99222564697266
          ],
          [
           171.04344177246094
          ],
          [
           67.66363525390625
          ],
          [
           178.61390686035156
          ],
          [
           126.086181640625
          ],
          [
           52.888221740722656
          ],
          [
           667.5889892578125
          ],
          [
           487.3664245605469
          ],
          [
           180.0092010498047
          ],
          [
           515.6380004882812
          ],
          [
           416.4335632324219
          ],
          [
           712.92822265625
          ],
          [
           1695.5546875
          ],
          [
           959.6394653320312
          ],
          [
           529.0035400390625
          ],
          [
           600.7822875976562
          ],
          [
           903.6031494140625
          ],
          [
           822.444580078125
          ],
          [
           186.09872436523438
          ],
          [
           1614.5377197265625
          ],
          [
           110.92342376708984
          ],
          [
           653.2631225585938
          ],
          [
           61.33407974243164
          ],
          [
           1018.1014404296875
          ],
          [
           91.59750366210938
          ],
          [
           982.1796875
          ],
          [
           951.2094116210938
          ],
          [
           64.25338745117188
          ],
          [
           51.0498046875
          ],
          [
           111.9876480102539
          ],
          [
           1197.824951171875
          ],
          [
           542.6983032226562
          ],
          [
           229.83152770996094
          ],
          [
           572.2727661132812
          ],
          [
           676.6575317382812
          ],
          [
           460.93798828125
          ],
          [
           709.7782592773438
          ],
          [
           76.98826599121094
          ],
          [
           58.14775085449219
          ],
          [
           649.116455078125
          ],
          [
           61.99287796020508
          ],
          [
           521.6303100585938
          ],
          [
           165.4232940673828
          ],
          [
           1638.1319580078125
          ],
          [
           86.33817291259766
          ],
          [
           263.6627197265625
          ],
          [
           950.7406005859375
          ],
          [
           92.55329132080078
          ],
          [
           943.3328247070312
          ],
          [
           46.65496826171875
          ],
          [
           599.3310546875
          ],
          [
           615.76025390625
          ],
          [
           57.46767044067383
          ],
          [
           452.7474365234375
          ],
          [
           90.96440124511719
          ],
          [
           755.8910522460938
          ],
          [
           52.928688049316406
          ],
          [
           49.042686462402344
          ],
          [
           242.2049102783203
          ],
          [
           43.02737045288086
          ],
          [
           43.40998840332031
          ],
          [
           71.43622589111328
          ],
          [
           70.98947143554688
          ],
          [
           40.89810562133789
          ],
          [
           49.91375732421875
          ],
          [
           62.96871566772461
          ],
          [
           259.1229248046875
          ],
          [
           1016.7737426757812
          ],
          [
           531.80029296875
          ],
          [
           146.2766876220703
          ],
          [
           970.9037475585938
          ],
          [
           46.950401306152344
          ],
          [
           511.21588134765625
          ],
          [
           201.76260375976562
          ],
          [
           532.0446166992188
          ],
          [
           193.7729034423828
          ],
          [
           1471.489990234375
          ],
          [
           709.3893432617188
          ],
          [
           46.83900833129883
          ],
          [
           90.616943359375
          ],
          [
           764.9219970703125
          ],
          [
           170.07272338867188
          ],
          [
           902.1734619140625
          ],
          [
           1120.8155517578125
          ],
          [
           541.711181640625
          ],
          [
           170.9976348876953
          ],
          [
           1710.9464111328125
          ],
          [
           537.0349731445312
          ],
          [
           1904.7620849609375
          ],
          [
           53.15200424194336
          ],
          [
           521.9244995117188
          ],
          [
           589.5853881835938
          ],
          [
           104.30928039550781
          ],
          [
           50.302146911621094
          ],
          [
           1574.8231201171875
          ],
          [
           105.34864807128906
          ],
          [
           942.1256103515625
          ],
          [
           177.4102783203125
          ],
          [
           58.23211669921875
          ],
          [
           178.35610961914062
          ],
          [
           635.196044921875
          ],
          [
           50.21474838256836
          ],
          [
           641.853271484375
          ],
          [
           102.26536560058594
          ],
          [
           45.66081237792969
          ],
          [
           422.8220520019531
          ],
          [
           145.83407592773438
          ],
          [
           77.43763732910156
          ],
          [
           87.46600341796875
          ],
          [
           67.41046142578125
          ],
          [
           1795.92236328125
          ],
          [
           60.94243621826172
          ],
          [
           655.2855834960938
          ],
          [
           52.4140510559082
          ],
          [
           541.474365234375
          ],
          [
           189.71583557128906
          ],
          [
           63.85626983642578
          ],
          [
           509.4624328613281
          ],
          [
           52.55485534667969
          ],
          [
           83.02509307861328
          ],
          [
           144.7002410888672
          ],
          [
           288.5140686035156
          ],
          [
           47.178035736083984
          ],
          [
           66.44972229003906
          ],
          [
           573.3499145507812
          ],
          [
           71.1929931640625
          ],
          [
           41.038902282714844
          ],
          [
           59.16037368774414
          ],
          [
           82.88642120361328
          ],
          [
           105.46800231933594
          ],
          [
           47.04726028442383
          ],
          [
           91.8877182006836
          ],
          [
           1752.3734130859375
          ],
          [
           886.4284057617188
          ],
          [
           690.4794311523438
          ],
          [
           961.1414794921875
          ],
          [
           192.3890380859375
          ],
          [
           63.0670051574707
          ],
          [
           503.6881103515625
          ],
          [
           83.3794937133789
          ],
          [
           653.4038696289062
          ],
          [
           83.81745147705078
          ],
          [
           230.6886749267578
          ],
          [
           1129.8544921875
          ],
          [
           101.01217651367188
          ],
          [
           48.08829116821289
          ],
          [
           980.213134765625
          ],
          [
           596.3988037109375
          ],
          [
           66.7652816772461
          ],
          [
           64.33296203613281
          ],
          [
           521.3814697265625
          ],
          [
           62.6351432800293
          ],
          [
           903.6849365234375
          ],
          [
           73.630615234375
          ],
          [
           509.1320495605469
          ],
          [
           434.0791931152344
          ],
          [
           50.166316986083984
          ],
          [
           914.7991333007812
          ],
          [
           91.46379852294922
          ],
          [
           513.593994140625
          ],
          [
           85.847900390625
          ],
          [
           56.21062469482422
          ],
          [
           167.919921875
          ],
          [
           68.70109558105469
          ],
          [
           322.3800964355469
          ],
          [
           294.7281188964844
          ],
          [
           187.0455322265625
          ],
          [
           1257.804443359375
          ],
          [
           1758.8035888671875
          ],
          [
           77.47724914550781
          ],
          [
           49.559349060058594
          ],
          [
           541.0182495117188
          ],
          [
           839.5591430664062
          ],
          [
           39.63097381591797
          ],
          [
           51.015830993652344
          ],
          [
           913.157958984375
          ],
          [
           102.88699340820312
          ],
          [
           181.50914001464844
          ],
          [
           181.45436096191406
          ],
          [
           77.46265411376953
          ],
          [
           184.0207061767578
          ],
          [
           71.3568115234375
          ],
          [
           595.42822265625
          ],
          [
           170.64517211914062
          ],
          [
           751.692138671875
          ],
          [
           633.6237182617188
          ],
          [
           149.22071838378906
          ],
          [
           504.1317443847656
          ],
          [
           1712.2742919921875
          ],
          [
           625.8075561523438
          ],
          [
           195.93336486816406
          ],
          [
           987.1309814453125
          ],
          [
           48.84894943237305
          ],
          [
           594.57373046875
          ],
          [
           67.77779388427734
          ],
          [
           580.9308471679688
          ],
          [
           436.3764343261719
          ],
          [
           83.17366790771484
          ],
          [
           597.5422973632812
          ],
          [
           472.1282653808594
          ],
          [
           200.62982177734375
          ],
          [
           608.028076171875
          ],
          [
           52.598541259765625
          ],
          [
           52.821861267089844
          ],
          [
           946.4974975585938
          ],
          [
           963.7820434570312
          ],
          [
           50.00648880004883
          ],
          [
           45.56523513793945
          ],
          [
           828.1505126953125
          ],
          [
           455.21807861328125
          ],
          [
           94.55220794677734
          ],
          [
           811.5440673828125
          ],
          [
           569.142333984375
          ],
          [
           504.7698974609375
          ],
          [
           1819.50146484375
          ],
          [
           87.37816619873047
          ],
          [
           71.68938446044922
          ],
          [
           1190.2132568359375
          ],
          [
           245.229736328125
          ],
          [
           628.0250244140625
          ],
          [
           523.7390747070312
          ],
          [
           188.34690856933594
          ],
          [
           146.3313751220703
          ],
          [
           1190.5177001953125
          ],
          [
           498.019775390625
          ],
          [
           56.48976516723633
          ],
          [
           48.66603088378906
          ],
          [
           663.5308837890625
          ],
          [
           67.30126190185547
          ],
          [
           1857.498779296875
          ],
          [
           67.1973876953125
          ],
          [
           77.96880340576172
          ],
          [
           43.88875961303711
          ],
          [
           818.0661010742188
          ],
          [
           128.20965576171875
          ],
          [
           90.70608520507812
          ],
          [
           1779.4122314453125
          ],
          [
           569.0924072265625
          ],
          [
           195.116943359375
          ],
          [
           52.831573486328125
          ],
          [
           68.1749038696289
          ],
          [
           149.718017578125
          ],
          [
           231.60060119628906
          ],
          [
           69.73855590820312
          ],
          [
           529.9458618164062
          ],
          [
           1522.2080078125
          ],
          [
           63.23578643798828
          ],
          [
           303.6431579589844
          ],
          [
           838.8260498046875
          ],
          [
           889.0687866210938
          ],
          [
           561.406005859375
          ],
          [
           83.3866195678711
          ],
          [
           999.1048583984375
          ],
          [
           968.3490600585938
          ],
          [
           365.888671875
          ],
          [
           737.823974609375
          ],
          [
           843.8739624023438
          ],
          [
           513.9329223632812
          ],
          [
           660.8507690429688
          ],
          [
           1789.4072265625
          ],
          [
           1246.464111328125
          ],
          [
           1596.490234375
          ],
          [
           302.42230224609375
          ],
          [
           813.2001342773438
          ],
          [
           73.73452758789062
          ],
          [
           143.10885620117188
          ],
          [
           1796.0421142578125
          ],
          [
           59.37604522705078
          ],
          [
           739.80078125
          ],
          [
           44.005271911621094
          ],
          [
           193.09091186523438
          ],
          [
           51.13496398925781
          ],
          [
           102.79749298095703
          ],
          [
           52.14703369140625
          ],
          [
           56.041168212890625
          ],
          [
           52.95780563354492
          ],
          [
           56.25149917602539
          ],
          [
           905.820068359375
          ],
          [
           150.27005004882812
          ],
          [
           513.6736450195312
          ],
          [
           68.929443359375
          ],
          [
           905.8050537109375
          ],
          [
           66.53184509277344
          ],
          [
           169.3559112548828
          ],
          [
           75.47781372070312
          ],
          [
           1000.3426513671875
          ],
          [
           727.3546752929688
          ],
          [
           90.12739562988281
          ],
          [
           76.62092590332031
          ],
          [
           696.189208984375
          ],
          [
           603.5416870117188
          ],
          [
           69.9404296875
          ],
          [
           810.37158203125
          ],
          [
           608.9322509765625
          ],
          [
           68.1600112915039
          ],
          [
           72.56304168701172
          ],
          [
           176.2504119873047
          ],
          [
           197.61094665527344
          ],
          [
           92.52320861816406
          ],
          [
           191.8862762451172
          ],
          [
           70.57746124267578
          ],
          [
           849.3262939453125
          ],
          [
           837.0259399414062
          ],
          [
           300.8376770019531
          ],
          [
           432.5493469238281
          ],
          [
           191.42332458496094
          ],
          [
           617.9267578125
          ],
          [
           187.1073760986328
          ],
          [
           130.93983459472656
          ],
          [
           1744.3756103515625
          ],
          [
           92.39391326904297
          ],
          [
           769.6563720703125
          ],
          [
           833.9907836914062
          ],
          [
           519.5314331054688
          ],
          [
           69.47360229492188
          ],
          [
           137.176025390625
          ],
          [
           50.918731689453125
          ],
          [
           169.08596801757812
          ],
          [
           50.0403938293457
          ],
          [
           510.63262939453125
          ],
          [
           53.09647750854492
          ],
          [
           705.63916015625
          ],
          [
           52.4577522277832
          ],
          [
           499.4903869628906
          ],
          [
           824.6785888671875
          ],
          [
           271.4764404296875
          ],
          [
           84.23344421386719
          ],
          [
           60.9920768737793
          ],
          [
           675.166015625
          ],
          [
           827.8512573242188
          ],
          [
           65.6135025024414
          ],
          [
           113.39501953125
          ],
          [
           1804.988525390625
          ]
         ]
        },
        {
         "name": "Predicted Price",
         "type": "scatter",
         "x": [
          "2015-03-25T00:00:00",
          "2015-09-24T00:00:00",
          "2013-04-09T00:00:00",
          "2016-06-13T00:00:00",
          "2014-12-08T00:00:00",
          "2015-02-10T00:00:00",
          "2011-08-01T00:00:00",
          "2015-01-20T00:00:00",
          "2020-06-25T00:00:00",
          "2016-10-26T00:00:00",
          "2019-01-29T00:00:00",
          "2018-10-31T00:00:00",
          "2020-02-05T00:00:00",
          "2012-06-05T00:00:00",
          "2012-06-13T00:00:00",
          "2014-11-28T00:00:00",
          "2019-08-29T00:00:00",
          "2018-08-13T00:00:00",
          "2017-01-17T00:00:00",
          "2020-08-18T00:00:00",
          "2012-10-23T00:00:00",
          "2018-09-24T00:00:00",
          "2018-11-30T00:00:00",
          "2013-06-25T00:00:00",
          "2017-03-27T00:00:00",
          "2016-06-17T00:00:00",
          "2012-06-15T00:00:00",
          "2021-09-17T00:00:00",
          "2015-07-24T00:00:00",
          "2017-05-18T00:00:00",
          "2018-12-06T00:00:00",
          "2017-04-24T00:00:00",
          "2015-10-23T00:00:00",
          "2012-08-01T00:00:00",
          "2018-11-28T00:00:00",
          "2017-01-06T00:00:00",
          "2015-07-31T00:00:00",
          "2020-09-03T00:00:00",
          "2012-06-21T00:00:00",
          "2013-11-20T00:00:00",
          "2012-07-23T00:00:00",
          "2013-12-27T00:00:00",
          "2019-12-10T00:00:00",
          "2017-05-15T00:00:00",
          "2019-01-28T00:00:00",
          "2016-12-26T00:00:00",
          "2021-01-22T00:00:00",
          "2019-05-29T00:00:00",
          "2017-10-04T00:00:00",
          "2013-12-18T00:00:00",
          "2012-11-26T00:00:00",
          "2020-02-07T00:00:00",
          "2021-08-10T00:00:00",
          "2014-07-24T00:00:00",
          "2018-08-29T00:00:00",
          "2016-10-05T00:00:00",
          "2017-05-25T00:00:00",
          "2020-06-18T00:00:00",
          "2016-12-13T00:00:00",
          "2015-01-01T00:00:00",
          "2021-12-06T00:00:00",
          "2012-02-21T00:00:00",
          "2015-01-06T00:00:00",
          "2017-11-21T00:00:00",
          "2021-08-30T00:00:00",
          "2016-09-29T00:00:00",
          "2019-04-09T00:00:00",
          "2016-07-14T00:00:00",
          "2019-07-31T00:00:00",
          "2016-08-22T00:00:00",
          "2012-05-15T00:00:00",
          "2011-08-23T00:00:00",
          "2015-03-31T00:00:00",
          "2017-09-28T00:00:00",
          "2017-11-10T00:00:00",
          "2017-11-22T00:00:00",
          "2012-02-01T00:00:00",
          "2019-09-13T00:00:00",
          "2017-06-21T00:00:00",
          "2018-02-02T00:00:00",
          "2010-12-06T00:00:00",
          "2015-05-21T00:00:00",
          "2011-01-25T00:00:00",
          "2017-01-10T00:00:00",
          "2011-07-28T00:00:00",
          "2012-08-23T00:00:00",
          "2014-05-07T00:00:00",
          "2011-10-04T00:00:00",
          "2021-01-21T00:00:00",
          "2016-06-24T00:00:00",
          "2012-02-07T00:00:00",
          "2014-09-10T00:00:00",
          "2017-03-02T00:00:00",
          "2018-04-30T00:00:00",
          "2016-07-27T00:00:00",
          "2021-05-11T00:00:00",
          "2019-11-04T00:00:00",
          "2018-06-11T00:00:00",
          "2018-08-10T00:00:00",
          "2015-09-10T00:00:00",
          "2012-04-16T00:00:00",
          "2020-05-15T00:00:00",
          "2017-04-07T00:00:00",
          "2012-09-25T00:00:00",
          "2014-12-03T00:00:00",
          "2019-05-07T00:00:00",
          "2012-01-03T00:00:00",
          "2021-03-17T00:00:00",
          "2015-09-01T00:00:00",
          "2021-11-12T00:00:00",
          "2016-04-20T00:00:00",
          "2016-01-06T00:00:00",
          "2013-06-10T00:00:00",
          "2014-03-13T00:00:00",
          "2014-06-30T00:00:00",
          "2021-11-26T00:00:00",
          "2010-12-02T00:00:00",
          "2018-01-02T00:00:00",
          "2013-01-17T00:00:00",
          "2019-01-11T00:00:00",
          "2019-07-16T00:00:00",
          "2011-05-16T00:00:00",
          "2015-04-21T00:00:00",
          "2017-01-25T00:00:00",
          "2020-12-30T00:00:00",
          "2021-08-09T00:00:00",
          "2018-02-26T00:00:00",
          "2013-04-18T00:00:00",
          "2021-07-01T00:00:00",
          "2018-09-19T00:00:00",
          "2012-01-18T00:00:00",
          "2019-09-05T00:00:00",
          "2019-07-19T00:00:00",
          "2020-02-12T00:00:00",
          "2022-02-04T00:00:00",
          "2018-07-02T00:00:00",
          "2011-02-03T00:00:00",
          "2019-08-28T00:00:00",
          "2011-01-19T00:00:00",
          "2018-10-30T00:00:00",
          "2012-09-24T00:00:00",
          "2010-12-24T00:00:00",
          "2015-01-29T00:00:00",
          "2016-08-01T00:00:00",
          "2011-12-30T00:00:00",
          "2011-02-14T00:00:00",
          "2017-04-21T00:00:00",
          "2011-07-06T00:00:00",
          "2020-10-30T00:00:00",
          "2020-10-19T00:00:00",
          "2012-07-18T00:00:00",
          "2014-12-22T00:00:00",
          "2012-11-06T00:00:00",
          "2016-04-18T00:00:00",
          "2012-05-23T00:00:00",
          "2018-12-07T00:00:00",
          "2017-09-06T00:00:00",
          "2016-08-11T00:00:00",
          "2020-03-09T00:00:00",
          "2013-02-12T00:00:00",
          "2014-01-07T00:00:00",
          "2021-06-29T00:00:00",
          "2015-02-20T00:00:00",
          "2016-05-11T00:00:00",
          "2014-10-28T00:00:00",
          "2013-01-02T00:00:00",
          "2017-08-10T00:00:00",
          "2014-12-30T00:00:00",
          "2020-03-24T00:00:00",
          "2010-12-23T00:00:00",
          "2020-03-25T00:00:00",
          "2012-04-17T00:00:00",
          "2021-02-15T00:00:00",
          "2012-10-05T00:00:00",
          "2015-10-05T00:00:00",
          "2016-11-28T00:00:00",
          "2016-05-24T00:00:00",
          "2014-03-25T00:00:00",
          "2011-03-04T00:00:00",
          "2013-01-31T00:00:00",
          "2011-07-01T00:00:00",
          "2021-06-24T00:00:00",
          "2018-03-27T00:00:00",
          "2018-04-24T00:00:00",
          "2012-07-26T00:00:00",
          "2017-10-26T00:00:00",
          "2021-10-25T00:00:00",
          "2014-06-23T00:00:00",
          "2019-06-19T00:00:00",
          "2014-05-30T00:00:00",
          "2013-12-19T00:00:00",
          "2020-12-11T00:00:00",
          "2012-10-04T00:00:00",
          "2015-11-06T00:00:00",
          "2021-02-25T00:00:00",
          "2014-04-25T00:00:00",
          "2020-01-31T00:00:00",
          "2014-01-20T00:00:00",
          "2021-12-02T00:00:00",
          "2012-07-17T00:00:00",
          "2013-02-01T00:00:00",
          "2019-04-04T00:00:00",
          "2012-09-03T00:00:00",
          "2017-10-27T00:00:00",
          "2015-04-27T00:00:00",
          "2014-01-01T00:00:00",
          "2021-04-29T00:00:00",
          "2019-06-25T00:00:00",
          "2017-07-13T00:00:00",
          "2016-08-18T00:00:00",
          "2020-12-14T00:00:00",
          "2011-01-31T00:00:00",
          "2020-07-06T00:00:00",
          "2017-11-17T00:00:00",
          "2021-10-01T00:00:00",
          "2016-07-26T00:00:00",
          "2011-01-10T00:00:00",
          "2021-04-22T00:00:00",
          "2017-02-14T00:00:00",
          "2012-02-06T00:00:00",
          "2013-03-26T00:00:00",
          "2016-01-14T00:00:00",
          "2014-06-27T00:00:00",
          "2016-01-04T00:00:00",
          "2012-12-10T00:00:00",
          "2013-08-27T00:00:00",
          "2017-02-20T00:00:00",
          "2015-02-25T00:00:00",
          "2012-07-13T00:00:00",
          "2016-03-02T00:00:00",
          "2014-02-11T00:00:00",
          "2016-05-26T00:00:00",
          "2015-01-12T00:00:00",
          "2011-04-20T00:00:00",
          "2020-11-10T00:00:00",
          "2020-04-20T00:00:00",
          "2016-05-23T00:00:00",
          "2018-03-28T00:00:00",
          "2017-04-06T00:00:00",
          "2019-08-21T00:00:00",
          "2022-01-03T00:00:00",
          "2021-03-16T00:00:00",
          "2017-11-29T00:00:00",
          "2018-06-08T00:00:00",
          "2020-12-07T00:00:00",
          "2019-06-18T00:00:00",
          "2016-05-13T00:00:00",
          "2021-12-23T00:00:00",
          "2014-10-08T00:00:00",
          "2018-09-17T00:00:00",
          "2013-06-14T00:00:00",
          "2021-02-18T00:00:00",
          "2012-12-18T00:00:00",
          "2021-03-08T00:00:00",
          "2020-01-23T00:00:00",
          "2013-10-24T00:00:00",
          "2011-09-26T00:00:00",
          "2014-10-01T00:00:00",
          "2021-06-18T00:00:00",
          "2017-08-29T00:00:00",
          "2016-07-08T00:00:00",
          "2018-11-26T00:00:00",
          "2019-07-25T00:00:00",
          "2020-04-27T00:00:00",
          "2018-08-21T00:00:00",
          "2013-04-02T00:00:00",
          "2012-03-26T00:00:00",
          "2020-08-25T00:00:00",
          "2012-06-22T00:00:00",
          "2017-09-22T00:00:00",
          "2016-03-15T00:00:00",
          "2021-12-31T00:00:00",
          "2012-10-18T00:00:00",
          "2016-08-03T00:00:00",
          "2020-02-18T00:00:00",
          "2012-12-17T00:00:00",
          "2020-01-13T00:00:00",
          "2010-12-01T00:00:00",
          "2019-02-04T00:00:00",
          "2020-07-15T00:00:00",
          "2013-09-17T00:00:00",
          "2020-05-19T00:00:00",
          "2014-06-17T00:00:00",
          "2019-04-16T00:00:00",
          "2011-07-20T00:00:00",
          "2011-06-24T00:00:00",
          "2016-07-15T00:00:00",
          "2010-12-22T00:00:00",
          "2011-02-23T00:00:00",
          "2014-01-13T00:00:00",
          "2014-03-21T00:00:00",
          "2011-12-12T00:00:00",
          "2012-02-09T00:00:00",
          "2012-06-18T00:00:00",
          "2016-07-25T00:00:00",
          "2021-02-17T00:00:00",
          "2017-10-10T00:00:00",
          "2015-03-09T00:00:00",
          "2020-02-11T00:00:00",
          "2011-05-26T00:00:00",
          "2018-01-05T00:00:00",
          "2015-12-03T00:00:00",
          "2017-08-08T00:00:00",
          "2015-12-30T00:00:00",
          "2021-08-17T00:00:00",
          "2018-08-14T00:00:00",
          "2011-05-05T00:00:00",
          "2013-01-03T00:00:00",
          "2019-04-25T00:00:00",
          "2015-08-25T00:00:00",
          "2020-01-06T00:00:00",
          "2021-05-20T00:00:00",
          "2017-08-07T00:00:00",
          "2015-07-06T00:00:00",
          "2022-01-04T00:00:00",
          "2018-04-16T00:00:00",
          "2021-10-19T00:00:00",
          "2011-09-08T00:00:00",
          "2017-08-22T00:00:00",
          "2018-06-19T00:00:00",
          "2014-11-19T00:00:00",
          "2011-06-29T00:00:00",
          "2022-02-25T00:00:00",
          "2014-09-22T00:00:00",
          "2019-12-27T00:00:00",
          "2015-10-06T00:00:00",
          "2013-08-12T00:00:00",
          "2015-10-12T00:00:00",
          "2019-01-14T00:00:00",
          "2011-05-31T00:00:00",
          "2019-01-22T00:00:00",
          "2014-09-16T00:00:00",
          "2011-11-23T00:00:00",
          "2017-06-19T00:00:00",
          "2015-05-19T00:00:00",
          "2014-04-11T00:00:00",
          "2012-08-10T00:00:00",
          "2014-01-28T00:00:00",
          "2022-01-06T00:00:00",
          "2013-09-27T00:00:00",
          "2020-08-26T00:00:00",
          "2011-11-02T00:00:00",
          "2018-10-09T00:00:00",
          "2015-10-26T00:00:00",
          "2013-07-16T00:00:00",
          "2020-06-15T00:00:00",
          "2011-10-28T00:00:00",
          "2012-11-09T00:00:00",
          "2015-04-10T00:00:00",
          "2016-12-30T00:00:00",
          "2011-06-22T00:00:00",
          "2012-06-29T00:00:00",
          "2020-11-03T00:00:00",
          "2013-11-26T00:00:00",
          "2011-12-23T00:00:00",
          "2013-08-29T00:00:00",
          "2012-11-15T00:00:00",
          "2014-11-11T00:00:00",
          "2011-05-06T00:00:00",
          "2014-06-12T00:00:00",
          "2021-09-28T00:00:00",
          "2020-03-05T00:00:00",
          "2018-07-23T00:00:00",
          "2020-01-24T00:00:00",
          "2015-11-19T00:00:00",
          "2013-07-05T00:00:00",
          "2018-02-28T00:00:00",
          "2014-05-14T00:00:00",
          "2020-08-28T00:00:00",
          "2012-11-07T00:00:00",
          "2016-07-05T00:00:00",
          "2021-05-07T00:00:00",
          "2014-10-20T00:00:00",
          "2011-08-22T00:00:00",
          "2021-04-20T00:00:00",
          "2018-09-27T00:00:00",
          "2012-04-12T00:00:00",
          "2012-06-12T00:00:00",
          "2020-06-10T00:00:00",
          "2013-10-28T00:00:00",
          "2019-11-15T00:00:00",
          "2012-09-12T00:00:00",
          "2017-12-11T00:00:00",
          "2017-04-20T00:00:00",
          "2011-03-25T00:00:00",
          "2019-12-12T00:00:00",
          "2012-12-11T00:00:00",
          "2018-03-26T00:00:00",
          "2013-01-22T00:00:00",
          "2012-02-22T00:00:00",
          "2016-03-28T00:00:00",
          "2014-01-17T00:00:00",
          "2016-09-28T00:00:00",
          "2016-12-07T00:00:00",
          "2016-06-07T00:00:00",
          "2021-07-20T00:00:00",
          "2021-09-22T00:00:00",
          "2012-08-31T00:00:00",
          "2011-08-04T00:00:00",
          "2018-04-17T00:00:00",
          "2019-06-20T00:00:00",
          "2011-12-21T00:00:00",
          "2011-10-14T00:00:00",
          "2019-11-19T00:00:00",
          "2014-08-27T00:00:00",
          "2016-04-13T00:00:00",
          "2016-05-31T00:00:00",
          "2012-08-28T00:00:00",
          "2016-04-21T00:00:00",
          "2013-11-28T00:00:00",
          "2018-05-22T00:00:00",
          "2015-08-26T00:00:00",
          "2019-04-12T00:00:00",
          "2020-07-22T00:00:00",
          "2015-06-17T00:00:00",
          "2017-12-13T00:00:00",
          "2021-08-31T00:00:00",
          "2020-08-17T00:00:00",
          "2015-10-30T00:00:00",
          "2020-01-29T00:00:00",
          "2011-03-21T00:00:00",
          "2018-10-10T00:00:00",
          "2014-02-13T00:00:00",
          "2018-05-24T00:00:00",
          "2017-05-09T00:00:00",
          "2013-02-05T00:00:00",
          "2020-09-28T00:00:00",
          "2020-04-23T00:00:00",
          "2016-06-21T00:00:00",
          "2019-02-12T00:00:00",
          "2011-09-15T00:00:00",
          "2011-09-22T00:00:00",
          "2021-04-05T00:00:00",
          "2021-04-08T00:00:00",
          "2011-03-30T00:00:00",
          "2011-01-03T00:00:00",
          "2019-10-04T00:00:00",
          "2017-05-16T00:00:00",
          "2014-07-21T00:00:00",
          "2019-10-16T00:00:00",
          "2020-11-02T00:00:00",
          "2018-01-04T00:00:00",
          "2021-10-12T00:00:00",
          "2012-11-30T00:00:00",
          "2014-02-28T00:00:00",
          "2021-07-05T00:00:00",
          "2016-07-18T00:00:00",
          "2018-07-19T00:00:00",
          "2017-10-24T00:00:00",
          "2016-01-22T00:00:00",
          "2015-05-22T00:00:00",
          "2021-06-14T00:00:00",
          "2017-10-30T00:00:00",
          "2013-08-07T00:00:00",
          "2011-08-24T00:00:00",
          "2018-09-03T00:00:00",
          "2014-01-30T00:00:00",
          "2021-10-20T00:00:00",
          "2012-07-03T00:00:00",
          "2014-04-09T00:00:00",
          "2012-01-24T00:00:00",
          "2019-06-07T00:00:00",
          "2015-01-15T00:00:00",
          "2012-12-20T00:00:00",
          "2021-10-29T00:00:00",
          "2020-10-26T00:00:00",
          "2015-11-23T00:00:00",
          "2011-09-05T00:00:00",
          "2014-02-07T00:00:00",
          "2015-06-02T00:00:00",
          "2016-07-07T00:00:00",
          "2013-12-24T00:00:00",
          "2017-10-18T00:00:00",
          "2022-02-24T00:00:00",
          "2013-07-18T00:00:00",
          "2017-01-18T00:00:00",
          "2019-06-26T00:00:00",
          "2020-12-31T00:00:00",
          "2020-10-29T00:00:00",
          "2013-02-06T00:00:00",
          "2021-02-23T00:00:00",
          "2021-02-04T00:00:00",
          "2017-02-16T00:00:00",
          "2019-04-05T00:00:00",
          "2019-10-01T00:00:00",
          "2017-09-29T00:00:00",
          "2020-07-20T00:00:00",
          "2021-11-18T00:00:00",
          "2021-06-25T00:00:00",
          "2022-02-08T00:00:00",
          "2016-09-09T00:00:00",
          "2019-10-29T00:00:00",
          "2013-12-31T00:00:00",
          "2015-05-06T00:00:00",
          "2021-10-28T00:00:00",
          "2012-03-30T00:00:00",
          "2019-08-14T00:00:00",
          "2011-11-25T00:00:00",
          "2015-12-21T00:00:00",
          "2011-03-17T00:00:00",
          "2014-11-14T00:00:00",
          "2011-11-04T00:00:00",
          "2011-03-09T00:00:00",
          "2011-10-21T00:00:00",
          "2013-08-20T00:00:00",
          "2019-11-20T00:00:00",
          "2015-02-13T00:00:00",
          "2017-11-27T00:00:00",
          "2013-11-18T00:00:00",
          "2019-12-11T00:00:00",
          "2013-11-11T00:00:00",
          "2016-02-12T00:00:00",
          "2013-03-21T00:00:00",
          "2021-02-08T00:00:00",
          "2019-08-08T00:00:00",
          "2012-08-22T00:00:00",
          "2012-08-30T00:00:00",
          "2019-03-27T00:00:00",
          "2020-06-24T00:00:00",
          "2012-05-07T00:00:00",
          "2019-06-06T00:00:00",
          "2020-10-14T00:00:00",
          "2014-01-24T00:00:00",
          "2013-12-05T00:00:00",
          "2015-10-16T00:00:00",
          "2015-10-27T00:00:00",
          "2014-08-12T00:00:00",
          "2015-11-13T00:00:00",
          "2014-03-11T00:00:00",
          "2019-09-30T00:00:00",
          "2019-06-21T00:00:00",
          "2017-01-11T00:00:00",
          "2017-04-19T00:00:00",
          "2015-12-10T00:00:00",
          "2019-02-22T00:00:00",
          "2015-08-20T00:00:00",
          "2014-12-16T00:00:00",
          "2021-10-07T00:00:00",
          "2014-08-11T00:00:00",
          "2019-07-15T00:00:00",
          "2021-01-18T00:00:00",
          "2017-12-18T00:00:00",
          "2012-07-20T00:00:00",
          "2015-03-26T00:00:00",
          "2011-09-30T00:00:00",
          "2016-03-30T00:00:00",
          "2011-03-28T00:00:00",
          "2018-02-27T00:00:00",
          "2011-06-15T00:00:00",
          "2018-08-09T00:00:00",
          "2011-10-24T00:00:00",
          "2017-11-06T00:00:00",
          "2019-10-18T00:00:00",
          "2016-07-29T00:00:00",
          "2013-02-25T00:00:00",
          "2013-07-26T00:00:00",
          "2019-08-22T00:00:00",
          "2019-09-23T00:00:00",
          "2013-07-15T00:00:00",
          "2014-11-27T00:00:00",
          "2022-01-19T00:00:00"
         ],
         "y": [
          136.09211685180665,
          174.93944702148437,
          75.24996208190917,
          182.22724456787108,
          129.24451095581054,
          145.67295974731445,
          51.6053197479248,
          128.7846058654785,
          596.8016940307617,
          328.8831985473633,
          618.2532135009766,
          524.8700372314453,
          957.661254272461,
          62.05197120666504,
          63.42363487243652,
          112.90457878112792,
          707.1349230957031,
          692.2221612548828,
          301.7696594238281,
          636.2651641845703,
          85.97396881103515,
          625.7249334716797,
          593.0598522949218,
          62.34787384033203,
          408.48134155273436,
          200.7636000061035,
          63.010478820800785,
          1685.0943310546875,
          171.16750198364258,
          426.83103759765623,
          576.455308227539,
          444.3943902587891,
          180.9927215576172,
          72.0609140777588,
          583.3312457275391,
          299.3053396606445,
          182.48183837890625,
          639.1024664306641,
          62.8485071182251,
          69.95734184265137,
          70.86823684692382,
          71.76779098510742,
          891.6173583984375,
          443.4115756225586,
          615.1607922363281,
          261.9839877319336,
          894.8341033935546,
          817.8246685791015,
          524.5759216308594,
          68.53338989257813,
          86.555523147583,
          951.8793249511718,
          1414.8742541503907,
          92.2257675933838,
          697.116986694336,
          316.4545779418945,
          399.7399591064453,
          534.611900024414,
          295.0688473510742,
          127.85653457641601,
          1730.1605615234375,
          54.487547340393064,
          123.7444905090332,
          518.8467474365234,
          1623.5987561035156,
          311.61697357177735,
          734.0978778076172,
          238.26940383911133,
          709.6797149658203,
          268.6873095703125,
          69.34679519653321,
          48.979012947082516,
          140.45859283447265,
          512.8112506103515,
          498.5766473388672,
          516.4733837890625,
          43.82215274810791,
          741.9546759033203,
          420.3464227294922,
          495.39870697021485,
          46.73581439971924,
          145.0302412414551,
          41.28961093902588,
          299.3168957519531,
          52.387084312438965,
          85.466259765625,
          82.22713050842285,
          48.84380920410156,
          901.2358819580078,
          201.40990539550782,
          47.30660099029541,
          108.77750381469727,
          385.39901275634764,
          542.2490441894531,
          264.9141928100586,
          1107.9721850585938,
          850.705913696289,
          590.9886779785156,
          691.8102337646484,
          180.6089974975586,
          66.4360669708252,
          470.1503259277344,
          420.14038330078125,
          78.94179069519043,
          115.1401058959961,
          751.3417626953125,
          42.937468681335446,
          939.32556640625,
          176.5548567199707,
          1811.604580078125,
          179.8066976928711,
          192.52285430908202,
          66.33560039520263,
          70.69553024291992,
          92.61120491027832,
          1723.6292419433594,
          46.37291030883789,
          513.6988232421875,
          84.28943557739258,
          627.1093133544922,
          778.9335986328125,
          47.3432315826416,
          137.3735675048828,
          312.09243072509764,
          889.2975646972657,
          1409.5188623046874,
          513.549539489746,
          76.43600021362305,
          1204.1849829101564,
          640.0695513916015,
          45.08160091400146,
          698.0732043457032,
          748.225576171875,
          951.7342510986329,
          1613.434073486328,
          579.1550592041016,
          39.64694091796875,
          713.7008642578126,
          41.77884346008301,
          539.6488696289063,
          78.76502647399903,
          44.22820945739746,
          143.7110361480713,
          269.4732467651367,
          41.6888459777832,
          41.14634422302246,
          442.0827163696289,
          50.2988614654541,
          565.7226641845704,
          593.2092163085938,
          68.16252983093261,
          128.6441096496582,
          84.17810829162597,
          179.27371307373048,
          66.68311515808105,
          591.9924096679688,
          541.4799261474609,
          273.4696978759766,
          850.3510650634765,
          80.92117225646973,
          72.58191360473633,
          1222.4457165527344,
          146.35451400756835,
          186.3487728881836,
          105.68866012573243,
          90.29515129089356,
          506.76367828369143,
          129.66209976196288,
          531.1829821777344,
          44.20874137878418,
          515.9667614746094,
          67.1785078048706,
          1023.9003277587891,
          88.5810498046875,
          176.27519393920898,
          295.0729229736328,
          178.3486100769043,
          70.76320365905762,
          48.8790523147583,
          87.00776138305665,
          50.0083251953125,
          1209.1708520507811,
          520.7820693969727,
          545.3112048339843,
          70.24711875915527,
          502.80915405273436,
          1814.3105017089845,
          92.54218978881836,
          821.2555743408203,
          87.14245208740235,
          67.92310646057129,
          900.2094702148438,
          90.39199920654296,
          196.76962829589843,
          1009.6647845458984,
          79.54397109985352,
          940.8485333251953,
          68.71666824340821,
          1731.9059045410156,
          66.6722338104248,
          85.2044760131836,
          727.0670715332031,
          77.14598953247071,
          503.4039566040039,
          133.2048782348633,
          73.99257019042969,
          1055.371104736328,
          831.1583349609375,
          427.55693756103517,
          269.2864013671875,
          876.9110211181641,
          39.960841789245606,
          619.4637786865235,
          509.5210202026367,
          1748.8626416015625,
          264.53531677246093,
          42.771295394897464,
          981.8634429931641,
          362.05172088623044,
          46.48085174560547,
          76.03246109008789,
          193.61953216552735,
          91.91996597290039,
          193.97928649902343,
          92.24249313354493,
          57.402443161010744,
          364.60121978759764,
          142.5611894226074,
          66.86231544494629,
          166.89330657958985,
          67.26918838500977,
          178.93197357177735,
          125.12003387451172,
          52.09010181427002,
          647.024057006836,
          490.65473541259763,
          180.0971272277832,
          515.5911141967773,
          411.9191833496094,
          722.7916027832031,
          1661.2392272949219,
          955.2954443359375,
          527.9748760986328,
          583.7208374023437,
          889.2578234863281,
          821.00625,
          185.5170120239258,
          1596.735,
          108.39448524475098,
          652.0963879394532,
          61.533080101013184,
          1021.7592010498047,
          91.66329109191895,
          985.5864520263672,
          956.0305865478516,
          63.790865936279296,
          50.86761005401611,
          110.55700881958008,
          1184.6980590820312,
          534.696149597168,
          236.0844876098633,
          570.1390997314453,
          699.5741290283203,
          471.5389465332031,
          707.9821063232422,
          76.61952674865722,
          58.868248291015625,
          637.5241967773437,
          63.025674972534176,
          539.9684729003907,
          165.06852981567383,
          1622.0945959472656,
          84.02896522521972,
          267.8610430908203,
          943.4627270507813,
          91.85966468811036,
          940.9590515136719,
          45.614245376586915,
          608.5851403808593,
          626.4560394287109,
          57.68473300933838,
          455.70812530517577,
          91.00826652526855,
          753.0251202392578,
          52.6211385345459,
          49.28479682922363,
          240.8817623901367,
          43.781954536437986,
          43.55917991638184,
          71.94809349060058,
          70.84594650268555,
          42.664792938232424,
          48.41325862884521,
          63.30912315368652,
          259.65720596313474,
          1027.1441766357423,
          533.7494421386718,
          142.90128829956055,
          961.4974829101562,
          47.86668312072754,
          515.3898648071289,
          198.80738021850587,
          527.7553286743164,
          196.26572296142578,
          1476.4952722167968,
          697.7013702392578,
          47.990352897644044,
          90.71653968811034,
          760.9267065429688,
          173.93121551513673,
          915.5401666259766,
          1122.5215539550782,
          522.8967706298828,
          170.21457733154296,
          1694.2927282714843,
          532.3722644042969,
          1857.241717529297,
          53.28701629638672,
          510.9739114379883,
          596.8094805908203,
          104.60135414123535,
          49.76343463897705,
          1610.586622314453,
          105.02222595214843,
          936.0545440673828,
          176.2754052734375,
          58.66741836547852,
          177.3393688964844,
          631.9756567382813,
          48.469451370239256,
          641.0775903320313,
          103.6680184173584,
          45.99860847473145,
          418.59273193359377,
          144.7115739440918,
          77.82576210021972,
          85.67122688293458,
          67.34749877929687,
          1762.066044921875,
          60.83408473968506,
          643.4610101318359,
          52.30076686859131,
          548.6442163085937,
          183.09014541625976,
          63.73042263031006,
          528.7673785400391,
          52.36230522155762,
          83.22642761230469,
          143.83099731445313,
          289.3857711791992,
          47.783018341064455,
          65.99056884765625,
          565.7334906005859,
          70.77626853942871,
          40.9246883392334,
          58.17304599761963,
          83.36856796264648,
          109.60711059570312,
          47.6799694442749,
          91.62206832885742,
          1778.1591833496093,
          876.3246875,
          671.2726727294922,
          958.9872320556641,
          190.59729766845703,
          63.276273040771486,
          498.83408996582034,
          82.74013343811035,
          644.3039880371093,
          84.20571144104004,
          233.98416687011718,
          1109.704835205078,
          101.4043482208252,
          48.00212951660156,
          975.9436322021485,
          613.8311138916016,
          67.0419989013672,
          64.73197978973388,
          525.4180160522461,
          61.66463161468506,
          905.7814117431641,
          76.35351150512696,
          504.4398159790039,
          442.172751159668,
          50.858790168762205,
          911.3679138183594,
          91.6022720336914,
          514.1169552612305,
          85.84593704223633,
          54.934579086303714,
          168.63029724121094,
          69.23313873291016,
          323.40821716308596,
          294.9611996459961,
          189.72469482421874,
          1283.8010717773439,
          1754.0294873046876,
          77.02285148620605,
          49.39195369720459,
          533.9334857177735,
          830.0300799560547,
          40.065343627929686,
          51.22885589599609,
          904.1602618408203,
          102.04015449523926,
          178.1050247192383,
          181.9243650817871,
          77.2998053741455,
          179.7332162475586,
          71.48443664550781,
          576.7726278686523,
          174.22188095092773,
          753.3474206542969,
          632.3741107177734,
          149.50765655517577,
          505.47870666503906,
          1700.6070593261718,
          632.6144311523437,
          196.476484375,
          965.0782122802734,
          50.724393920898436,
          568.5158081054688,
          67.26991260528564,
          583.7216735839844,
          440.48726165771484,
          84.09032958984375,
          590.2629260253906,
          474.8103851318359,
          199.8794288635254,
          603.8172979736328,
          52.83909858703613,
          52.767164421081546,
          950.57919921875,
          964.3593096923828,
          49.97636829376221,
          45.31550148010254,
          834.6261700439453,
          441.60572937011716,
          93.08307266235352,
          782.5826373291015,
          575.7745202636719,
          513.5062521362305,
          1807.5779650878906,
          86.69452926635742,
          71.2767091369629,
          1193.5548254394532,
          248.75097335815428,
          637.735107421875,
          518.7926049804687,
          186.84903015136717,
          146.56004089355469,
          1183.4218725585938,
          502.567331237793,
          58.13402008056641,
          48.91817035675049,
          667.320560913086,
          67.37438011169434,
          1841.5465051269532,
          65.95540153503418,
          77.72014213562012,
          44.13815528869629,
          810.7925891113281,
          127.84444717407227,
          90.71483749389648,
          1766.6534643554687,
          572.3988122558594,
          192.16433654785158,
          52.88481616973877,
          68.03236755371094,
          150.32864135742187,
          234.89110610961913,
          70.63152229309082,
          533.5935317993165,
          1612.7512463378907,
          62.79427043914795,
          308.40847869873045,
          841.100609741211,
          887.7906701660156,
          569.0058306884765,
          83.81276573181152,
          1004.7383288574218,
          961.4797778320312,
          364.1649349975586,
          730.5349877929688,
          839.4498126220703,
          518.4242407226562,
          638.6529272460938,
          1766.4164624023438,
          1223.6754516601563,
          1612.1900463867187,
          302.4826040649414,
          815.7181890869141,
          73.01576972961426,
          143.51341766357422,
          1797.0445837402344,
          58.984882545471194,
          743.5697741699219,
          44.66901195526123,
          191.26658767700195,
          50.88861980438232,
          104.49632385253906,
          51.92949592590332,
          54.26017448425293,
          52.89561855316162,
          56.524814186096194,
          902.0166564941406,
          147.71906127929688,
          517.6857534790039,
          68.4571612548828,
          898.3640649414062,
          66.54023643493652,
          171.92692428588867,
          75.90103202819824,
          986.8305163574219,
          733.5292572021484,
          87.80229347229005,
          76.14518424987793,
          697.7753521728515,
          600.2980709838868,
          70.03282684326172,
          821.1347778320312,
          602.1036822509766,
          68.01991844177246,
          72.83727172851563,
          177.22341842651366,
          190.30284591674805,
          92.743316116333,
          190.39500549316406,
          70.69615280151368,
          841.8674029541015,
          833.1291149902344,
          304.0378546142578,
          440.34026306152344,
          191.48313735961915,
          618.9182720947266,
          189.51866256713868,
          128.61371520996093,
          1753.1163745117187,
          92.46244873046875,
          771.7628375244141,
          864.9207250976563,
          520.0233483886718,
          70.54564220428466,
          133.8988052368164,
          49.93468631744385,
          171.1370863342285,
          50.140811157226565,
          507.28899963378905,
          52.72279430389404,
          693.7624163818359,
          52.39064044952393,
          498.69406555175783,
          803.9192657470703,
          267.8421929931641,
          83.05947723388672,
          61.121926078796385,
          704.9917810058594,
          774.9870349121094,
          65.37104946136475,
          111.66833274841309,
          1784.2525561523437
         ]
        }
       ],
       "layout": {
        "template": {
         "data": {
          "bar": [
           {
            "error_x": {
             "color": "#2a3f5f"
            },
            "error_y": {
             "color": "#2a3f5f"
            },
            "marker": {
             "line": {
              "color": "#E5ECF6",
              "width": 0.5
             },
             "pattern": {
              "fillmode": "overlay",
              "size": 10,
              "solidity": 0.2
             }
            },
            "type": "bar"
           }
          ],
          "barpolar": [
           {
            "marker": {
             "line": {
              "color": "#E5ECF6",
              "width": 0.5
             },
             "pattern": {
              "fillmode": "overlay",
              "size": 10,
              "solidity": 0.2
             }
            },
            "type": "barpolar"
           }
          ],
          "carpet": [
           {
            "aaxis": {
             "endlinecolor": "#2a3f5f",
             "gridcolor": "white",
             "linecolor": "white",
             "minorgridcolor": "white",
             "startlinecolor": "#2a3f5f"
            },
            "baxis": {
             "endlinecolor": "#2a3f5f",
             "gridcolor": "white",
             "linecolor": "white",
             "minorgridcolor": "white",
             "startlinecolor": "#2a3f5f"
            },
            "type": "carpet"
           }
          ],
          "choropleth": [
           {
            "colorbar": {
             "outlinewidth": 0,
             "ticks": ""
            },
            "type": "choropleth"
           }
          ],
          "contour": [
           {
            "colorbar": {
             "outlinewidth": 0,
             "ticks": ""
            },
            "colorscale": [
             [
              0,
              "#0d0887"
             ],
             [
              0.1111111111111111,
              "#46039f"
             ],
             [
              0.2222222222222222,
              "#7201a8"
             ],
             [
              0.3333333333333333,
              "#9c179e"
             ],
             [
              0.4444444444444444,
              "#bd3786"
             ],
             [
              0.5555555555555556,
              "#d8576b"
             ],
             [
              0.6666666666666666,
              "#ed7953"
             ],
             [
              0.7777777777777778,
              "#fb9f3a"
             ],
             [
              0.8888888888888888,
              "#fdca26"
             ],
             [
              1,
              "#f0f921"
             ]
            ],
            "type": "contour"
           }
          ],
          "contourcarpet": [
           {
            "colorbar": {
             "outlinewidth": 0,
             "ticks": ""
            },
            "type": "contourcarpet"
           }
          ],
          "heatmap": [
           {
            "colorbar": {
             "outlinewidth": 0,
             "ticks": ""
            },
            "colorscale": [
             [
              0,
              "#0d0887"
             ],
             [
              0.1111111111111111,
              "#46039f"
             ],
             [
              0.2222222222222222,
              "#7201a8"
             ],
             [
              0.3333333333333333,
              "#9c179e"
             ],
             [
              0.4444444444444444,
              "#bd3786"
             ],
             [
              0.5555555555555556,
              "#d8576b"
             ],
             [
              0.6666666666666666,
              "#ed7953"
             ],
             [
              0.7777777777777778,
              "#fb9f3a"
             ],
             [
              0.8888888888888888,
              "#fdca26"
             ],
             [
              1,
              "#f0f921"
             ]
            ],
            "type": "heatmap"
           }
          ],
          "heatmapgl": [
           {
            "colorbar": {
             "outlinewidth": 0,
             "ticks": ""
            },
            "colorscale": [
             [
              0,
              "#0d0887"
             ],
             [
              0.1111111111111111,
              "#46039f"
             ],
             [
              0.2222222222222222,
              "#7201a8"
             ],
             [
              0.3333333333333333,
              "#9c179e"
             ],
             [
              0.4444444444444444,
              "#bd3786"
             ],
             [
              0.5555555555555556,
              "#d8576b"
             ],
             [
              0.6666666666666666,
              "#ed7953"
             ],
             [
              0.7777777777777778,
              "#fb9f3a"
             ],
             [
              0.8888888888888888,
              "#fdca26"
             ],
             [
              1,
              "#f0f921"
             ]
            ],
            "type": "heatmapgl"
           }
          ],
          "histogram": [
           {
            "marker": {
             "pattern": {
              "fillmode": "overlay",
              "size": 10,
              "solidity": 0.2
             }
            },
            "type": "histogram"
           }
          ],
          "histogram2d": [
           {
            "colorbar": {
             "outlinewidth": 0,
             "ticks": ""
            },
            "colorscale": [
             [
              0,
              "#0d0887"
             ],
             [
              0.1111111111111111,
              "#46039f"
             ],
             [
              0.2222222222222222,
              "#7201a8"
             ],
             [
              0.3333333333333333,
              "#9c179e"
             ],
             [
              0.4444444444444444,
              "#bd3786"
             ],
             [
              0.5555555555555556,
              "#d8576b"
             ],
             [
              0.6666666666666666,
              "#ed7953"
             ],
             [
              0.7777777777777778,
              "#fb9f3a"
             ],
             [
              0.8888888888888888,
              "#fdca26"
             ],
             [
              1,
              "#f0f921"
             ]
            ],
            "type": "histogram2d"
           }
          ],
          "histogram2dcontour": [
           {
            "colorbar": {
             "outlinewidth": 0,
             "ticks": ""
            },
            "colorscale": [
             [
              0,
              "#0d0887"
             ],
             [
              0.1111111111111111,
              "#46039f"
             ],
             [
              0.2222222222222222,
              "#7201a8"
             ],
             [
              0.3333333333333333,
              "#9c179e"
             ],
             [
              0.4444444444444444,
              "#bd3786"
             ],
             [
              0.5555555555555556,
              "#d8576b"
             ],
             [
              0.6666666666666666,
              "#ed7953"
             ],
             [
              0.7777777777777778,
              "#fb9f3a"
             ],
             [
              0.8888888888888888,
              "#fdca26"
             ],
             [
              1,
              "#f0f921"
             ]
            ],
            "type": "histogram2dcontour"
           }
          ],
          "mesh3d": [
           {
            "colorbar": {
             "outlinewidth": 0,
             "ticks": ""
            },
            "type": "mesh3d"
           }
          ],
          "parcoords": [
           {
            "line": {
             "colorbar": {
              "outlinewidth": 0,
              "ticks": ""
             }
            },
            "type": "parcoords"
           }
          ],
          "pie": [
           {
            "automargin": true,
            "type": "pie"
           }
          ],
          "scatter": [
           {
            "fillpattern": {
             "fillmode": "overlay",
             "size": 10,
             "solidity": 0.2
            },
            "type": "scatter"
           }
          ],
          "scatter3d": [
           {
            "line": {
             "colorbar": {
              "outlinewidth": 0,
              "ticks": ""
             }
            },
            "marker": {
             "colorbar": {
              "outlinewidth": 0,
              "ticks": ""
             }
            },
            "type": "scatter3d"
           }
          ],
          "scattercarpet": [
           {
            "marker": {
             "colorbar": {
              "outlinewidth": 0,
              "ticks": ""
             }
            },
            "type": "scattercarpet"
           }
          ],
          "scattergeo": [
           {
            "marker": {
             "colorbar": {
              "outlinewidth": 0,
              "ticks": ""
             }
            },
            "type": "scattergeo"
           }
          ],
          "scattergl": [
           {
            "marker": {
             "colorbar": {
              "outlinewidth": 0,
              "ticks": ""
             }
            },
            "type": "scattergl"
           }
          ],
          "scattermapbox": [
           {
            "marker": {
             "colorbar": {
              "outlinewidth": 0,
              "ticks": ""
             }
            },
            "type": "scattermapbox"
           }
          ],
          "scatterpolar": [
           {
            "marker": {
             "colorbar": {
              "outlinewidth": 0,
              "ticks": ""
             }
            },
            "type": "scatterpolar"
           }
          ],
          "scatterpolargl": [
           {
            "marker": {
             "colorbar": {
              "outlinewidth": 0,
              "ticks": ""
             }
            },
            "type": "scatterpolargl"
           }
          ],
          "scatterternary": [
           {
            "marker": {
             "colorbar": {
              "outlinewidth": 0,
              "ticks": ""
             }
            },
            "type": "scatterternary"
           }
          ],
          "surface": [
           {
            "colorbar": {
             "outlinewidth": 0,
             "ticks": ""
            },
            "colorscale": [
             [
              0,
              "#0d0887"
             ],
             [
              0.1111111111111111,
              "#46039f"
             ],
             [
              0.2222222222222222,
              "#7201a8"
             ],
             [
              0.3333333333333333,
              "#9c179e"
             ],
             [
              0.4444444444444444,
              "#bd3786"
             ],
             [
              0.5555555555555556,
              "#d8576b"
             ],
             [
              0.6666666666666666,
              "#ed7953"
             ],
             [
              0.7777777777777778,
              "#fb9f3a"
             ],
             [
              0.8888888888888888,
              "#fdca26"
             ],
             [
              1,
              "#f0f921"
             ]
            ],
            "type": "surface"
           }
          ],
          "table": [
           {
            "cells": {
             "fill": {
              "color": "#EBF0F8"
             },
             "line": {
              "color": "white"
             }
            },
            "header": {
             "fill": {
              "color": "#C8D4E3"
             },
             "line": {
              "color": "white"
             }
            },
            "type": "table"
           }
          ]
         },
         "layout": {
          "annotationdefaults": {
           "arrowcolor": "#2a3f5f",
           "arrowhead": 0,
           "arrowwidth": 1
          },
          "autotypenumbers": "strict",
          "coloraxis": {
           "colorbar": {
            "outlinewidth": 0,
            "ticks": ""
           }
          },
          "colorscale": {
           "diverging": [
            [
             0,
             "#8e0152"
            ],
            [
             0.1,
             "#c51b7d"
            ],
            [
             0.2,
             "#de77ae"
            ],
            [
             0.3,
             "#f1b6da"
            ],
            [
             0.4,
             "#fde0ef"
            ],
            [
             0.5,
             "#f7f7f7"
            ],
            [
             0.6,
             "#e6f5d0"
            ],
            [
             0.7,
             "#b8e186"
            ],
            [
             0.8,
             "#7fbc41"
            ],
            [
             0.9,
             "#4d9221"
            ],
            [
             1,
             "#276419"
            ]
           ],
           "sequential": [
            [
             0,
             "#0d0887"
            ],
            [
             0.1111111111111111,
             "#46039f"
            ],
            [
             0.2222222222222222,
             "#7201a8"
            ],
            [
             0.3333333333333333,
             "#9c179e"
            ],
            [
             0.4444444444444444,
             "#bd3786"
            ],
            [
             0.5555555555555556,
             "#d8576b"
            ],
            [
             0.6666666666666666,
             "#ed7953"
            ],
            [
             0.7777777777777778,
             "#fb9f3a"
            ],
            [
             0.8888888888888888,
             "#fdca26"
            ],
            [
             1,
             "#f0f921"
            ]
           ],
           "sequentialminus": [
            [
             0,
             "#0d0887"
            ],
            [
             0.1111111111111111,
             "#46039f"
            ],
            [
             0.2222222222222222,
             "#7201a8"
            ],
            [
             0.3333333333333333,
             "#9c179e"
            ],
            [
             0.4444444444444444,
             "#bd3786"
            ],
            [
             0.5555555555555556,
             "#d8576b"
            ],
            [
             0.6666666666666666,
             "#ed7953"
            ],
            [
             0.7777777777777778,
             "#fb9f3a"
            ],
            [
             0.8888888888888888,
             "#fdca26"
            ],
            [
             1,
             "#f0f921"
            ]
           ]
          },
          "colorway": [
           "#636efa",
           "#EF553B",
           "#00cc96",
           "#ab63fa",
           "#FFA15A",
           "#19d3f3",
           "#FF6692",
           "#B6E880",
           "#FF97FF",
           "#FECB52"
          ],
          "font": {
           "color": "#2a3f5f"
          },
          "geo": {
           "bgcolor": "white",
           "lakecolor": "white",
           "landcolor": "#E5ECF6",
           "showlakes": true,
           "showland": true,
           "subunitcolor": "white"
          },
          "hoverlabel": {
           "align": "left"
          },
          "hovermode": "closest",
          "mapbox": {
           "style": "light"
          },
          "paper_bgcolor": "white",
          "plot_bgcolor": "#E5ECF6",
          "polar": {
           "angularaxis": {
            "gridcolor": "white",
            "linecolor": "white",
            "ticks": ""
           },
           "bgcolor": "#E5ECF6",
           "radialaxis": {
            "gridcolor": "white",
            "linecolor": "white",
            "ticks": ""
           }
          },
          "scene": {
           "xaxis": {
            "backgroundcolor": "#E5ECF6",
            "gridcolor": "white",
            "gridwidth": 2,
            "linecolor": "white",
            "showbackground": true,
            "ticks": "",
            "zerolinecolor": "white"
           },
           "yaxis": {
            "backgroundcolor": "#E5ECF6",
            "gridcolor": "white",
            "gridwidth": 2,
            "linecolor": "white",
            "showbackground": true,
            "ticks": "",
            "zerolinecolor": "white"
           },
           "zaxis": {
            "backgroundcolor": "#E5ECF6",
            "gridcolor": "white",
            "gridwidth": 2,
            "linecolor": "white",
            "showbackground": true,
            "ticks": "",
            "zerolinecolor": "white"
           }
          },
          "shapedefaults": {
           "line": {
            "color": "#2a3f5f"
           }
          },
          "ternary": {
           "aaxis": {
            "gridcolor": "white",
            "linecolor": "white",
            "ticks": ""
           },
           "baxis": {
            "gridcolor": "white",
            "linecolor": "white",
            "ticks": ""
           },
           "bgcolor": "#E5ECF6",
           "caxis": {
            "gridcolor": "white",
            "linecolor": "white",
            "ticks": ""
           }
          },
          "title": {
           "x": 0.05
          },
          "xaxis": {
           "automargin": true,
           "gridcolor": "white",
           "linecolor": "white",
           "ticks": "",
           "title": {
            "standoff": 15
           },
           "zerolinecolor": "white",
           "zerolinewidth": 2
          },
          "yaxis": {
           "automargin": true,
           "gridcolor": "white",
           "linecolor": "white",
           "ticks": "",
           "title": {
            "standoff": 15
           },
           "zerolinecolor": "white",
           "zerolinewidth": 2
          }
         }
        },
        "title": {
         "text": "Actual vs. Predicted Prices"
        },
        "xaxis": {
         "title": {
          "text": "Date"
         }
        },
        "yaxis": {
         "title": {
          "text": "Price"
         }
        }
       }
      },
      "text/html": [
       "<div>                            <div id=\"9eb98308-3b50-423c-8079-0120152ae2b5\" class=\"plotly-graph-div\" style=\"height:525px; width:100%;\"></div>            <script type=\"text/javascript\">                require([\"plotly\"], function(Plotly) {                    window.PLOTLYENV=window.PLOTLYENV || {};                                    if (document.getElementById(\"9eb98308-3b50-423c-8079-0120152ae2b5\")) {                    Plotly.newPlot(                        \"9eb98308-3b50-423c-8079-0120152ae2b5\",                        [{\"name\":\"Actual Price\",\"x\":[\"2015-03-25T00:00:00\",\"2015-09-24T00:00:00\",\"2013-04-09T00:00:00\",\"2016-06-13T00:00:00\",\"2014-12-08T00:00:00\",\"2015-02-10T00:00:00\",\"2011-08-01T00:00:00\",\"2015-01-20T00:00:00\",\"2020-06-25T00:00:00\",\"2016-10-26T00:00:00\",\"2019-01-29T00:00:00\",\"2018-10-31T00:00:00\",\"2020-02-05T00:00:00\",\"2012-06-05T00:00:00\",\"2012-06-13T00:00:00\",\"2014-11-28T00:00:00\",\"2019-08-29T00:00:00\",\"2018-08-13T00:00:00\",\"2017-01-17T00:00:00\",\"2020-08-18T00:00:00\",\"2012-10-23T00:00:00\",\"2018-09-24T00:00:00\",\"2018-11-30T00:00:00\",\"2013-06-25T00:00:00\",\"2017-03-27T00:00:00\",\"2016-06-17T00:00:00\",\"2012-06-15T00:00:00\",\"2021-09-17T00:00:00\",\"2015-07-24T00:00:00\",\"2017-05-18T00:00:00\",\"2018-12-06T00:00:00\",\"2017-04-24T00:00:00\",\"2015-10-23T00:00:00\",\"2012-08-01T00:00:00\",\"2018-11-28T00:00:00\",\"2017-01-06T00:00:00\",\"2015-07-31T00:00:00\",\"2020-09-03T00:00:00\",\"2012-06-21T00:00:00\",\"2013-11-20T00:00:00\",\"2012-07-23T00:00:00\",\"2013-12-27T00:00:00\",\"2019-12-10T00:00:00\",\"2017-05-15T00:00:00\",\"2019-01-28T00:00:00\",\"2016-12-26T00:00:00\",\"2021-01-22T00:00:00\",\"2019-05-29T00:00:00\",\"2017-10-04T00:00:00\",\"2013-12-18T00:00:00\",\"2012-11-26T00:00:00\",\"2020-02-07T00:00:00\",\"2021-08-10T00:00:00\",\"2014-07-24T00:00:00\",\"2018-08-29T00:00:00\",\"2016-10-05T00:00:00\",\"2017-05-25T00:00:00\",\"2020-06-18T00:00:00\",\"2016-12-13T00:00:00\",\"2015-01-01T00:00:00\",\"2021-12-06T00:00:00\",\"2012-02-21T00:00:00\",\"2015-01-06T00:00:00\",\"2017-11-21T00:00:00\",\"2021-08-30T00:00:00\",\"2016-09-29T00:00:00\",\"2019-04-09T00:00:00\",\"2016-07-14T00:00:00\",\"2019-07-31T00:00:00\",\"2016-08-22T00:00:00\",\"2012-05-15T00:00:00\",\"2011-08-23T00:00:00\",\"2015-03-31T00:00:00\",\"2017-09-28T00:00:00\",\"2017-11-10T00:00:00\",\"2017-11-22T00:00:00\",\"2012-02-01T00:00:00\",\"2019-09-13T00:00:00\",\"2017-06-21T00:00:00\",\"2018-02-02T00:00:00\",\"2010-12-06T00:00:00\",\"2015-05-21T00:00:00\",\"2011-01-25T00:00:00\",\"2017-01-10T00:00:00\",\"2011-07-28T00:00:00\",\"2012-08-23T00:00:00\",\"2014-05-07T00:00:00\",\"2011-10-04T00:00:00\",\"2021-01-21T00:00:00\",\"2016-06-24T00:00:00\",\"2012-02-07T00:00:00\",\"2014-09-10T00:00:00\",\"2017-03-02T00:00:00\",\"2018-04-30T00:00:00\",\"2016-07-27T00:00:00\",\"2021-05-11T00:00:00\",\"2019-11-04T00:00:00\",\"2018-06-11T00:00:00\",\"2018-08-10T00:00:00\",\"2015-09-10T00:00:00\",\"2012-04-16T00:00:00\",\"2020-05-15T00:00:00\",\"2017-04-07T00:00:00\",\"2012-09-25T00:00:00\",\"2014-12-03T00:00:00\",\"2019-05-07T00:00:00\",\"2012-01-03T00:00:00\",\"2021-03-17T00:00:00\",\"2015-09-01T00:00:00\",\"2021-11-12T00:00:00\",\"2016-04-20T00:00:00\",\"2016-01-06T00:00:00\",\"2013-06-10T00:00:00\",\"2014-03-13T00:00:00\",\"2014-06-30T00:00:00\",\"2021-11-26T00:00:00\",\"2010-12-02T00:00:00\",\"2018-01-02T00:00:00\",\"2013-01-17T00:00:00\",\"2019-01-11T00:00:00\",\"2019-07-16T00:00:00\",\"2011-05-16T00:00:00\",\"2015-04-21T00:00:00\",\"2017-01-25T00:00:00\",\"2020-12-30T00:00:00\",\"2021-08-09T00:00:00\",\"2018-02-26T00:00:00\",\"2013-04-18T00:00:00\",\"2021-07-01T00:00:00\",\"2018-09-19T00:00:00\",\"2012-01-18T00:00:00\",\"2019-09-05T00:00:00\",\"2019-07-19T00:00:00\",\"2020-02-12T00:00:00\",\"2022-02-04T00:00:00\",\"2018-07-02T00:00:00\",\"2011-02-03T00:00:00\",\"2019-08-28T00:00:00\",\"2011-01-19T00:00:00\",\"2018-10-30T00:00:00\",\"2012-09-24T00:00:00\",\"2010-12-24T00:00:00\",\"2015-01-29T00:00:00\",\"2016-08-01T00:00:00\",\"2011-12-30T00:00:00\",\"2011-02-14T00:00:00\",\"2017-04-21T00:00:00\",\"2011-07-06T00:00:00\",\"2020-10-30T00:00:00\",\"2020-10-19T00:00:00\",\"2012-07-18T00:00:00\",\"2014-12-22T00:00:00\",\"2012-11-06T00:00:00\",\"2016-04-18T00:00:00\",\"2012-05-23T00:00:00\",\"2018-12-07T00:00:00\",\"2017-09-06T00:00:00\",\"2016-08-11T00:00:00\",\"2020-03-09T00:00:00\",\"2013-02-12T00:00:00\",\"2014-01-07T00:00:00\",\"2021-06-29T00:00:00\",\"2015-02-20T00:00:00\",\"2016-05-11T00:00:00\",\"2014-10-28T00:00:00\",\"2013-01-02T00:00:00\",\"2017-08-10T00:00:00\",\"2014-12-30T00:00:00\",\"2020-03-24T00:00:00\",\"2010-12-23T00:00:00\",\"2020-03-25T00:00:00\",\"2012-04-17T00:00:00\",\"2021-02-15T00:00:00\",\"2012-10-05T00:00:00\",\"2015-10-05T00:00:00\",\"2016-11-28T00:00:00\",\"2016-05-24T00:00:00\",\"2014-03-25T00:00:00\",\"2011-03-04T00:00:00\",\"2013-01-31T00:00:00\",\"2011-07-01T00:00:00\",\"2021-06-24T00:00:00\",\"2018-03-27T00:00:00\",\"2018-04-24T00:00:00\",\"2012-07-26T00:00:00\",\"2017-10-26T00:00:00\",\"2021-10-25T00:00:00\",\"2014-06-23T00:00:00\",\"2019-06-19T00:00:00\",\"2014-05-30T00:00:00\",\"2013-12-19T00:00:00\",\"2020-12-11T00:00:00\",\"2012-10-04T00:00:00\",\"2015-11-06T00:00:00\",\"2021-02-25T00:00:00\",\"2014-04-25T00:00:00\",\"2020-01-31T00:00:00\",\"2014-01-20T00:00:00\",\"2021-12-02T00:00:00\",\"2012-07-17T00:00:00\",\"2013-02-01T00:00:00\",\"2019-04-04T00:00:00\",\"2012-09-03T00:00:00\",\"2017-10-27T00:00:00\",\"2015-04-27T00:00:00\",\"2014-01-01T00:00:00\",\"2021-04-29T00:00:00\",\"2019-06-25T00:00:00\",\"2017-07-13T00:00:00\",\"2016-08-18T00:00:00\",\"2020-12-14T00:00:00\",\"2011-01-31T00:00:00\",\"2020-07-06T00:00:00\",\"2017-11-17T00:00:00\",\"2021-10-01T00:00:00\",\"2016-07-26T00:00:00\",\"2011-01-10T00:00:00\",\"2021-04-22T00:00:00\",\"2017-02-14T00:00:00\",\"2012-02-06T00:00:00\",\"2013-03-26T00:00:00\",\"2016-01-14T00:00:00\",\"2014-06-27T00:00:00\",\"2016-01-04T00:00:00\",\"2012-12-10T00:00:00\",\"2013-08-27T00:00:00\",\"2017-02-20T00:00:00\",\"2015-02-25T00:00:00\",\"2012-07-13T00:00:00\",\"2016-03-02T00:00:00\",\"2014-02-11T00:00:00\",\"2016-05-26T00:00:00\",\"2015-01-12T00:00:00\",\"2011-04-20T00:00:00\",\"2020-11-10T00:00:00\",\"2020-04-20T00:00:00\",\"2016-05-23T00:00:00\",\"2018-03-28T00:00:00\",\"2017-04-06T00:00:00\",\"2019-08-21T00:00:00\",\"2022-01-03T00:00:00\",\"2021-03-16T00:00:00\",\"2017-11-29T00:00:00\",\"2018-06-08T00:00:00\",\"2020-12-07T00:00:00\",\"2019-06-18T00:00:00\",\"2016-05-13T00:00:00\",\"2021-12-23T00:00:00\",\"2014-10-08T00:00:00\",\"2018-09-17T00:00:00\",\"2013-06-14T00:00:00\",\"2021-02-18T00:00:00\",\"2012-12-18T00:00:00\",\"2021-03-08T00:00:00\",\"2020-01-23T00:00:00\",\"2013-10-24T00:00:00\",\"2011-09-26T00:00:00\",\"2014-10-01T00:00:00\",\"2021-06-18T00:00:00\",\"2017-08-29T00:00:00\",\"2016-07-08T00:00:00\",\"2018-11-26T00:00:00\",\"2019-07-25T00:00:00\",\"2020-04-27T00:00:00\",\"2018-08-21T00:00:00\",\"2013-04-02T00:00:00\",\"2012-03-26T00:00:00\",\"2020-08-25T00:00:00\",\"2012-06-22T00:00:00\",\"2017-09-22T00:00:00\",\"2016-03-15T00:00:00\",\"2021-12-31T00:00:00\",\"2012-10-18T00:00:00\",\"2016-08-03T00:00:00\",\"2020-02-18T00:00:00\",\"2012-12-17T00:00:00\",\"2020-01-13T00:00:00\",\"2010-12-01T00:00:00\",\"2019-02-04T00:00:00\",\"2020-07-15T00:00:00\",\"2013-09-17T00:00:00\",\"2020-05-19T00:00:00\",\"2014-06-17T00:00:00\",\"2019-04-16T00:00:00\",\"2011-07-20T00:00:00\",\"2011-06-24T00:00:00\",\"2016-07-15T00:00:00\",\"2010-12-22T00:00:00\",\"2011-02-23T00:00:00\",\"2014-01-13T00:00:00\",\"2014-03-21T00:00:00\",\"2011-12-12T00:00:00\",\"2012-02-09T00:00:00\",\"2012-06-18T00:00:00\",\"2016-07-25T00:00:00\",\"2021-02-17T00:00:00\",\"2017-10-10T00:00:00\",\"2015-03-09T00:00:00\",\"2020-02-11T00:00:00\",\"2011-05-26T00:00:00\",\"2018-01-05T00:00:00\",\"2015-12-03T00:00:00\",\"2017-08-08T00:00:00\",\"2015-12-30T00:00:00\",\"2021-08-17T00:00:00\",\"2018-08-14T00:00:00\",\"2011-05-05T00:00:00\",\"2013-01-03T00:00:00\",\"2019-04-25T00:00:00\",\"2015-08-25T00:00:00\",\"2020-01-06T00:00:00\",\"2021-05-20T00:00:00\",\"2017-08-07T00:00:00\",\"2015-07-06T00:00:00\",\"2022-01-04T00:00:00\",\"2018-04-16T00:00:00\",\"2021-10-19T00:00:00\",\"2011-09-08T00:00:00\",\"2017-08-22T00:00:00\",\"2018-06-19T00:00:00\",\"2014-11-19T00:00:00\",\"2011-06-29T00:00:00\",\"2022-02-25T00:00:00\",\"2014-09-22T00:00:00\",\"2019-12-27T00:00:00\",\"2015-10-06T00:00:00\",\"2013-08-12T00:00:00\",\"2015-10-12T00:00:00\",\"2019-01-14T00:00:00\",\"2011-05-31T00:00:00\",\"2019-01-22T00:00:00\",\"2014-09-16T00:00:00\",\"2011-11-23T00:00:00\",\"2017-06-19T00:00:00\",\"2015-05-19T00:00:00\",\"2014-04-11T00:00:00\",\"2012-08-10T00:00:00\",\"2014-01-28T00:00:00\",\"2022-01-06T00:00:00\",\"2013-09-27T00:00:00\",\"2020-08-26T00:00:00\",\"2011-11-02T00:00:00\",\"2018-10-09T00:00:00\",\"2015-10-26T00:00:00\",\"2013-07-16T00:00:00\",\"2020-06-15T00:00:00\",\"2011-10-28T00:00:00\",\"2012-11-09T00:00:00\",\"2015-04-10T00:00:00\",\"2016-12-30T00:00:00\",\"2011-06-22T00:00:00\",\"2012-06-29T00:00:00\",\"2020-11-03T00:00:00\",\"2013-11-26T00:00:00\",\"2011-12-23T00:00:00\",\"2013-08-29T00:00:00\",\"2012-11-15T00:00:00\",\"2014-11-11T00:00:00\",\"2011-05-06T00:00:00\",\"2014-06-12T00:00:00\",\"2021-09-28T00:00:00\",\"2020-03-05T00:00:00\",\"2018-07-23T00:00:00\",\"2020-01-24T00:00:00\",\"2015-11-19T00:00:00\",\"2013-07-05T00:00:00\",\"2018-02-28T00:00:00\",\"2014-05-14T00:00:00\",\"2020-08-28T00:00:00\",\"2012-11-07T00:00:00\",\"2016-07-05T00:00:00\",\"2021-05-07T00:00:00\",\"2014-10-20T00:00:00\",\"2011-08-22T00:00:00\",\"2021-04-20T00:00:00\",\"2018-09-27T00:00:00\",\"2012-04-12T00:00:00\",\"2012-06-12T00:00:00\",\"2020-06-10T00:00:00\",\"2013-10-28T00:00:00\",\"2019-11-15T00:00:00\",\"2012-09-12T00:00:00\",\"2017-12-11T00:00:00\",\"2017-04-20T00:00:00\",\"2011-03-25T00:00:00\",\"2019-12-12T00:00:00\",\"2012-12-11T00:00:00\",\"2018-03-26T00:00:00\",\"2013-01-22T00:00:00\",\"2012-02-22T00:00:00\",\"2016-03-28T00:00:00\",\"2014-01-17T00:00:00\",\"2016-09-28T00:00:00\",\"2016-12-07T00:00:00\",\"2016-06-07T00:00:00\",\"2021-07-20T00:00:00\",\"2021-09-22T00:00:00\",\"2012-08-31T00:00:00\",\"2011-08-04T00:00:00\",\"2018-04-17T00:00:00\",\"2019-06-20T00:00:00\",\"2011-12-21T00:00:00\",\"2011-10-14T00:00:00\",\"2019-11-19T00:00:00\",\"2014-08-27T00:00:00\",\"2016-04-13T00:00:00\",\"2016-05-31T00:00:00\",\"2012-08-28T00:00:00\",\"2016-04-21T00:00:00\",\"2013-11-28T00:00:00\",\"2018-05-22T00:00:00\",\"2015-08-26T00:00:00\",\"2019-04-12T00:00:00\",\"2020-07-22T00:00:00\",\"2015-06-17T00:00:00\",\"2017-12-13T00:00:00\",\"2021-08-31T00:00:00\",\"2020-08-17T00:00:00\",\"2015-10-30T00:00:00\",\"2020-01-29T00:00:00\",\"2011-03-21T00:00:00\",\"2018-10-10T00:00:00\",\"2014-02-13T00:00:00\",\"2018-05-24T00:00:00\",\"2017-05-09T00:00:00\",\"2013-02-05T00:00:00\",\"2020-09-28T00:00:00\",\"2020-04-23T00:00:00\",\"2016-06-21T00:00:00\",\"2019-02-12T00:00:00\",\"2011-09-15T00:00:00\",\"2011-09-22T00:00:00\",\"2021-04-05T00:00:00\",\"2021-04-08T00:00:00\",\"2011-03-30T00:00:00\",\"2011-01-03T00:00:00\",\"2019-10-04T00:00:00\",\"2017-05-16T00:00:00\",\"2014-07-21T00:00:00\",\"2019-10-16T00:00:00\",\"2020-11-02T00:00:00\",\"2018-01-04T00:00:00\",\"2021-10-12T00:00:00\",\"2012-11-30T00:00:00\",\"2014-02-28T00:00:00\",\"2021-07-05T00:00:00\",\"2016-07-18T00:00:00\",\"2018-07-19T00:00:00\",\"2017-10-24T00:00:00\",\"2016-01-22T00:00:00\",\"2015-05-22T00:00:00\",\"2021-06-14T00:00:00\",\"2017-10-30T00:00:00\",\"2013-08-07T00:00:00\",\"2011-08-24T00:00:00\",\"2018-09-03T00:00:00\",\"2014-01-30T00:00:00\",\"2021-10-20T00:00:00\",\"2012-07-03T00:00:00\",\"2014-04-09T00:00:00\",\"2012-01-24T00:00:00\",\"2019-06-07T00:00:00\",\"2015-01-15T00:00:00\",\"2012-12-20T00:00:00\",\"2021-10-29T00:00:00\",\"2020-10-26T00:00:00\",\"2015-11-23T00:00:00\",\"2011-09-05T00:00:00\",\"2014-02-07T00:00:00\",\"2015-06-02T00:00:00\",\"2016-07-07T00:00:00\",\"2013-12-24T00:00:00\",\"2017-10-18T00:00:00\",\"2022-02-24T00:00:00\",\"2013-07-18T00:00:00\",\"2017-01-18T00:00:00\",\"2019-06-26T00:00:00\",\"2020-12-31T00:00:00\",\"2020-10-29T00:00:00\",\"2013-02-06T00:00:00\",\"2021-02-23T00:00:00\",\"2021-02-04T00:00:00\",\"2017-02-16T00:00:00\",\"2019-04-05T00:00:00\",\"2019-10-01T00:00:00\",\"2017-09-29T00:00:00\",\"2020-07-20T00:00:00\",\"2021-11-18T00:00:00\",\"2021-06-25T00:00:00\",\"2022-02-08T00:00:00\",\"2016-09-09T00:00:00\",\"2019-10-29T00:00:00\",\"2013-12-31T00:00:00\",\"2015-05-06T00:00:00\",\"2021-10-28T00:00:00\",\"2012-03-30T00:00:00\",\"2019-08-14T00:00:00\",\"2011-11-25T00:00:00\",\"2015-12-21T00:00:00\",\"2011-03-17T00:00:00\",\"2014-11-14T00:00:00\",\"2011-11-04T00:00:00\",\"2011-03-09T00:00:00\",\"2011-10-21T00:00:00\",\"2013-08-20T00:00:00\",\"2019-11-20T00:00:00\",\"2015-02-13T00:00:00\",\"2017-11-27T00:00:00\",\"2013-11-18T00:00:00\",\"2019-12-11T00:00:00\",\"2013-11-11T00:00:00\",\"2016-02-12T00:00:00\",\"2013-03-21T00:00:00\",\"2021-02-08T00:00:00\",\"2019-08-08T00:00:00\",\"2012-08-22T00:00:00\",\"2012-08-30T00:00:00\",\"2019-03-27T00:00:00\",\"2020-06-24T00:00:00\",\"2012-05-07T00:00:00\",\"2019-06-06T00:00:00\",\"2020-10-14T00:00:00\",\"2014-01-24T00:00:00\",\"2013-12-05T00:00:00\",\"2015-10-16T00:00:00\",\"2015-10-27T00:00:00\",\"2014-08-12T00:00:00\",\"2015-11-13T00:00:00\",\"2014-03-11T00:00:00\",\"2019-09-30T00:00:00\",\"2019-06-21T00:00:00\",\"2017-01-11T00:00:00\",\"2017-04-19T00:00:00\",\"2015-12-10T00:00:00\",\"2019-02-22T00:00:00\",\"2015-08-20T00:00:00\",\"2014-12-16T00:00:00\",\"2021-10-07T00:00:00\",\"2014-08-11T00:00:00\",\"2019-07-15T00:00:00\",\"2021-01-18T00:00:00\",\"2017-12-18T00:00:00\",\"2012-07-20T00:00:00\",\"2015-03-26T00:00:00\",\"2011-09-30T00:00:00\",\"2016-03-30T00:00:00\",\"2011-03-28T00:00:00\",\"2018-02-27T00:00:00\",\"2011-06-15T00:00:00\",\"2018-08-09T00:00:00\",\"2011-10-24T00:00:00\",\"2017-11-06T00:00:00\",\"2019-10-18T00:00:00\",\"2016-07-29T00:00:00\",\"2013-02-25T00:00:00\",\"2013-07-26T00:00:00\",\"2019-08-22T00:00:00\",\"2019-09-23T00:00:00\",\"2013-07-15T00:00:00\",\"2014-11-27T00:00:00\",\"2022-01-19T00:00:00\"],\"y\":[[136.74339294433594],[173.7216033935547],[74.77459716796875],[176.5907440185547],[135.21665954589844],[142.87510681152344],[51.07894515991211],[131.48196411132812],[601.05615234375],[331.6788330078125],[621.6568603515625],[539.0360107421875],[956.9163208007812],[61.978309631347656],[64.28926086425781],[114.4393539428711],[696.3667602539062],[692.70849609375],[300.9571838378906],[633.1895141601562],[87.46730041503906],[605.1605834960938],[597.8499755859375],[61.44302749633789],[403.1233825683594],[204.92535400390625],[63.02698516845703],[1681.4661865234375],[171.92953491210938],[430.45135498046875],[565.2514038085938],[435.708740234375],[182.12940979003906],[72.38800811767578],[580.3064575195312],[296.8559875488281],[183.75723266601562],[634.4373168945312],[62.40068054199219],[69.6094970703125],[70.291015625],[72.08650207519531],[890.6502075195312],[453.5685729980469],[603.489990234375],[260.9069519042969],[905.5048217773438],[811.0248413085938],[525.9027709960938],[68.75569152832031],[87.02654266357422],[960.098876953125],[1401.521484375],[92.51822662353516],[695.0123291015625],[314.40692138671875],[398.369384765625],[541.800537109375],[286.51580810546875],[127.96599578857422],[1686.782958984375],[56.37084197998047],[122.29672241210938],[519.0927124023438],[1653.528564453125],[309.52838134765625],[735.9688110351562],[238.92593383789062],[708.1393432617188],[270.88836669921875],[69.71710205078125],[49.20492172241211],[140.69200134277344],[502.8953857421875],[501.2701721191406],[516.1165771484375],[44.5635986328125],[737.1619262695312],[425.40838623046875],[492.1271057128906],[47.18288040161133],[145.26715087890625],[41.06101608276367],[300.0054016113281],[52.19072723388672],[85.81661224365234],[81.49320220947266],[48.874794006347656],[903.68798828125],[207.06814575195312],[47.90866470336914],[107.0046615600586],[386.2501220703125],[546.6517333984375],[260.5382080078125],[1117.336669921875],[868.641357421875],[605.1148071289062],[706.5119018554688],[179.72999572753906],[64.58541870117188],[471.494384765625],[421.2025146484375],[81.51962280273438],[123.8035659790039],[754.1954345703125],[42.354591369628906],[950.8349609375],[176.47938537597656],[1824.6087646484375],[187.54388427734375],[193.00131225585938],[64.42925262451172],[70.8852310180664],[92.80107116699219],[1665.7249755859375],[46.91650390625],[508.61358642578125],[82.10893249511719],[635.4801635742188],[786.3426513671875],[48.04013442993164],[133.82919311523438],[315.9068603515625],[894.593994140625],[1422.1300048828125],[517.7716064453125],[77.11701965332031],[1179.56689453125],[629.5360107421875],[45.524871826171875],[698.4817504882812],[754.8807373046875],[974.9193725585938],[1618.1173095703125],[576.1349487304688],[39.57414245605469],[701.963623046875],[42.179813385009766],[537.6895141601562],[81.92570495605469],[43.71511459350586],[145.23733520507812],[281.92620849609375],[41.67974853515625],[41.40004348754883],[428.9613952636719],[50.37983322143555],[556.369873046875],[597.0581665039062],[69.40060424804688],[130.25857543945312],[84.17402648925781],[186.5322723388672],[64.22615814208984],[583.4431762695312],[544.014404296875],[275.1290588378906],[819.2667236328125],[80.13792419433594],[72.57794189453125],[1227.8270263671875],[146.34133911132812],[186.68174743652344],[104.91600799560547],[90.1613540649414],[501.0009460449219],[130.91497802734375],[448.9840393066406],[43.58919143676758],[482.1805419921875],[65.31851959228516],[1051.9169921875],[90.9636001586914],[179.14759826660156],[293.2032470703125],[175.63394165039062],[71.00932312011719],[52.989925384521484],[84.38697814941406],[50.030269622802734],[1231.156005859375],[524.3523559570312],[541.1727905273438],[69.80445098876953],[496.738525390625],[1805.971923828125],[92.31462860107422],[823.5167236328125],[84.58572387695312],[69.42088317871094],[897.923095703125],[94.4896469116211],[196.93389892578125],[1024.639892578125],[81.03155517578125],[941.9510498046875],[67.93168640136719],[1773.121826171875],[66.26728057861328],[84.22354888916016],[729.9197387695312],[77.9200210571289],[501.91827392578125],[131.88970947265625],[75.46199798583984],[1115.689453125],[832.4080810546875],[435.17462158203125],[270.260498046875],[891.7789306640625],[39.59836196899414],[627.3947143554688],[511.47021484375],[1715.1749267578125],[270.5943908691406],[42.45103073120117],[983.652099609375],[358.0849304199219],[47.428016662597656],[75.23019409179688],[194.03176879882812],[91.90756225585938],[195.0870819091797],[93.03368377685547],[57.2492561340332],[362.95355224609375],[142.3529815673828],[66.99222564697266],[171.04344177246094],[67.66363525390625],[178.61390686035156],[126.086181640625],[52.888221740722656],[667.5889892578125],[487.3664245605469],[180.0092010498047],[515.6380004882812],[416.4335632324219],[712.92822265625],[1695.5546875],[959.6394653320312],[529.0035400390625],[600.7822875976562],[903.6031494140625],[822.444580078125],[186.09872436523438],[1614.5377197265625],[110.92342376708984],[653.2631225585938],[61.33407974243164],[1018.1014404296875],[91.59750366210938],[982.1796875],[951.2094116210938],[64.25338745117188],[51.0498046875],[111.9876480102539],[1197.824951171875],[542.6983032226562],[229.83152770996094],[572.2727661132812],[676.6575317382812],[460.93798828125],[709.7782592773438],[76.98826599121094],[58.14775085449219],[649.116455078125],[61.99287796020508],[521.6303100585938],[165.4232940673828],[1638.1319580078125],[86.33817291259766],[263.6627197265625],[950.7406005859375],[92.55329132080078],[943.3328247070312],[46.65496826171875],[599.3310546875],[615.76025390625],[57.46767044067383],[452.7474365234375],[90.96440124511719],[755.8910522460938],[52.928688049316406],[49.042686462402344],[242.2049102783203],[43.02737045288086],[43.40998840332031],[71.43622589111328],[70.98947143554688],[40.89810562133789],[49.91375732421875],[62.96871566772461],[259.1229248046875],[1016.7737426757812],[531.80029296875],[146.2766876220703],[970.9037475585938],[46.950401306152344],[511.21588134765625],[201.76260375976562],[532.0446166992188],[193.7729034423828],[1471.489990234375],[709.3893432617188],[46.83900833129883],[90.616943359375],[764.9219970703125],[170.07272338867188],[902.1734619140625],[1120.8155517578125],[541.711181640625],[170.9976348876953],[1710.9464111328125],[537.0349731445312],[1904.7620849609375],[53.15200424194336],[521.9244995117188],[589.5853881835938],[104.30928039550781],[50.302146911621094],[1574.8231201171875],[105.34864807128906],[942.1256103515625],[177.4102783203125],[58.23211669921875],[178.35610961914062],[635.196044921875],[50.21474838256836],[641.853271484375],[102.26536560058594],[45.66081237792969],[422.8220520019531],[145.83407592773438],[77.43763732910156],[87.46600341796875],[67.41046142578125],[1795.92236328125],[60.94243621826172],[655.2855834960938],[52.4140510559082],[541.474365234375],[189.71583557128906],[63.85626983642578],[509.4624328613281],[52.55485534667969],[83.02509307861328],[144.7002410888672],[288.5140686035156],[47.178035736083984],[66.44972229003906],[573.3499145507812],[71.1929931640625],[41.038902282714844],[59.16037368774414],[82.88642120361328],[105.46800231933594],[47.04726028442383],[91.8877182006836],[1752.3734130859375],[886.4284057617188],[690.4794311523438],[961.1414794921875],[192.3890380859375],[63.0670051574707],[503.6881103515625],[83.3794937133789],[653.4038696289062],[83.81745147705078],[230.6886749267578],[1129.8544921875],[101.01217651367188],[48.08829116821289],[980.213134765625],[596.3988037109375],[66.7652816772461],[64.33296203613281],[521.3814697265625],[62.6351432800293],[903.6849365234375],[73.630615234375],[509.1320495605469],[434.0791931152344],[50.166316986083984],[914.7991333007812],[91.46379852294922],[513.593994140625],[85.847900390625],[56.21062469482422],[167.919921875],[68.70109558105469],[322.3800964355469],[294.7281188964844],[187.0455322265625],[1257.804443359375],[1758.8035888671875],[77.47724914550781],[49.559349060058594],[541.0182495117188],[839.5591430664062],[39.63097381591797],[51.015830993652344],[913.157958984375],[102.88699340820312],[181.50914001464844],[181.45436096191406],[77.46265411376953],[184.0207061767578],[71.3568115234375],[595.42822265625],[170.64517211914062],[751.692138671875],[633.6237182617188],[149.22071838378906],[504.1317443847656],[1712.2742919921875],[625.8075561523438],[195.93336486816406],[987.1309814453125],[48.84894943237305],[594.57373046875],[67.77779388427734],[580.9308471679688],[436.3764343261719],[83.17366790771484],[597.5422973632812],[472.1282653808594],[200.62982177734375],[608.028076171875],[52.598541259765625],[52.821861267089844],[946.4974975585938],[963.7820434570312],[50.00648880004883],[45.56523513793945],[828.1505126953125],[455.21807861328125],[94.55220794677734],[811.5440673828125],[569.142333984375],[504.7698974609375],[1819.50146484375],[87.37816619873047],[71.68938446044922],[1190.2132568359375],[245.229736328125],[628.0250244140625],[523.7390747070312],[188.34690856933594],[146.3313751220703],[1190.5177001953125],[498.019775390625],[56.48976516723633],[48.66603088378906],[663.5308837890625],[67.30126190185547],[1857.498779296875],[67.1973876953125],[77.96880340576172],[43.88875961303711],[818.0661010742188],[128.20965576171875],[90.70608520507812],[1779.4122314453125],[569.0924072265625],[195.116943359375],[52.831573486328125],[68.1749038696289],[149.718017578125],[231.60060119628906],[69.73855590820312],[529.9458618164062],[1522.2080078125],[63.23578643798828],[303.6431579589844],[838.8260498046875],[889.0687866210938],[561.406005859375],[83.3866195678711],[999.1048583984375],[968.3490600585938],[365.888671875],[737.823974609375],[843.8739624023438],[513.9329223632812],[660.8507690429688],[1789.4072265625],[1246.464111328125],[1596.490234375],[302.42230224609375],[813.2001342773438],[73.73452758789062],[143.10885620117188],[1796.0421142578125],[59.37604522705078],[739.80078125],[44.005271911621094],[193.09091186523438],[51.13496398925781],[102.79749298095703],[52.14703369140625],[56.041168212890625],[52.95780563354492],[56.25149917602539],[905.820068359375],[150.27005004882812],[513.6736450195312],[68.929443359375],[905.8050537109375],[66.53184509277344],[169.3559112548828],[75.47781372070312],[1000.3426513671875],[727.3546752929688],[90.12739562988281],[76.62092590332031],[696.189208984375],[603.5416870117188],[69.9404296875],[810.37158203125],[608.9322509765625],[68.1600112915039],[72.56304168701172],[176.2504119873047],[197.61094665527344],[92.52320861816406],[191.8862762451172],[70.57746124267578],[849.3262939453125],[837.0259399414062],[300.8376770019531],[432.5493469238281],[191.42332458496094],[617.9267578125],[187.1073760986328],[130.93983459472656],[1744.3756103515625],[92.39391326904297],[769.6563720703125],[833.9907836914062],[519.5314331054688],[69.47360229492188],[137.176025390625],[50.918731689453125],[169.08596801757812],[50.0403938293457],[510.63262939453125],[53.09647750854492],[705.63916015625],[52.4577522277832],[499.4903869628906],[824.6785888671875],[271.4764404296875],[84.23344421386719],[60.9920768737793],[675.166015625],[827.8512573242188],[65.6135025024414],[113.39501953125],[1804.988525390625]],\"type\":\"scatter\"},{\"name\":\"Predicted Price\",\"x\":[\"2015-03-25T00:00:00\",\"2015-09-24T00:00:00\",\"2013-04-09T00:00:00\",\"2016-06-13T00:00:00\",\"2014-12-08T00:00:00\",\"2015-02-10T00:00:00\",\"2011-08-01T00:00:00\",\"2015-01-20T00:00:00\",\"2020-06-25T00:00:00\",\"2016-10-26T00:00:00\",\"2019-01-29T00:00:00\",\"2018-10-31T00:00:00\",\"2020-02-05T00:00:00\",\"2012-06-05T00:00:00\",\"2012-06-13T00:00:00\",\"2014-11-28T00:00:00\",\"2019-08-29T00:00:00\",\"2018-08-13T00:00:00\",\"2017-01-17T00:00:00\",\"2020-08-18T00:00:00\",\"2012-10-23T00:00:00\",\"2018-09-24T00:00:00\",\"2018-11-30T00:00:00\",\"2013-06-25T00:00:00\",\"2017-03-27T00:00:00\",\"2016-06-17T00:00:00\",\"2012-06-15T00:00:00\",\"2021-09-17T00:00:00\",\"2015-07-24T00:00:00\",\"2017-05-18T00:00:00\",\"2018-12-06T00:00:00\",\"2017-04-24T00:00:00\",\"2015-10-23T00:00:00\",\"2012-08-01T00:00:00\",\"2018-11-28T00:00:00\",\"2017-01-06T00:00:00\",\"2015-07-31T00:00:00\",\"2020-09-03T00:00:00\",\"2012-06-21T00:00:00\",\"2013-11-20T00:00:00\",\"2012-07-23T00:00:00\",\"2013-12-27T00:00:00\",\"2019-12-10T00:00:00\",\"2017-05-15T00:00:00\",\"2019-01-28T00:00:00\",\"2016-12-26T00:00:00\",\"2021-01-22T00:00:00\",\"2019-05-29T00:00:00\",\"2017-10-04T00:00:00\",\"2013-12-18T00:00:00\",\"2012-11-26T00:00:00\",\"2020-02-07T00:00:00\",\"2021-08-10T00:00:00\",\"2014-07-24T00:00:00\",\"2018-08-29T00:00:00\",\"2016-10-05T00:00:00\",\"2017-05-25T00:00:00\",\"2020-06-18T00:00:00\",\"2016-12-13T00:00:00\",\"2015-01-01T00:00:00\",\"2021-12-06T00:00:00\",\"2012-02-21T00:00:00\",\"2015-01-06T00:00:00\",\"2017-11-21T00:00:00\",\"2021-08-30T00:00:00\",\"2016-09-29T00:00:00\",\"2019-04-09T00:00:00\",\"2016-07-14T00:00:00\",\"2019-07-31T00:00:00\",\"2016-08-22T00:00:00\",\"2012-05-15T00:00:00\",\"2011-08-23T00:00:00\",\"2015-03-31T00:00:00\",\"2017-09-28T00:00:00\",\"2017-11-10T00:00:00\",\"2017-11-22T00:00:00\",\"2012-02-01T00:00:00\",\"2019-09-13T00:00:00\",\"2017-06-21T00:00:00\",\"2018-02-02T00:00:00\",\"2010-12-06T00:00:00\",\"2015-05-21T00:00:00\",\"2011-01-25T00:00:00\",\"2017-01-10T00:00:00\",\"2011-07-28T00:00:00\",\"2012-08-23T00:00:00\",\"2014-05-07T00:00:00\",\"2011-10-04T00:00:00\",\"2021-01-21T00:00:00\",\"2016-06-24T00:00:00\",\"2012-02-07T00:00:00\",\"2014-09-10T00:00:00\",\"2017-03-02T00:00:00\",\"2018-04-30T00:00:00\",\"2016-07-27T00:00:00\",\"2021-05-11T00:00:00\",\"2019-11-04T00:00:00\",\"2018-06-11T00:00:00\",\"2018-08-10T00:00:00\",\"2015-09-10T00:00:00\",\"2012-04-16T00:00:00\",\"2020-05-15T00:00:00\",\"2017-04-07T00:00:00\",\"2012-09-25T00:00:00\",\"2014-12-03T00:00:00\",\"2019-05-07T00:00:00\",\"2012-01-03T00:00:00\",\"2021-03-17T00:00:00\",\"2015-09-01T00:00:00\",\"2021-11-12T00:00:00\",\"2016-04-20T00:00:00\",\"2016-01-06T00:00:00\",\"2013-06-10T00:00:00\",\"2014-03-13T00:00:00\",\"2014-06-30T00:00:00\",\"2021-11-26T00:00:00\",\"2010-12-02T00:00:00\",\"2018-01-02T00:00:00\",\"2013-01-17T00:00:00\",\"2019-01-11T00:00:00\",\"2019-07-16T00:00:00\",\"2011-05-16T00:00:00\",\"2015-04-21T00:00:00\",\"2017-01-25T00:00:00\",\"2020-12-30T00:00:00\",\"2021-08-09T00:00:00\",\"2018-02-26T00:00:00\",\"2013-04-18T00:00:00\",\"2021-07-01T00:00:00\",\"2018-09-19T00:00:00\",\"2012-01-18T00:00:00\",\"2019-09-05T00:00:00\",\"2019-07-19T00:00:00\",\"2020-02-12T00:00:00\",\"2022-02-04T00:00:00\",\"2018-07-02T00:00:00\",\"2011-02-03T00:00:00\",\"2019-08-28T00:00:00\",\"2011-01-19T00:00:00\",\"2018-10-30T00:00:00\",\"2012-09-24T00:00:00\",\"2010-12-24T00:00:00\",\"2015-01-29T00:00:00\",\"2016-08-01T00:00:00\",\"2011-12-30T00:00:00\",\"2011-02-14T00:00:00\",\"2017-04-21T00:00:00\",\"2011-07-06T00:00:00\",\"2020-10-30T00:00:00\",\"2020-10-19T00:00:00\",\"2012-07-18T00:00:00\",\"2014-12-22T00:00:00\",\"2012-11-06T00:00:00\",\"2016-04-18T00:00:00\",\"2012-05-23T00:00:00\",\"2018-12-07T00:00:00\",\"2017-09-06T00:00:00\",\"2016-08-11T00:00:00\",\"2020-03-09T00:00:00\",\"2013-02-12T00:00:00\",\"2014-01-07T00:00:00\",\"2021-06-29T00:00:00\",\"2015-02-20T00:00:00\",\"2016-05-11T00:00:00\",\"2014-10-28T00:00:00\",\"2013-01-02T00:00:00\",\"2017-08-10T00:00:00\",\"2014-12-30T00:00:00\",\"2020-03-24T00:00:00\",\"2010-12-23T00:00:00\",\"2020-03-25T00:00:00\",\"2012-04-17T00:00:00\",\"2021-02-15T00:00:00\",\"2012-10-05T00:00:00\",\"2015-10-05T00:00:00\",\"2016-11-28T00:00:00\",\"2016-05-24T00:00:00\",\"2014-03-25T00:00:00\",\"2011-03-04T00:00:00\",\"2013-01-31T00:00:00\",\"2011-07-01T00:00:00\",\"2021-06-24T00:00:00\",\"2018-03-27T00:00:00\",\"2018-04-24T00:00:00\",\"2012-07-26T00:00:00\",\"2017-10-26T00:00:00\",\"2021-10-25T00:00:00\",\"2014-06-23T00:00:00\",\"2019-06-19T00:00:00\",\"2014-05-30T00:00:00\",\"2013-12-19T00:00:00\",\"2020-12-11T00:00:00\",\"2012-10-04T00:00:00\",\"2015-11-06T00:00:00\",\"2021-02-25T00:00:00\",\"2014-04-25T00:00:00\",\"2020-01-31T00:00:00\",\"2014-01-20T00:00:00\",\"2021-12-02T00:00:00\",\"2012-07-17T00:00:00\",\"2013-02-01T00:00:00\",\"2019-04-04T00:00:00\",\"2012-09-03T00:00:00\",\"2017-10-27T00:00:00\",\"2015-04-27T00:00:00\",\"2014-01-01T00:00:00\",\"2021-04-29T00:00:00\",\"2019-06-25T00:00:00\",\"2017-07-13T00:00:00\",\"2016-08-18T00:00:00\",\"2020-12-14T00:00:00\",\"2011-01-31T00:00:00\",\"2020-07-06T00:00:00\",\"2017-11-17T00:00:00\",\"2021-10-01T00:00:00\",\"2016-07-26T00:00:00\",\"2011-01-10T00:00:00\",\"2021-04-22T00:00:00\",\"2017-02-14T00:00:00\",\"2012-02-06T00:00:00\",\"2013-03-26T00:00:00\",\"2016-01-14T00:00:00\",\"2014-06-27T00:00:00\",\"2016-01-04T00:00:00\",\"2012-12-10T00:00:00\",\"2013-08-27T00:00:00\",\"2017-02-20T00:00:00\",\"2015-02-25T00:00:00\",\"2012-07-13T00:00:00\",\"2016-03-02T00:00:00\",\"2014-02-11T00:00:00\",\"2016-05-26T00:00:00\",\"2015-01-12T00:00:00\",\"2011-04-20T00:00:00\",\"2020-11-10T00:00:00\",\"2020-04-20T00:00:00\",\"2016-05-23T00:00:00\",\"2018-03-28T00:00:00\",\"2017-04-06T00:00:00\",\"2019-08-21T00:00:00\",\"2022-01-03T00:00:00\",\"2021-03-16T00:00:00\",\"2017-11-29T00:00:00\",\"2018-06-08T00:00:00\",\"2020-12-07T00:00:00\",\"2019-06-18T00:00:00\",\"2016-05-13T00:00:00\",\"2021-12-23T00:00:00\",\"2014-10-08T00:00:00\",\"2018-09-17T00:00:00\",\"2013-06-14T00:00:00\",\"2021-02-18T00:00:00\",\"2012-12-18T00:00:00\",\"2021-03-08T00:00:00\",\"2020-01-23T00:00:00\",\"2013-10-24T00:00:00\",\"2011-09-26T00:00:00\",\"2014-10-01T00:00:00\",\"2021-06-18T00:00:00\",\"2017-08-29T00:00:00\",\"2016-07-08T00:00:00\",\"2018-11-26T00:00:00\",\"2019-07-25T00:00:00\",\"2020-04-27T00:00:00\",\"2018-08-21T00:00:00\",\"2013-04-02T00:00:00\",\"2012-03-26T00:00:00\",\"2020-08-25T00:00:00\",\"2012-06-22T00:00:00\",\"2017-09-22T00:00:00\",\"2016-03-15T00:00:00\",\"2021-12-31T00:00:00\",\"2012-10-18T00:00:00\",\"2016-08-03T00:00:00\",\"2020-02-18T00:00:00\",\"2012-12-17T00:00:00\",\"2020-01-13T00:00:00\",\"2010-12-01T00:00:00\",\"2019-02-04T00:00:00\",\"2020-07-15T00:00:00\",\"2013-09-17T00:00:00\",\"2020-05-19T00:00:00\",\"2014-06-17T00:00:00\",\"2019-04-16T00:00:00\",\"2011-07-20T00:00:00\",\"2011-06-24T00:00:00\",\"2016-07-15T00:00:00\",\"2010-12-22T00:00:00\",\"2011-02-23T00:00:00\",\"2014-01-13T00:00:00\",\"2014-03-21T00:00:00\",\"2011-12-12T00:00:00\",\"2012-02-09T00:00:00\",\"2012-06-18T00:00:00\",\"2016-07-25T00:00:00\",\"2021-02-17T00:00:00\",\"2017-10-10T00:00:00\",\"2015-03-09T00:00:00\",\"2020-02-11T00:00:00\",\"2011-05-26T00:00:00\",\"2018-01-05T00:00:00\",\"2015-12-03T00:00:00\",\"2017-08-08T00:00:00\",\"2015-12-30T00:00:00\",\"2021-08-17T00:00:00\",\"2018-08-14T00:00:00\",\"2011-05-05T00:00:00\",\"2013-01-03T00:00:00\",\"2019-04-25T00:00:00\",\"2015-08-25T00:00:00\",\"2020-01-06T00:00:00\",\"2021-05-20T00:00:00\",\"2017-08-07T00:00:00\",\"2015-07-06T00:00:00\",\"2022-01-04T00:00:00\",\"2018-04-16T00:00:00\",\"2021-10-19T00:00:00\",\"2011-09-08T00:00:00\",\"2017-08-22T00:00:00\",\"2018-06-19T00:00:00\",\"2014-11-19T00:00:00\",\"2011-06-29T00:00:00\",\"2022-02-25T00:00:00\",\"2014-09-22T00:00:00\",\"2019-12-27T00:00:00\",\"2015-10-06T00:00:00\",\"2013-08-12T00:00:00\",\"2015-10-12T00:00:00\",\"2019-01-14T00:00:00\",\"2011-05-31T00:00:00\",\"2019-01-22T00:00:00\",\"2014-09-16T00:00:00\",\"2011-11-23T00:00:00\",\"2017-06-19T00:00:00\",\"2015-05-19T00:00:00\",\"2014-04-11T00:00:00\",\"2012-08-10T00:00:00\",\"2014-01-28T00:00:00\",\"2022-01-06T00:00:00\",\"2013-09-27T00:00:00\",\"2020-08-26T00:00:00\",\"2011-11-02T00:00:00\",\"2018-10-09T00:00:00\",\"2015-10-26T00:00:00\",\"2013-07-16T00:00:00\",\"2020-06-15T00:00:00\",\"2011-10-28T00:00:00\",\"2012-11-09T00:00:00\",\"2015-04-10T00:00:00\",\"2016-12-30T00:00:00\",\"2011-06-22T00:00:00\",\"2012-06-29T00:00:00\",\"2020-11-03T00:00:00\",\"2013-11-26T00:00:00\",\"2011-12-23T00:00:00\",\"2013-08-29T00:00:00\",\"2012-11-15T00:00:00\",\"2014-11-11T00:00:00\",\"2011-05-06T00:00:00\",\"2014-06-12T00:00:00\",\"2021-09-28T00:00:00\",\"2020-03-05T00:00:00\",\"2018-07-23T00:00:00\",\"2020-01-24T00:00:00\",\"2015-11-19T00:00:00\",\"2013-07-05T00:00:00\",\"2018-02-28T00:00:00\",\"2014-05-14T00:00:00\",\"2020-08-28T00:00:00\",\"2012-11-07T00:00:00\",\"2016-07-05T00:00:00\",\"2021-05-07T00:00:00\",\"2014-10-20T00:00:00\",\"2011-08-22T00:00:00\",\"2021-04-20T00:00:00\",\"2018-09-27T00:00:00\",\"2012-04-12T00:00:00\",\"2012-06-12T00:00:00\",\"2020-06-10T00:00:00\",\"2013-10-28T00:00:00\",\"2019-11-15T00:00:00\",\"2012-09-12T00:00:00\",\"2017-12-11T00:00:00\",\"2017-04-20T00:00:00\",\"2011-03-25T00:00:00\",\"2019-12-12T00:00:00\",\"2012-12-11T00:00:00\",\"2018-03-26T00:00:00\",\"2013-01-22T00:00:00\",\"2012-02-22T00:00:00\",\"2016-03-28T00:00:00\",\"2014-01-17T00:00:00\",\"2016-09-28T00:00:00\",\"2016-12-07T00:00:00\",\"2016-06-07T00:00:00\",\"2021-07-20T00:00:00\",\"2021-09-22T00:00:00\",\"2012-08-31T00:00:00\",\"2011-08-04T00:00:00\",\"2018-04-17T00:00:00\",\"2019-06-20T00:00:00\",\"2011-12-21T00:00:00\",\"2011-10-14T00:00:00\",\"2019-11-19T00:00:00\",\"2014-08-27T00:00:00\",\"2016-04-13T00:00:00\",\"2016-05-31T00:00:00\",\"2012-08-28T00:00:00\",\"2016-04-21T00:00:00\",\"2013-11-28T00:00:00\",\"2018-05-22T00:00:00\",\"2015-08-26T00:00:00\",\"2019-04-12T00:00:00\",\"2020-07-22T00:00:00\",\"2015-06-17T00:00:00\",\"2017-12-13T00:00:00\",\"2021-08-31T00:00:00\",\"2020-08-17T00:00:00\",\"2015-10-30T00:00:00\",\"2020-01-29T00:00:00\",\"2011-03-21T00:00:00\",\"2018-10-10T00:00:00\",\"2014-02-13T00:00:00\",\"2018-05-24T00:00:00\",\"2017-05-09T00:00:00\",\"2013-02-05T00:00:00\",\"2020-09-28T00:00:00\",\"2020-04-23T00:00:00\",\"2016-06-21T00:00:00\",\"2019-02-12T00:00:00\",\"2011-09-15T00:00:00\",\"2011-09-22T00:00:00\",\"2021-04-05T00:00:00\",\"2021-04-08T00:00:00\",\"2011-03-30T00:00:00\",\"2011-01-03T00:00:00\",\"2019-10-04T00:00:00\",\"2017-05-16T00:00:00\",\"2014-07-21T00:00:00\",\"2019-10-16T00:00:00\",\"2020-11-02T00:00:00\",\"2018-01-04T00:00:00\",\"2021-10-12T00:00:00\",\"2012-11-30T00:00:00\",\"2014-02-28T00:00:00\",\"2021-07-05T00:00:00\",\"2016-07-18T00:00:00\",\"2018-07-19T00:00:00\",\"2017-10-24T00:00:00\",\"2016-01-22T00:00:00\",\"2015-05-22T00:00:00\",\"2021-06-14T00:00:00\",\"2017-10-30T00:00:00\",\"2013-08-07T00:00:00\",\"2011-08-24T00:00:00\",\"2018-09-03T00:00:00\",\"2014-01-30T00:00:00\",\"2021-10-20T00:00:00\",\"2012-07-03T00:00:00\",\"2014-04-09T00:00:00\",\"2012-01-24T00:00:00\",\"2019-06-07T00:00:00\",\"2015-01-15T00:00:00\",\"2012-12-20T00:00:00\",\"2021-10-29T00:00:00\",\"2020-10-26T00:00:00\",\"2015-11-23T00:00:00\",\"2011-09-05T00:00:00\",\"2014-02-07T00:00:00\",\"2015-06-02T00:00:00\",\"2016-07-07T00:00:00\",\"2013-12-24T00:00:00\",\"2017-10-18T00:00:00\",\"2022-02-24T00:00:00\",\"2013-07-18T00:00:00\",\"2017-01-18T00:00:00\",\"2019-06-26T00:00:00\",\"2020-12-31T00:00:00\",\"2020-10-29T00:00:00\",\"2013-02-06T00:00:00\",\"2021-02-23T00:00:00\",\"2021-02-04T00:00:00\",\"2017-02-16T00:00:00\",\"2019-04-05T00:00:00\",\"2019-10-01T00:00:00\",\"2017-09-29T00:00:00\",\"2020-07-20T00:00:00\",\"2021-11-18T00:00:00\",\"2021-06-25T00:00:00\",\"2022-02-08T00:00:00\",\"2016-09-09T00:00:00\",\"2019-10-29T00:00:00\",\"2013-12-31T00:00:00\",\"2015-05-06T00:00:00\",\"2021-10-28T00:00:00\",\"2012-03-30T00:00:00\",\"2019-08-14T00:00:00\",\"2011-11-25T00:00:00\",\"2015-12-21T00:00:00\",\"2011-03-17T00:00:00\",\"2014-11-14T00:00:00\",\"2011-11-04T00:00:00\",\"2011-03-09T00:00:00\",\"2011-10-21T00:00:00\",\"2013-08-20T00:00:00\",\"2019-11-20T00:00:00\",\"2015-02-13T00:00:00\",\"2017-11-27T00:00:00\",\"2013-11-18T00:00:00\",\"2019-12-11T00:00:00\",\"2013-11-11T00:00:00\",\"2016-02-12T00:00:00\",\"2013-03-21T00:00:00\",\"2021-02-08T00:00:00\",\"2019-08-08T00:00:00\",\"2012-08-22T00:00:00\",\"2012-08-30T00:00:00\",\"2019-03-27T00:00:00\",\"2020-06-24T00:00:00\",\"2012-05-07T00:00:00\",\"2019-06-06T00:00:00\",\"2020-10-14T00:00:00\",\"2014-01-24T00:00:00\",\"2013-12-05T00:00:00\",\"2015-10-16T00:00:00\",\"2015-10-27T00:00:00\",\"2014-08-12T00:00:00\",\"2015-11-13T00:00:00\",\"2014-03-11T00:00:00\",\"2019-09-30T00:00:00\",\"2019-06-21T00:00:00\",\"2017-01-11T00:00:00\",\"2017-04-19T00:00:00\",\"2015-12-10T00:00:00\",\"2019-02-22T00:00:00\",\"2015-08-20T00:00:00\",\"2014-12-16T00:00:00\",\"2021-10-07T00:00:00\",\"2014-08-11T00:00:00\",\"2019-07-15T00:00:00\",\"2021-01-18T00:00:00\",\"2017-12-18T00:00:00\",\"2012-07-20T00:00:00\",\"2015-03-26T00:00:00\",\"2011-09-30T00:00:00\",\"2016-03-30T00:00:00\",\"2011-03-28T00:00:00\",\"2018-02-27T00:00:00\",\"2011-06-15T00:00:00\",\"2018-08-09T00:00:00\",\"2011-10-24T00:00:00\",\"2017-11-06T00:00:00\",\"2019-10-18T00:00:00\",\"2016-07-29T00:00:00\",\"2013-02-25T00:00:00\",\"2013-07-26T00:00:00\",\"2019-08-22T00:00:00\",\"2019-09-23T00:00:00\",\"2013-07-15T00:00:00\",\"2014-11-27T00:00:00\",\"2022-01-19T00:00:00\"],\"y\":[136.09211685180665,174.93944702148437,75.24996208190917,182.22724456787108,129.24451095581054,145.67295974731445,51.6053197479248,128.7846058654785,596.8016940307617,328.8831985473633,618.2532135009766,524.8700372314453,957.661254272461,62.05197120666504,63.42363487243652,112.90457878112792,707.1349230957031,692.2221612548828,301.7696594238281,636.2651641845703,85.97396881103515,625.7249334716797,593.0598522949218,62.34787384033203,408.48134155273436,200.7636000061035,63.010478820800785,1685.0943310546875,171.16750198364258,426.83103759765623,576.455308227539,444.3943902587891,180.9927215576172,72.0609140777588,583.3312457275391,299.3053396606445,182.48183837890625,639.1024664306641,62.8485071182251,69.95734184265137,70.86823684692382,71.76779098510742,891.6173583984375,443.4115756225586,615.1607922363281,261.9839877319336,894.8341033935546,817.8246685791015,524.5759216308594,68.53338989257813,86.555523147583,951.8793249511718,1414.8742541503907,92.2257675933838,697.116986694336,316.4545779418945,399.7399591064453,534.611900024414,295.0688473510742,127.85653457641601,1730.1605615234375,54.487547340393064,123.7444905090332,518.8467474365234,1623.5987561035156,311.61697357177735,734.0978778076172,238.26940383911133,709.6797149658203,268.6873095703125,69.34679519653321,48.979012947082516,140.45859283447265,512.8112506103515,498.5766473388672,516.4733837890625,43.82215274810791,741.9546759033203,420.3464227294922,495.39870697021485,46.73581439971924,145.0302412414551,41.28961093902588,299.3168957519531,52.387084312438965,85.466259765625,82.22713050842285,48.84380920410156,901.2358819580078,201.40990539550782,47.30660099029541,108.77750381469727,385.39901275634764,542.2490441894531,264.9141928100586,1107.9721850585938,850.705913696289,590.9886779785156,691.8102337646484,180.6089974975586,66.4360669708252,470.1503259277344,420.14038330078125,78.94179069519043,115.1401058959961,751.3417626953125,42.937468681335446,939.32556640625,176.5548567199707,1811.604580078125,179.8066976928711,192.52285430908202,66.33560039520263,70.69553024291992,92.61120491027832,1723.6292419433594,46.37291030883789,513.6988232421875,84.28943557739258,627.1093133544922,778.9335986328125,47.3432315826416,137.3735675048828,312.09243072509764,889.2975646972657,1409.5188623046874,513.549539489746,76.43600021362305,1204.1849829101564,640.0695513916015,45.08160091400146,698.0732043457032,748.225576171875,951.7342510986329,1613.434073486328,579.1550592041016,39.64694091796875,713.7008642578126,41.77884346008301,539.6488696289063,78.76502647399903,44.22820945739746,143.7110361480713,269.4732467651367,41.6888459777832,41.14634422302246,442.0827163696289,50.2988614654541,565.7226641845704,593.2092163085938,68.16252983093261,128.6441096496582,84.17810829162597,179.27371307373048,66.68311515808105,591.9924096679688,541.4799261474609,273.4696978759766,850.3510650634765,80.92117225646973,72.58191360473633,1222.4457165527344,146.35451400756835,186.3487728881836,105.68866012573243,90.29515129089356,506.76367828369143,129.66209976196288,531.1829821777344,44.20874137878418,515.9667614746094,67.1785078048706,1023.9003277587891,88.5810498046875,176.27519393920898,295.0729229736328,178.3486100769043,70.76320365905762,48.8790523147583,87.00776138305665,50.0083251953125,1209.1708520507811,520.7820693969727,545.3112048339843,70.24711875915527,502.80915405273436,1814.3105017089845,92.54218978881836,821.2555743408203,87.14245208740235,67.92310646057129,900.2094702148438,90.39199920654296,196.76962829589843,1009.6647845458984,79.54397109985352,940.8485333251953,68.71666824340821,1731.9059045410156,66.6722338104248,85.2044760131836,727.0670715332031,77.14598953247071,503.4039566040039,133.2048782348633,73.99257019042969,1055.371104736328,831.1583349609375,427.55693756103517,269.2864013671875,876.9110211181641,39.960841789245606,619.4637786865235,509.5210202026367,1748.8626416015625,264.53531677246093,42.771295394897464,981.8634429931641,362.05172088623044,46.48085174560547,76.03246109008789,193.61953216552735,91.91996597290039,193.97928649902343,92.24249313354493,57.402443161010744,364.60121978759764,142.5611894226074,66.86231544494629,166.89330657958985,67.26918838500977,178.93197357177735,125.12003387451172,52.09010181427002,647.024057006836,490.65473541259763,180.0971272277832,515.5911141967773,411.9191833496094,722.7916027832031,1661.2392272949219,955.2954443359375,527.9748760986328,583.7208374023437,889.2578234863281,821.00625,185.5170120239258,1596.735,108.39448524475098,652.0963879394532,61.533080101013184,1021.7592010498047,91.66329109191895,985.5864520263672,956.0305865478516,63.790865936279296,50.86761005401611,110.55700881958008,1184.6980590820312,534.696149597168,236.0844876098633,570.1390997314453,699.5741290283203,471.5389465332031,707.9821063232422,76.61952674865722,58.868248291015625,637.5241967773437,63.025674972534176,539.9684729003907,165.06852981567383,1622.0945959472656,84.02896522521972,267.8610430908203,943.4627270507813,91.85966468811036,940.9590515136719,45.614245376586915,608.5851403808593,626.4560394287109,57.68473300933838,455.70812530517577,91.00826652526855,753.0251202392578,52.6211385345459,49.28479682922363,240.8817623901367,43.781954536437986,43.55917991638184,71.94809349060058,70.84594650268555,42.664792938232424,48.41325862884521,63.30912315368652,259.65720596313474,1027.1441766357423,533.7494421386718,142.90128829956055,961.4974829101562,47.86668312072754,515.3898648071289,198.80738021850587,527.7553286743164,196.26572296142578,1476.4952722167968,697.7013702392578,47.990352897644044,90.71653968811034,760.9267065429688,173.93121551513673,915.5401666259766,1122.5215539550782,522.8967706298828,170.21457733154296,1694.2927282714843,532.3722644042969,1857.241717529297,53.28701629638672,510.9739114379883,596.8094805908203,104.60135414123535,49.76343463897705,1610.586622314453,105.02222595214843,936.0545440673828,176.2754052734375,58.66741836547852,177.3393688964844,631.9756567382813,48.469451370239256,641.0775903320313,103.6680184173584,45.99860847473145,418.59273193359377,144.7115739440918,77.82576210021972,85.67122688293458,67.34749877929687,1762.066044921875,60.83408473968506,643.4610101318359,52.30076686859131,548.6442163085937,183.09014541625976,63.73042263031006,528.7673785400391,52.36230522155762,83.22642761230469,143.83099731445313,289.3857711791992,47.783018341064455,65.99056884765625,565.7334906005859,70.77626853942871,40.9246883392334,58.17304599761963,83.36856796264648,109.60711059570312,47.6799694442749,91.62206832885742,1778.1591833496093,876.3246875,671.2726727294922,958.9872320556641,190.59729766845703,63.276273040771486,498.83408996582034,82.74013343811035,644.3039880371093,84.20571144104004,233.98416687011718,1109.704835205078,101.4043482208252,48.00212951660156,975.9436322021485,613.8311138916016,67.0419989013672,64.73197978973388,525.4180160522461,61.66463161468506,905.7814117431641,76.35351150512696,504.4398159790039,442.172751159668,50.858790168762205,911.3679138183594,91.6022720336914,514.1169552612305,85.84593704223633,54.934579086303714,168.63029724121094,69.23313873291016,323.40821716308596,294.9611996459961,189.72469482421874,1283.8010717773439,1754.0294873046876,77.02285148620605,49.39195369720459,533.9334857177735,830.0300799560547,40.065343627929686,51.22885589599609,904.1602618408203,102.04015449523926,178.1050247192383,181.9243650817871,77.2998053741455,179.7332162475586,71.48443664550781,576.7726278686523,174.22188095092773,753.3474206542969,632.3741107177734,149.50765655517577,505.47870666503906,1700.6070593261718,632.6144311523437,196.476484375,965.0782122802734,50.724393920898436,568.5158081054688,67.26991260528564,583.7216735839844,440.48726165771484,84.09032958984375,590.2629260253906,474.8103851318359,199.8794288635254,603.8172979736328,52.83909858703613,52.767164421081546,950.57919921875,964.3593096923828,49.97636829376221,45.31550148010254,834.6261700439453,441.60572937011716,93.08307266235352,782.5826373291015,575.7745202636719,513.5062521362305,1807.5779650878906,86.69452926635742,71.2767091369629,1193.5548254394532,248.75097335815428,637.735107421875,518.7926049804687,186.84903015136717,146.56004089355469,1183.4218725585938,502.567331237793,58.13402008056641,48.91817035675049,667.320560913086,67.37438011169434,1841.5465051269532,65.95540153503418,77.72014213562012,44.13815528869629,810.7925891113281,127.84444717407227,90.71483749389648,1766.6534643554687,572.3988122558594,192.16433654785158,52.88481616973877,68.03236755371094,150.32864135742187,234.89110610961913,70.63152229309082,533.5935317993165,1612.7512463378907,62.79427043914795,308.40847869873045,841.100609741211,887.7906701660156,569.0058306884765,83.81276573181152,1004.7383288574218,961.4797778320312,364.1649349975586,730.5349877929688,839.4498126220703,518.4242407226562,638.6529272460938,1766.4164624023438,1223.6754516601563,1612.1900463867187,302.4826040649414,815.7181890869141,73.01576972961426,143.51341766357422,1797.0445837402344,58.984882545471194,743.5697741699219,44.66901195526123,191.26658767700195,50.88861980438232,104.49632385253906,51.92949592590332,54.26017448425293,52.89561855316162,56.524814186096194,902.0166564941406,147.71906127929688,517.6857534790039,68.4571612548828,898.3640649414062,66.54023643493652,171.92692428588867,75.90103202819824,986.8305163574219,733.5292572021484,87.80229347229005,76.14518424987793,697.7753521728515,600.2980709838868,70.03282684326172,821.1347778320312,602.1036822509766,68.01991844177246,72.83727172851563,177.22341842651366,190.30284591674805,92.743316116333,190.39500549316406,70.69615280151368,841.8674029541015,833.1291149902344,304.0378546142578,440.34026306152344,191.48313735961915,618.9182720947266,189.51866256713868,128.61371520996093,1753.1163745117187,92.46244873046875,771.7628375244141,864.9207250976563,520.0233483886718,70.54564220428466,133.8988052368164,49.93468631744385,171.1370863342285,50.140811157226565,507.28899963378905,52.72279430389404,693.7624163818359,52.39064044952393,498.69406555175783,803.9192657470703,267.8421929931641,83.05947723388672,61.121926078796385,704.9917810058594,774.9870349121094,65.37104946136475,111.66833274841309,1784.2525561523437],\"type\":\"scatter\"}],                        {\"template\":{\"data\":{\"histogram2dcontour\":[{\"type\":\"histogram2dcontour\",\"colorbar\":{\"outlinewidth\":0,\"ticks\":\"\"},\"colorscale\":[[0.0,\"#0d0887\"],[0.1111111111111111,\"#46039f\"],[0.2222222222222222,\"#7201a8\"],[0.3333333333333333,\"#9c179e\"],[0.4444444444444444,\"#bd3786\"],[0.5555555555555556,\"#d8576b\"],[0.6666666666666666,\"#ed7953\"],[0.7777777777777778,\"#fb9f3a\"],[0.8888888888888888,\"#fdca26\"],[1.0,\"#f0f921\"]]}],\"choropleth\":[{\"type\":\"choropleth\",\"colorbar\":{\"outlinewidth\":0,\"ticks\":\"\"}}],\"histogram2d\":[{\"type\":\"histogram2d\",\"colorbar\":{\"outlinewidth\":0,\"ticks\":\"\"},\"colorscale\":[[0.0,\"#0d0887\"],[0.1111111111111111,\"#46039f\"],[0.2222222222222222,\"#7201a8\"],[0.3333333333333333,\"#9c179e\"],[0.4444444444444444,\"#bd3786\"],[0.5555555555555556,\"#d8576b\"],[0.6666666666666666,\"#ed7953\"],[0.7777777777777778,\"#fb9f3a\"],[0.8888888888888888,\"#fdca26\"],[1.0,\"#f0f921\"]]}],\"heatmap\":[{\"type\":\"heatmap\",\"colorbar\":{\"outlinewidth\":0,\"ticks\":\"\"},\"colorscale\":[[0.0,\"#0d0887\"],[0.1111111111111111,\"#46039f\"],[0.2222222222222222,\"#7201a8\"],[0.3333333333333333,\"#9c179e\"],[0.4444444444444444,\"#bd3786\"],[0.5555555555555556,\"#d8576b\"],[0.6666666666666666,\"#ed7953\"],[0.7777777777777778,\"#fb9f3a\"],[0.8888888888888888,\"#fdca26\"],[1.0,\"#f0f921\"]]}],\"heatmapgl\":[{\"type\":\"heatmapgl\",\"colorbar\":{\"outlinewidth\":0,\"ticks\":\"\"},\"colorscale\":[[0.0,\"#0d0887\"],[0.1111111111111111,\"#46039f\"],[0.2222222222222222,\"#7201a8\"],[0.3333333333333333,\"#9c179e\"],[0.4444444444444444,\"#bd3786\"],[0.5555555555555556,\"#d8576b\"],[0.6666666666666666,\"#ed7953\"],[0.7777777777777778,\"#fb9f3a\"],[0.8888888888888888,\"#fdca26\"],[1.0,\"#f0f921\"]]}],\"contourcarpet\":[{\"type\":\"contourcarpet\",\"colorbar\":{\"outlinewidth\":0,\"ticks\":\"\"}}],\"contour\":[{\"type\":\"contour\",\"colorbar\":{\"outlinewidth\":0,\"ticks\":\"\"},\"colorscale\":[[0.0,\"#0d0887\"],[0.1111111111111111,\"#46039f\"],[0.2222222222222222,\"#7201a8\"],[0.3333333333333333,\"#9c179e\"],[0.4444444444444444,\"#bd3786\"],[0.5555555555555556,\"#d8576b\"],[0.6666666666666666,\"#ed7953\"],[0.7777777777777778,\"#fb9f3a\"],[0.8888888888888888,\"#fdca26\"],[1.0,\"#f0f921\"]]}],\"surface\":[{\"type\":\"surface\",\"colorbar\":{\"outlinewidth\":0,\"ticks\":\"\"},\"colorscale\":[[0.0,\"#0d0887\"],[0.1111111111111111,\"#46039f\"],[0.2222222222222222,\"#7201a8\"],[0.3333333333333333,\"#9c179e\"],[0.4444444444444444,\"#bd3786\"],[0.5555555555555556,\"#d8576b\"],[0.6666666666666666,\"#ed7953\"],[0.7777777777777778,\"#fb9f3a\"],[0.8888888888888888,\"#fdca26\"],[1.0,\"#f0f921\"]]}],\"mesh3d\":[{\"type\":\"mesh3d\",\"colorbar\":{\"outlinewidth\":0,\"ticks\":\"\"}}],\"scatter\":[{\"fillpattern\":{\"fillmode\":\"overlay\",\"size\":10,\"solidity\":0.2},\"type\":\"scatter\"}],\"parcoords\":[{\"type\":\"parcoords\",\"line\":{\"colorbar\":{\"outlinewidth\":0,\"ticks\":\"\"}}}],\"scatterpolargl\":[{\"type\":\"scatterpolargl\",\"marker\":{\"colorbar\":{\"outlinewidth\":0,\"ticks\":\"\"}}}],\"bar\":[{\"error_x\":{\"color\":\"#2a3f5f\"},\"error_y\":{\"color\":\"#2a3f5f\"},\"marker\":{\"line\":{\"color\":\"#E5ECF6\",\"width\":0.5},\"pattern\":{\"fillmode\":\"overlay\",\"size\":10,\"solidity\":0.2}},\"type\":\"bar\"}],\"scattergeo\":[{\"type\":\"scattergeo\",\"marker\":{\"colorbar\":{\"outlinewidth\":0,\"ticks\":\"\"}}}],\"scatterpolar\":[{\"type\":\"scatterpolar\",\"marker\":{\"colorbar\":{\"outlinewidth\":0,\"ticks\":\"\"}}}],\"histogram\":[{\"marker\":{\"pattern\":{\"fillmode\":\"overlay\",\"size\":10,\"solidity\":0.2}},\"type\":\"histogram\"}],\"scattergl\":[{\"type\":\"scattergl\",\"marker\":{\"colorbar\":{\"outlinewidth\":0,\"ticks\":\"\"}}}],\"scatter3d\":[{\"type\":\"scatter3d\",\"line\":{\"colorbar\":{\"outlinewidth\":0,\"ticks\":\"\"}},\"marker\":{\"colorbar\":{\"outlinewidth\":0,\"ticks\":\"\"}}}],\"scattermapbox\":[{\"type\":\"scattermapbox\",\"marker\":{\"colorbar\":{\"outlinewidth\":0,\"ticks\":\"\"}}}],\"scatterternary\":[{\"type\":\"scatterternary\",\"marker\":{\"colorbar\":{\"outlinewidth\":0,\"ticks\":\"\"}}}],\"scattercarpet\":[{\"type\":\"scattercarpet\",\"marker\":{\"colorbar\":{\"outlinewidth\":0,\"ticks\":\"\"}}}],\"carpet\":[{\"aaxis\":{\"endlinecolor\":\"#2a3f5f\",\"gridcolor\":\"white\",\"linecolor\":\"white\",\"minorgridcolor\":\"white\",\"startlinecolor\":\"#2a3f5f\"},\"baxis\":{\"endlinecolor\":\"#2a3f5f\",\"gridcolor\":\"white\",\"linecolor\":\"white\",\"minorgridcolor\":\"white\",\"startlinecolor\":\"#2a3f5f\"},\"type\":\"carpet\"}],\"table\":[{\"cells\":{\"fill\":{\"color\":\"#EBF0F8\"},\"line\":{\"color\":\"white\"}},\"header\":{\"fill\":{\"color\":\"#C8D4E3\"},\"line\":{\"color\":\"white\"}},\"type\":\"table\"}],\"barpolar\":[{\"marker\":{\"line\":{\"color\":\"#E5ECF6\",\"width\":0.5},\"pattern\":{\"fillmode\":\"overlay\",\"size\":10,\"solidity\":0.2}},\"type\":\"barpolar\"}],\"pie\":[{\"automargin\":true,\"type\":\"pie\"}]},\"layout\":{\"autotypenumbers\":\"strict\",\"colorway\":[\"#636efa\",\"#EF553B\",\"#00cc96\",\"#ab63fa\",\"#FFA15A\",\"#19d3f3\",\"#FF6692\",\"#B6E880\",\"#FF97FF\",\"#FECB52\"],\"font\":{\"color\":\"#2a3f5f\"},\"hovermode\":\"closest\",\"hoverlabel\":{\"align\":\"left\"},\"paper_bgcolor\":\"white\",\"plot_bgcolor\":\"#E5ECF6\",\"polar\":{\"bgcolor\":\"#E5ECF6\",\"angularaxis\":{\"gridcolor\":\"white\",\"linecolor\":\"white\",\"ticks\":\"\"},\"radialaxis\":{\"gridcolor\":\"white\",\"linecolor\":\"white\",\"ticks\":\"\"}},\"ternary\":{\"bgcolor\":\"#E5ECF6\",\"aaxis\":{\"gridcolor\":\"white\",\"linecolor\":\"white\",\"ticks\":\"\"},\"baxis\":{\"gridcolor\":\"white\",\"linecolor\":\"white\",\"ticks\":\"\"},\"caxis\":{\"gridcolor\":\"white\",\"linecolor\":\"white\",\"ticks\":\"\"}},\"coloraxis\":{\"colorbar\":{\"outlinewidth\":0,\"ticks\":\"\"}},\"colorscale\":{\"sequential\":[[0.0,\"#0d0887\"],[0.1111111111111111,\"#46039f\"],[0.2222222222222222,\"#7201a8\"],[0.3333333333333333,\"#9c179e\"],[0.4444444444444444,\"#bd3786\"],[0.5555555555555556,\"#d8576b\"],[0.6666666666666666,\"#ed7953\"],[0.7777777777777778,\"#fb9f3a\"],[0.8888888888888888,\"#fdca26\"],[1.0,\"#f0f921\"]],\"sequentialminus\":[[0.0,\"#0d0887\"],[0.1111111111111111,\"#46039f\"],[0.2222222222222222,\"#7201a8\"],[0.3333333333333333,\"#9c179e\"],[0.4444444444444444,\"#bd3786\"],[0.5555555555555556,\"#d8576b\"],[0.6666666666666666,\"#ed7953\"],[0.7777777777777778,\"#fb9f3a\"],[0.8888888888888888,\"#fdca26\"],[1.0,\"#f0f921\"]],\"diverging\":[[0,\"#8e0152\"],[0.1,\"#c51b7d\"],[0.2,\"#de77ae\"],[0.3,\"#f1b6da\"],[0.4,\"#fde0ef\"],[0.5,\"#f7f7f7\"],[0.6,\"#e6f5d0\"],[0.7,\"#b8e186\"],[0.8,\"#7fbc41\"],[0.9,\"#4d9221\"],[1,\"#276419\"]]},\"xaxis\":{\"gridcolor\":\"white\",\"linecolor\":\"white\",\"ticks\":\"\",\"title\":{\"standoff\":15},\"zerolinecolor\":\"white\",\"automargin\":true,\"zerolinewidth\":2},\"yaxis\":{\"gridcolor\":\"white\",\"linecolor\":\"white\",\"ticks\":\"\",\"title\":{\"standoff\":15},\"zerolinecolor\":\"white\",\"automargin\":true,\"zerolinewidth\":2},\"scene\":{\"xaxis\":{\"backgroundcolor\":\"#E5ECF6\",\"gridcolor\":\"white\",\"linecolor\":\"white\",\"showbackground\":true,\"ticks\":\"\",\"zerolinecolor\":\"white\",\"gridwidth\":2},\"yaxis\":{\"backgroundcolor\":\"#E5ECF6\",\"gridcolor\":\"white\",\"linecolor\":\"white\",\"showbackground\":true,\"ticks\":\"\",\"zerolinecolor\":\"white\",\"gridwidth\":2},\"zaxis\":{\"backgroundcolor\":\"#E5ECF6\",\"gridcolor\":\"white\",\"linecolor\":\"white\",\"showbackground\":true,\"ticks\":\"\",\"zerolinecolor\":\"white\",\"gridwidth\":2}},\"shapedefaults\":{\"line\":{\"color\":\"#2a3f5f\"}},\"annotationdefaults\":{\"arrowcolor\":\"#2a3f5f\",\"arrowhead\":0,\"arrowwidth\":1},\"geo\":{\"bgcolor\":\"white\",\"landcolor\":\"#E5ECF6\",\"subunitcolor\":\"white\",\"showland\":true,\"showlakes\":true,\"lakecolor\":\"white\"},\"title\":{\"x\":0.05},\"mapbox\":{\"style\":\"light\"}}},\"title\":{\"text\":\"Actual vs. Predicted Prices\"},\"xaxis\":{\"title\":{\"text\":\"Date\"}},\"yaxis\":{\"title\":{\"text\":\"Price\"}}},                        {\"responsive\": true}                    ).then(function(){\n",
       "                            \n",
       "var gd = document.getElementById('9eb98308-3b50-423c-8079-0120152ae2b5');\n",
       "var x = new MutationObserver(function (mutations, observer) {{\n",
       "        var display = window.getComputedStyle(gd).display;\n",
       "        if (!display || display === 'none') {{\n",
       "            console.log([gd, 'removed!']);\n",
       "            Plotly.purge(gd);\n",
       "            observer.disconnect();\n",
       "        }}\n",
       "}});\n",
       "\n",
       "// Listen for the removal of the full notebook cells\n",
       "var notebookContainer = gd.closest('#notebook-container');\n",
       "if (notebookContainer) {{\n",
       "    x.observe(notebookContainer, {childList: true});\n",
       "}}\n",
       "\n",
       "// Listen for the clearing of the current output cell\n",
       "var outputEl = gd.closest('.output');\n",
       "if (outputEl) {{\n",
       "    x.observe(outputEl, {childList: true});\n",
       "}}\n",
       "\n",
       "                        })                };                });            </script>        </div>"
      ]
     },
     "metadata": {},
     "output_type": "display_data"
    }
   ],
   "source": [
    "import plotly.graph_objects as go\n",
    "\n",
    "# Create a figure with two subplots\n",
    "fig = go.Figure(data=[\n",
    "    go.Scatter(x=y_test.index, y=y_test.values, name='Actual Price'),\n",
    "    go.Scatter(x=y_test.index, y=y_pred, name='Predicted Price')\n",
    "])\n",
    "\n",
    "# Set the title and labels\n",
    "fig.update_layout(title='Actual vs. Predicted Prices',\n",
    "                   xaxis_title='Date',\n",
    "                   yaxis_title='Price')\n",
    "\n",
    "# Show the plot\n",
    "fig.show()"
   ]
  },
  {
   "cell_type": "markdown",
   "id": "66b18985",
   "metadata": {},
   "source": [
    "**Baseline Model**"
   ]
  },
  {
   "cell_type": "markdown",
   "id": "dec9fd1e",
   "metadata": {},
   "source": [
    "Calculating MSE of Baseline Model"
   ]
  },
  {
   "cell_type": "code",
   "execution_count": 24,
   "id": "a836496f",
   "metadata": {},
   "outputs": [
    {
     "name": "stdout",
     "output_type": "stream",
     "text": [
      "Baseline MSE: 192798.72969679962\n"
     ]
    }
   ],
   "source": [
    "# Calculate historical average price\n",
    "baseline_prediction = stock_data['Close'].mean()\n",
    "\n",
    "# Create an array of baseline predictions\n",
    "baseline_predictions = [baseline_prediction] * len(y_test)\n",
    "\n",
    "# Calculate MSE of baseline model\n",
    "baseline_mse = mean_squared_error(y_test, baseline_predictions)\n",
    "\n",
    "print(f'Baseline MSE: {baseline_mse}')"
   ]
  },
  {
   "cell_type": "markdown",
   "id": "d64b39fd",
   "metadata": {},
   "source": [
    "**Comparing with Your Model**"
   ]
  },
  {
   "cell_type": "code",
   "execution_count": 25,
   "id": "91f6213c",
   "metadata": {},
   "outputs": [
    {
     "name": "stdout",
     "output_type": "stream",
     "text": [
      "Your Model MSE: 115.80510244860055\n",
      "Your model is performing better than the baseline!\n"
     ]
    }
   ],
   "source": [
    "# Print MSE of your model\n",
    "print(f'Your Model MSE: {mse}')\n",
    "\n",
    "# Check if your model is performing better than the baseline\n",
    "if mse < baseline_mse:\n",
    "    print('Your model is performing better than the baseline!')\n",
    "else:\n",
    "    print('Your model is not performing better than the baseline.')\n"
   ]
  },
  {
   "cell_type": "markdown",
   "id": "d6c415da",
   "metadata": {},
   "source": [
    "# Project Conclusion:\n",
    "\n",
    "Our stock price prediction model, utilizing technical indicators and machine learning algorithms, achieved a significant improvement in accuracy compared to a baseline model. Key findings:\n",
    "\n",
    "- The model effectively captured patterns in the data, reducing MSE by 99.94%.\n",
    "- Technical indicators, such as Moving Averages and RSI, provided valuable insights into stock price movements.\n",
    "- The Random Forest Regressor algorithm proved effective in predicting stock prices.\n",
    "\n",
    "This project demonstrates the potential of machine learning and technical analysis in stock price prediction, providing a solid foundation for further research and development."
   ]
  }
 ],
 "metadata": {
  "kernelspec": {
   "display_name": "Python 3",
   "language": "python",
   "name": "python3"
  },
  "language_info": {
   "codemirror_mode": {
    "name": "ipython",
    "version": 3
   },
   "file_extension": ".py",
   "mimetype": "text/x-python",
   "name": "python",
   "nbconvert_exporter": "python",
   "pygments_lexer": "ipython3",
   "version": "3.11.5"
  }
 },
 "nbformat": 4,
 "nbformat_minor": 5
}
